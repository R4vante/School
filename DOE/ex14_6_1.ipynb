{
 "cells": [
  {
   "cell_type": "code",
   "execution_count": 122,
   "metadata": {},
   "outputs": [],
   "source": [
    "import pandas as pd\n",
    "import numpy as np\n",
    "\n",
    "import statsmodels.api as sm\n",
    "from statsmodels.formula.api import ols\n",
    "from statsmodels.stats.anova import anova_lm\n",
    "from statsmodels.graphics.factorplots import interaction_plot\n",
    "import matplotlib.pyplot as plt\n",
    "from scipy import stats\n",
    "\n",
    "plt.style.use('seaborn-v0_8-colorblind')"
   ]
  },
  {
   "attachments": {},
   "cell_type": "markdown",
   "metadata": {},
   "source": [
    "# Set Variables"
   ]
  },
  {
   "cell_type": "code",
   "execution_count": 123,
   "metadata": {},
   "outputs": [],
   "source": [
    "n = 2\n",
    "a = 4\n",
    "b = 4\n",
    "alpha = 0.05"
   ]
  },
  {
   "attachments": {},
   "cell_type": "markdown",
   "metadata": {},
   "source": [
    "# Nulhypotheses\n",
    "\n",
    "- Temperatuur\n",
    "\n",
    "H0: $$\\tau_1 = \\tau_2 = 0$$\n",
    "H1: $$\\tau_i \\neq 0  \\text{ voor tenminste één } \\tau$$\n",
    "\n",
    "- Koper concentratie\n",
    "\n",
    "H0: $$\\beta_1 = \\beta_2 = 0$$\n",
    "H1: $$\\beta_i \\neq 0  \\text{ voor tenminste één } \\beta$$\n",
    "\n",
    "- Combinatie\n",
    "\n",
    "H0: $$(\\tau\\beta)_{11} = (\\tau\\beta)_{12} = ... = (\\tau\\beta)_{ij} = 0$$\n",
    "H1: $$(\\tau\\beta)_{ij} \\neq 0 \\text{ voor tenminste één } \\tau\\beta$$"
   ]
  },
  {
   "attachments": {},
   "cell_type": "markdown",
   "metadata": {},
   "source": [
    "# Lees excel tabel en vul dataframe\n",
    "\n",
    "aangevuld met:\n",
    "\n",
    "- gemiddelde temperatuur\n",
    "- gemiddelde coperconcentratie"
   ]
  },
  {
   "cell_type": "code",
   "execution_count": 124,
   "metadata": {},
   "outputs": [],
   "source": [
    "Data = pd.read_excel(\"opdrachten14.xlsx\", sheet_name=\"14.6\")"
   ]
  },
  {
   "cell_type": "code",
   "execution_count": 125,
   "metadata": {},
   "outputs": [],
   "source": [
    "A_names = Data[\"Temp\"].unique().tolist()"
   ]
  },
  {
   "cell_type": "code",
   "execution_count": 126,
   "metadata": {},
   "outputs": [],
   "source": [
    "B_names = Data[\"Copper\"].unique().tolist()"
   ]
  },
  {
   "cell_type": "code",
   "execution_count": 127,
   "metadata": {},
   "outputs": [],
   "source": [
    "mean_A = []\n",
    "\n",
    "for name in A_names:\n",
    "    mean = Data[\"value\"][Data[\"Temp\"]==name].mean()\n",
    "    mean_A.append(mean)"
   ]
  },
  {
   "cell_type": "code",
   "execution_count": 128,
   "metadata": {},
   "outputs": [],
   "source": [
    "mean_B =[]\n",
    "\n",
    "for name in B_names:\n",
    "    mean = Data[\"value\"][Data[\"Copper\"]==name].mean()\n",
    "    mean_B.append(mean)"
   ]
  },
  {
   "cell_type": "code",
   "execution_count": 129,
   "metadata": {},
   "outputs": [],
   "source": [
    "Data[\"mean_Temp\"] = np.nan"
   ]
  },
  {
   "cell_type": "code",
   "execution_count": 130,
   "metadata": {},
   "outputs": [
    {
     "name": "stderr",
     "output_type": "stream",
     "text": [
      "/tmp/ipykernel_108483/278934350.py:2: SettingWithCopyWarning: \n",
      "A value is trying to be set on a copy of a slice from a DataFrame\n",
      "\n",
      "See the caveats in the documentation: https://pandas.pydata.org/pandas-docs/stable/user_guide/indexing.html#returning-a-view-versus-a-copy\n",
      "  Data[\"mean_Temp\"][Data[\"Temp\"] == A_names[i]] = mean_A[i]\n"
     ]
    }
   ],
   "source": [
    "for i in range(len(A_names)):\n",
    "    Data[\"mean_Temp\"][Data[\"Temp\"] == A_names[i]] = mean_A[i]\n",
    "\n",
    "Data[\"mean_Copper\"] = np.repeat(mean_B, n*a)"
   ]
  },
  {
   "cell_type": "code",
   "execution_count": 151,
   "metadata": {},
   "outputs": [
    {
     "data": {
      "text/html": [
       "<div>\n",
       "<style scoped>\n",
       "    .dataframe tbody tr th:only-of-type {\n",
       "        vertical-align: middle;\n",
       "    }\n",
       "\n",
       "    .dataframe tbody tr th {\n",
       "        vertical-align: top;\n",
       "    }\n",
       "\n",
       "    .dataframe thead th {\n",
       "        text-align: right;\n",
       "    }\n",
       "</style>\n",
       "<table border=\"1\" class=\"dataframe\">\n",
       "  <thead>\n",
       "    <tr style=\"text-align: right;\">\n",
       "      <th></th>\n",
       "      <th>Temp</th>\n",
       "      <th>Copper</th>\n",
       "      <th>value</th>\n",
       "      <th>mean_Temp</th>\n",
       "      <th>mean_Copper</th>\n",
       "      <th>residuals</th>\n",
       "    </tr>\n",
       "  </thead>\n",
       "  <tbody>\n",
       "    <tr>\n",
       "      <th>0</th>\n",
       "      <td>50</td>\n",
       "      <td>40</td>\n",
       "      <td>17</td>\n",
       "      <td>21.875</td>\n",
       "      <td>15.500</td>\n",
       "      <td>-1.5</td>\n",
       "    </tr>\n",
       "    <tr>\n",
       "      <th>1</th>\n",
       "      <td>50</td>\n",
       "      <td>40</td>\n",
       "      <td>20</td>\n",
       "      <td>21.875</td>\n",
       "      <td>15.500</td>\n",
       "      <td>1.5</td>\n",
       "    </tr>\n",
       "    <tr>\n",
       "      <th>2</th>\n",
       "      <td>75</td>\n",
       "      <td>40</td>\n",
       "      <td>12</td>\n",
       "      <td>17.375</td>\n",
       "      <td>15.500</td>\n",
       "      <td>1.5</td>\n",
       "    </tr>\n",
       "    <tr>\n",
       "      <th>3</th>\n",
       "      <td>75</td>\n",
       "      <td>40</td>\n",
       "      <td>9</td>\n",
       "      <td>17.375</td>\n",
       "      <td>15.500</td>\n",
       "      <td>-1.5</td>\n",
       "    </tr>\n",
       "    <tr>\n",
       "      <th>4</th>\n",
       "      <td>100</td>\n",
       "      <td>40</td>\n",
       "      <td>16</td>\n",
       "      <td>21.000</td>\n",
       "      <td>15.500</td>\n",
       "      <td>2.0</td>\n",
       "    </tr>\n",
       "    <tr>\n",
       "      <th>5</th>\n",
       "      <td>100</td>\n",
       "      <td>40</td>\n",
       "      <td>12</td>\n",
       "      <td>21.000</td>\n",
       "      <td>15.500</td>\n",
       "      <td>-2.0</td>\n",
       "    </tr>\n",
       "    <tr>\n",
       "      <th>6</th>\n",
       "      <td>125</td>\n",
       "      <td>40</td>\n",
       "      <td>21</td>\n",
       "      <td>23.375</td>\n",
       "      <td>15.500</td>\n",
       "      <td>2.0</td>\n",
       "    </tr>\n",
       "    <tr>\n",
       "      <th>7</th>\n",
       "      <td>125</td>\n",
       "      <td>40</td>\n",
       "      <td>17</td>\n",
       "      <td>23.375</td>\n",
       "      <td>15.500</td>\n",
       "      <td>-2.0</td>\n",
       "    </tr>\n",
       "    <tr>\n",
       "      <th>8</th>\n",
       "      <td>50</td>\n",
       "      <td>60</td>\n",
       "      <td>16</td>\n",
       "      <td>21.875</td>\n",
       "      <td>18.875</td>\n",
       "      <td>-2.5</td>\n",
       "    </tr>\n",
       "    <tr>\n",
       "      <th>9</th>\n",
       "      <td>50</td>\n",
       "      <td>60</td>\n",
       "      <td>21</td>\n",
       "      <td>21.875</td>\n",
       "      <td>18.875</td>\n",
       "      <td>2.5</td>\n",
       "    </tr>\n",
       "    <tr>\n",
       "      <th>10</th>\n",
       "      <td>75</td>\n",
       "      <td>60</td>\n",
       "      <td>18</td>\n",
       "      <td>17.375</td>\n",
       "      <td>18.875</td>\n",
       "      <td>2.5</td>\n",
       "    </tr>\n",
       "    <tr>\n",
       "      <th>11</th>\n",
       "      <td>75</td>\n",
       "      <td>60</td>\n",
       "      <td>13</td>\n",
       "      <td>17.375</td>\n",
       "      <td>18.875</td>\n",
       "      <td>-2.5</td>\n",
       "    </tr>\n",
       "    <tr>\n",
       "      <th>12</th>\n",
       "      <td>100</td>\n",
       "      <td>60</td>\n",
       "      <td>18</td>\n",
       "      <td>21.000</td>\n",
       "      <td>18.875</td>\n",
       "      <td>-1.5</td>\n",
       "    </tr>\n",
       "    <tr>\n",
       "      <th>13</th>\n",
       "      <td>100</td>\n",
       "      <td>60</td>\n",
       "      <td>21</td>\n",
       "      <td>21.000</td>\n",
       "      <td>18.875</td>\n",
       "      <td>1.5</td>\n",
       "    </tr>\n",
       "    <tr>\n",
       "      <th>14</th>\n",
       "      <td>125</td>\n",
       "      <td>60</td>\n",
       "      <td>23</td>\n",
       "      <td>23.375</td>\n",
       "      <td>18.875</td>\n",
       "      <td>1.0</td>\n",
       "    </tr>\n",
       "    <tr>\n",
       "      <th>15</th>\n",
       "      <td>125</td>\n",
       "      <td>60</td>\n",
       "      <td>21</td>\n",
       "      <td>23.375</td>\n",
       "      <td>18.875</td>\n",
       "      <td>-1.0</td>\n",
       "    </tr>\n",
       "    <tr>\n",
       "      <th>16</th>\n",
       "      <td>50</td>\n",
       "      <td>80</td>\n",
       "      <td>24</td>\n",
       "      <td>21.875</td>\n",
       "      <td>21.000</td>\n",
       "      <td>1.0</td>\n",
       "    </tr>\n",
       "    <tr>\n",
       "      <th>17</th>\n",
       "      <td>50</td>\n",
       "      <td>80</td>\n",
       "      <td>22</td>\n",
       "      <td>21.875</td>\n",
       "      <td>21.000</td>\n",
       "      <td>-1.0</td>\n",
       "    </tr>\n",
       "    <tr>\n",
       "      <th>18</th>\n",
       "      <td>75</td>\n",
       "      <td>80</td>\n",
       "      <td>17</td>\n",
       "      <td>17.375</td>\n",
       "      <td>21.000</td>\n",
       "      <td>2.5</td>\n",
       "    </tr>\n",
       "    <tr>\n",
       "      <th>19</th>\n",
       "      <td>75</td>\n",
       "      <td>80</td>\n",
       "      <td>12</td>\n",
       "      <td>17.375</td>\n",
       "      <td>21.000</td>\n",
       "      <td>-2.5</td>\n",
       "    </tr>\n",
       "    <tr>\n",
       "      <th>20</th>\n",
       "      <td>100</td>\n",
       "      <td>80</td>\n",
       "      <td>25</td>\n",
       "      <td>21.000</td>\n",
       "      <td>21.000</td>\n",
       "      <td>1.0</td>\n",
       "    </tr>\n",
       "    <tr>\n",
       "      <th>21</th>\n",
       "      <td>100</td>\n",
       "      <td>80</td>\n",
       "      <td>23</td>\n",
       "      <td>21.000</td>\n",
       "      <td>21.000</td>\n",
       "      <td>-1.0</td>\n",
       "    </tr>\n",
       "    <tr>\n",
       "      <th>22</th>\n",
       "      <td>125</td>\n",
       "      <td>80</td>\n",
       "      <td>23</td>\n",
       "      <td>23.375</td>\n",
       "      <td>21.000</td>\n",
       "      <td>0.5</td>\n",
       "    </tr>\n",
       "    <tr>\n",
       "      <th>23</th>\n",
       "      <td>125</td>\n",
       "      <td>80</td>\n",
       "      <td>22</td>\n",
       "      <td>23.375</td>\n",
       "      <td>21.000</td>\n",
       "      <td>-0.5</td>\n",
       "    </tr>\n",
       "    <tr>\n",
       "      <th>24</th>\n",
       "      <td>50</td>\n",
       "      <td>100</td>\n",
       "      <td>28</td>\n",
       "      <td>21.875</td>\n",
       "      <td>28.250</td>\n",
       "      <td>0.5</td>\n",
       "    </tr>\n",
       "    <tr>\n",
       "      <th>25</th>\n",
       "      <td>50</td>\n",
       "      <td>100</td>\n",
       "      <td>27</td>\n",
       "      <td>21.875</td>\n",
       "      <td>28.250</td>\n",
       "      <td>-0.5</td>\n",
       "    </tr>\n",
       "    <tr>\n",
       "      <th>26</th>\n",
       "      <td>75</td>\n",
       "      <td>100</td>\n",
       "      <td>27</td>\n",
       "      <td>17.375</td>\n",
       "      <td>28.250</td>\n",
       "      <td>-2.0</td>\n",
       "    </tr>\n",
       "    <tr>\n",
       "      <th>27</th>\n",
       "      <td>75</td>\n",
       "      <td>100</td>\n",
       "      <td>31</td>\n",
       "      <td>17.375</td>\n",
       "      <td>28.250</td>\n",
       "      <td>2.0</td>\n",
       "    </tr>\n",
       "    <tr>\n",
       "      <th>28</th>\n",
       "      <td>100</td>\n",
       "      <td>100</td>\n",
       "      <td>30</td>\n",
       "      <td>21.000</td>\n",
       "      <td>28.250</td>\n",
       "      <td>3.5</td>\n",
       "    </tr>\n",
       "    <tr>\n",
       "      <th>29</th>\n",
       "      <td>100</td>\n",
       "      <td>100</td>\n",
       "      <td>23</td>\n",
       "      <td>21.000</td>\n",
       "      <td>28.250</td>\n",
       "      <td>-3.5</td>\n",
       "    </tr>\n",
       "    <tr>\n",
       "      <th>30</th>\n",
       "      <td>125</td>\n",
       "      <td>100</td>\n",
       "      <td>29</td>\n",
       "      <td>23.375</td>\n",
       "      <td>28.250</td>\n",
       "      <td>-1.0</td>\n",
       "    </tr>\n",
       "    <tr>\n",
       "      <th>31</th>\n",
       "      <td>125</td>\n",
       "      <td>100</td>\n",
       "      <td>31</td>\n",
       "      <td>23.375</td>\n",
       "      <td>28.250</td>\n",
       "      <td>1.0</td>\n",
       "    </tr>\n",
       "  </tbody>\n",
       "</table>\n",
       "</div>"
      ],
      "text/plain": [
       "    Temp  Copper  value  mean_Temp  mean_Copper  residuals\n",
       "0     50      40     17     21.875       15.500       -1.5\n",
       "1     50      40     20     21.875       15.500        1.5\n",
       "2     75      40     12     17.375       15.500        1.5\n",
       "3     75      40      9     17.375       15.500       -1.5\n",
       "4    100      40     16     21.000       15.500        2.0\n",
       "5    100      40     12     21.000       15.500       -2.0\n",
       "6    125      40     21     23.375       15.500        2.0\n",
       "7    125      40     17     23.375       15.500       -2.0\n",
       "8     50      60     16     21.875       18.875       -2.5\n",
       "9     50      60     21     21.875       18.875        2.5\n",
       "10    75      60     18     17.375       18.875        2.5\n",
       "11    75      60     13     17.375       18.875       -2.5\n",
       "12   100      60     18     21.000       18.875       -1.5\n",
       "13   100      60     21     21.000       18.875        1.5\n",
       "14   125      60     23     23.375       18.875        1.0\n",
       "15   125      60     21     23.375       18.875       -1.0\n",
       "16    50      80     24     21.875       21.000        1.0\n",
       "17    50      80     22     21.875       21.000       -1.0\n",
       "18    75      80     17     17.375       21.000        2.5\n",
       "19    75      80     12     17.375       21.000       -2.5\n",
       "20   100      80     25     21.000       21.000        1.0\n",
       "21   100      80     23     21.000       21.000       -1.0\n",
       "22   125      80     23     23.375       21.000        0.5\n",
       "23   125      80     22     23.375       21.000       -0.5\n",
       "24    50     100     28     21.875       28.250        0.5\n",
       "25    50     100     27     21.875       28.250       -0.5\n",
       "26    75     100     27     17.375       28.250       -2.0\n",
       "27    75     100     31     17.375       28.250        2.0\n",
       "28   100     100     30     21.000       28.250        3.5\n",
       "29   100     100     23     21.000       28.250       -3.5\n",
       "30   125     100     29     23.375       28.250       -1.0\n",
       "31   125     100     31     23.375       28.250        1.0"
      ]
     },
     "execution_count": 151,
     "metadata": {},
     "output_type": "execute_result"
    }
   ],
   "source": [
    "Data"
   ]
  },
  {
   "attachments": {},
   "cell_type": "markdown",
   "metadata": {},
   "source": [
    "# Model maken\n",
    "\n",
    "Dataframe aanvullen met\n",
    "\n",
    "- residuals"
   ]
  },
  {
   "cell_type": "code",
   "execution_count": 131,
   "metadata": {},
   "outputs": [],
   "source": [
    "formula = 'value ~ C(Temp) + C(Copper) + C(Temp):C(Copper)'\n",
    "model = ols(formula, Data).fit()\n",
    "\n",
    "Data[\"residuals\"] = model.resid"
   ]
  },
  {
   "cell_type": "code",
   "execution_count": 132,
   "metadata": {},
   "outputs": [
    {
     "data": {
      "image/png": "[encoded data removed]",
      "text/plain": [
       "<Figure size 640x480 with 1 Axes>"
      ]
     },
     "metadata": {},
     "output_type": "display_data"
    }
   ],
   "source": [
    "fig = interaction_plot(Data.Temp, Data.Copper, Data.value, ms=10)\n",
    "plt.grid(True)"
   ]
  },
  {
   "attachments": {},
   "cell_type": "markdown",
   "metadata": {},
   "source": [
    "# Anova Table"
   ]
  },
  {
   "cell_type": "code",
   "execution_count": 133,
   "metadata": {},
   "outputs": [
    {
     "data": {
      "text/html": [
       "<div>\n",
       "<style scoped>\n",
       "    .dataframe tbody tr th:only-of-type {\n",
       "        vertical-align: middle;\n",
       "    }\n",
       "\n",
       "    .dataframe tbody tr th {\n",
       "        vertical-align: top;\n",
       "    }\n",
       "\n",
       "    .dataframe thead th {\n",
       "        text-align: right;\n",
       "    }\n",
       "</style>\n",
       "<table border=\"1\" class=\"dataframe\">\n",
       "  <thead>\n",
       "    <tr style=\"text-align: right;\">\n",
       "      <th></th>\n",
       "      <th>sum_sq</th>\n",
       "      <th>df</th>\n",
       "      <th>F</th>\n",
       "      <th>PR(&gt;F)</th>\n",
       "    </tr>\n",
       "  </thead>\n",
       "  <tbody>\n",
       "    <tr>\n",
       "      <th>C(Temp)</th>\n",
       "      <td>156.09375</td>\n",
       "      <td>3.0</td>\n",
       "      <td>7.672811</td>\n",
       "      <td>2.126631e-03</td>\n",
       "    </tr>\n",
       "    <tr>\n",
       "      <th>C(Copper)</th>\n",
       "      <td>698.34375</td>\n",
       "      <td>3.0</td>\n",
       "      <td>34.327189</td>\n",
       "      <td>3.349763e-07</td>\n",
       "    </tr>\n",
       "    <tr>\n",
       "      <th>C(Temp):C(Copper)</th>\n",
       "      <td>113.78125</td>\n",
       "      <td>9.0</td>\n",
       "      <td>1.864311</td>\n",
       "      <td>1.327481e-01</td>\n",
       "    </tr>\n",
       "    <tr>\n",
       "      <th>Residual</th>\n",
       "      <td>108.50000</td>\n",
       "      <td>16.0</td>\n",
       "      <td>NaN</td>\n",
       "      <td>NaN</td>\n",
       "    </tr>\n",
       "  </tbody>\n",
       "</table>\n",
       "</div>"
      ],
      "text/plain": [
       "                      sum_sq    df          F        PR(>F)\n",
       "C(Temp)            156.09375   3.0   7.672811  2.126631e-03\n",
       "C(Copper)          698.34375   3.0  34.327189  3.349763e-07\n",
       "C(Temp):C(Copper)  113.78125   9.0   1.864311  1.327481e-01\n",
       "Residual           108.50000  16.0        NaN           NaN"
      ]
     },
     "execution_count": 133,
     "metadata": {},
     "output_type": "execute_result"
    }
   ],
   "source": [
    "anova_table = anova_lm(model, typ=2)\n",
    "anova_table"
   ]
  },
  {
   "attachments": {},
   "cell_type": "markdown",
   "metadata": {},
   "source": [
    "# A\n",
    "\n",
    "Uit de ANOVA tabel is af te lezen:\n",
    "- $p_{temp} < \\alpha$ -> nulhypothese wordt verworpen\n",
    "    - Er is een significante invloed van de temperatuur op de hoeveelheid warping.\n",
    "- $p_{koper} < \\alpha$ -> nulhypothese wordt verworpen\n",
    "    - Er is een significante invloed van de koperconcentratie op de hoeveelheid warping.\n",
    "- $p_{combi} > \\alpha$ -> nulhypothese wordt geaccepteerd\n",
    "    - Er is geen interactie tussen de termen.\n",
    "\n",
    "Laatste stelling is nogal vreemd aangezien de interactie plot een duidelijk snijpunt tussen een koper concentratie van 60 en 80 weergeeft."
   ]
  },
  {
   "attachments": {},
   "cell_type": "markdown",
   "metadata": {},
   "source": [
    "# MSE berekenen"
   ]
  },
  {
   "cell_type": "code",
   "execution_count": 134,
   "metadata": {},
   "outputs": [
    {
     "data": {
      "text/plain": [
       "[52.031250000000085, 232.78125000000034, 12.642361111111128, 6.78125]"
      ]
     },
     "execution_count": 134,
     "metadata": {},
     "output_type": "execute_result"
    }
   ],
   "source": [
    "ss = anova_table[\"sum_sq\"].tolist()\n",
    "df = anova_table['df'].tolist()\n",
    "\n",
    "mse = [ss[i]/df[i] for i in range(len(ss))]\n",
    "mse"
   ]
  },
  {
   "attachments": {},
   "cell_type": "markdown",
   "metadata": {},
   "source": [
    "# Normal probability plot maken"
   ]
  },
  {
   "cell_type": "code",
   "execution_count": 138,
   "metadata": {},
   "outputs": [],
   "source": [
    "res = Data['residuals'].values.tolist()\n",
    "res.sort()\n",
    "res = np.round(res, 4)"
   ]
  },
  {
   "cell_type": "code",
   "execution_count": 139,
   "metadata": {},
   "outputs": [],
   "source": [
    "ind= [1]\n",
    "for i in range(1, len(res)):\n",
    "    if res[i] == res[i-1]:\n",
    "        ind.append(ind[i-1])\n",
    "    else:\n",
    "        ind.append(i+1)"
   ]
  },
  {
   "cell_type": "code",
   "execution_count": 140,
   "metadata": {},
   "outputs": [],
   "source": [
    "kans = [(i-0.5)/len(res) for i in ind]\n",
    "z = stats.norm.ppf(kans)\n",
    "res = np.transpose(res)\n",
    "res = res[:,np.newaxis]\n",
    "az = np.linalg.lstsq(res, z,rcond=None)"
   ]
  },
  {
   "cell_type": "code",
   "execution_count": 141,
   "metadata": {},
   "outputs": [
    {
     "data": {
      "text/plain": [
       "array([-2.15387469, -1.67593972, -1.67593972, -1.67593972, -1.07751557,\n",
       "       -1.07751557, -1.07751557, -0.72451438, -0.72451438, -0.72451438,\n",
       "       -0.44509652, -0.44509652, -0.44509652, -0.44509652, -0.11776987,\n",
       "       -0.11776987,  0.03917609,  0.03917609,  0.19709908,  0.19709908,\n",
       "        0.19709908,  0.19709908,  0.53340971,  0.53340971,  0.53340971,\n",
       "        0.83051088,  0.83051088,  0.83051088,  1.22985876,  1.22985876,\n",
       "        1.22985876,  2.15387469])"
      ]
     },
     "execution_count": 141,
     "metadata": {},
     "output_type": "execute_result"
    }
   ],
   "source": [
    "stats.norm.ppf(kans)"
   ]
  },
  {
   "cell_type": "code",
   "execution_count": 142,
   "metadata": {},
   "outputs": [
    {
     "data": {
      "image/png": "[encoded data removed]",
      "text/plain": [
       "<Figure size 640x480 with 1 Axes>"
      ]
     },
     "metadata": {},
     "output_type": "display_data"
    }
   ],
   "source": [
    "fig, ax1 = plt.subplots(1,1)\n",
    "ax1.plot(res, az[0]*res, 'r')\n",
    "ax1.scatter(res, z)\n",
    "ax1.set_ylabel('z-score')\n",
    "ax1.set_xlabel('Residual')\n",
    "plt.show()\n"
   ]
  },
  {
   "attachments": {},
   "cell_type": "markdown",
   "metadata": {},
   "source": [
    "# Residuals plots"
   ]
  },
  {
   "cell_type": "code",
   "execution_count": 143,
   "metadata": {},
   "outputs": [
    {
     "data": {
      "text/plain": [
       "<StemContainer object of 3 artists>"
      ]
     },
     "execution_count": 143,
     "metadata": {},
     "output_type": "execute_result"
    },
    {
     "data": {
      "image/png": "[encoded data removed]",
      "text/plain": [
       "<Figure size 1200x800 with 2 Axes>"
      ]
     },
     "metadata": {},
     "output_type": "display_data"
    }
   ],
   "source": [
    "fig, (ax1,ax2) = plt.subplots(1,2,figsize=(12,8))\n",
    "\n",
    "ax1.stem(Data.Temp.values, model.resid, basefmt='k')\n",
    "ax2.stem(Data.Copper.values, model.resid, basefmt = 'k')"
   ]
  },
  {
   "attachments": {},
   "cell_type": "markdown",
   "metadata": {},
   "source": [
    "# Residuals tegen predicted"
   ]
  },
  {
   "cell_type": "code",
   "execution_count": 144,
   "metadata": {},
   "outputs": [],
   "source": [
    "yhat = Data[\"value\"].mean() + ( Data[\"mean_Temp\"] + Data[\"mean_Copper\"] - np.mean(Data[\"mean_Temp\"] + Data[\"mean_Copper\"]))"
   ]
  },
  {
   "cell_type": "code",
   "execution_count": 145,
   "metadata": {},
   "outputs": [
    {
     "data": {
      "image/png": "[encoded data removed]",
      "text/plain": [
       "<Figure size 640x480 with 1 Axes>"
      ]
     },
     "metadata": {},
     "output_type": "display_data"
    }
   ],
   "source": [
    "fig, ax = plt.subplots(1,1)\n",
    "plt.grid(True)\n",
    "ax.scatter(yhat, model.resid, zorder=3)\n",
    "ax.axhline(y = 0, color='k')\n",
    "plt.show()\n"
   ]
  },
  {
   "attachments": {},
   "cell_type": "markdown",
   "metadata": {},
   "source": [
    "# B\n",
    "\n",
    "Uit de residual plots blijkt er totale willekeurigheid te heersen. Hieruit kan geconcludeerd worden dat er geen externe factoren van invloed zijn op het model."
   ]
  },
  {
   "attachments": {},
   "cell_type": "markdown",
   "metadata": {},
   "source": [
    "# Plot averages tegen copper concentration\n"
   ]
  },
  {
   "cell_type": "code",
   "execution_count": 155,
   "metadata": {},
   "outputs": [
    {
     "data": {
      "image/png": "[encoded data removed]",
      "text/plain": [
       "<Figure size 640x480 with 1 Axes>"
      ]
     },
     "metadata": {},
     "output_type": "display_data"
    }
   ],
   "source": [
    "fig ,ax = plt.subplots(1,1)\n",
    "ax.scatter(B_names, mean_B)\n",
    "plt.show()"
   ]
  },
  {
   "attachments": {},
   "cell_type": "markdown",
   "metadata": {},
   "source": [
    "# LSD"
   ]
  },
  {
   "cell_type": "code",
   "execution_count": 160,
   "metadata": {},
   "outputs": [],
   "source": [
    "t_crit = stats.t.ppf(q=1-alpha, df=df[-1])\n",
    "\n",
    "lsd = t_crit * np.sqrt(2*mse[-1]/n)"
   ]
  },
  {
   "cell_type": "code",
   "execution_count": 172,
   "metadata": {},
   "outputs": [
    {
     "name": "stdout",
     "output_type": "stream",
     "text": [
      "1-2: no significant difference \n",
      "1-3: SIGNIFICANT DIFFERENCE!\n",
      "1-4: SIGNIFICANT DIFFERENCE!\n",
      "2-3: no significant difference \n",
      "2-4: SIGNIFICANT DIFFERENCE!\n",
      "3-4: SIGNIFICANT DIFFERENCE!\n"
     ]
    }
   ],
   "source": [
    "diff = []\n",
    "\n",
    "for i in range(len(mean_B) -1):\n",
    "    for j in range(i+1, len(mean_B)):\n",
    "        difference = np.abs(mean_B[i] - mean_B[j])\n",
    "        diff.append(difference)\n",
    "        if difference > lsd:\n",
    "            print(\"%i-%i: SIGNIFICANT DIFFERENCE!\" %((i+1),(j+1)))\n",
    "        else:\n",
    "            print(\"%i-%i: no significant difference \" %(i+1,j+1))"
   ]
  },
  {
   "attachments": {},
   "cell_type": "markdown",
   "metadata": {},
   "source": [
    "# C"
   ]
  },
  {
   "attachments": {},
   "cell_type": "markdown",
   "metadata": {},
   "source": [
    "Uit de gemiddeldes blijkt, dat bij een koperconcentratie van 40% er geen een lagere wraping is t.o.v. de concentraties. Uit de LSD methode blijkt ook dat deze concentratie geen significante verschillen vertoont t.o.v. de overige concentraties. Daarom is het aanbevolen om bij een kleine wraping een koperconcentratie van 40% te gebruiken."
   ]
  },
  {
   "cell_type": "code",
   "execution_count": 169,
   "metadata": {},
   "outputs": [
    {
     "data": {
      "text/plain": [
       "-3.375"
      ]
     },
     "execution_count": 169,
     "metadata": {},
     "output_type": "execute_result"
    }
   ],
   "source": [
    "mean_B[0] - mean_B[1]"
   ]
  },
  {
   "attachments": {},
   "cell_type": "markdown",
   "metadata": {},
   "source": [
    "# LSD op temperatuur"
   ]
  },
  {
   "cell_type": "code",
   "execution_count": 171,
   "metadata": {},
   "outputs": [
    {
     "name": "stdout",
     "output_type": "stream",
     "text": [
      "1-2: no significant difference \n",
      "1-3: no significant difference \n",
      "1-4: no significant difference \n",
      "2-3: no significant difference \n",
      "2-4: SIGNIFICANT DIFFERENCE!\n",
      "3-4: no significant difference \n"
     ]
    }
   ],
   "source": [
    "diff_T = []\n",
    "\n",
    "for i in range(len(mean_A) -1):\n",
    "    for j in range(i+1, len(mean_A)):\n",
    "        difference = np.abs(mean_A[i] - mean_A[j])\n",
    "        diff_T.append(difference)\n",
    "        if difference > lsd:\n",
    "            print(\"%i-%i: SIGNIFICANT DIFFERENCE!\" %((i+1),(j+1)))\n",
    "        else:\n",
    "            print(\"%i-%i: no significant difference \" %(i+1,j+1))"
   ]
  },
  {
   "cell_type": "code",
   "execution_count": 173,
   "metadata": {},
   "outputs": [
    {
     "data": {
      "text/plain": [
       "<matplotlib.collections.PathCollection at 0x7f87e052ce50>"
      ]
     },
     "execution_count": 173,
     "metadata": {},
     "output_type": "execute_result"
    },
    {
     "data": {
      "image/png": "[encoded data removed]",
      "text/plain": [
       "<Figure size 640x480 with 1 Axes>"
      ]
     },
     "metadata": {},
     "output_type": "display_data"
    }
   ],
   "source": [
    "fig, ax = plt.subplots(1,1)\n",
    "ax.scatter(A_names, mean_A)"
   ]
  },
  {
   "attachments": {},
   "cell_type": "markdown",
   "metadata": {},
   "source": [
    "# D\n",
    "\n",
    "De LSD op de temperatuur wijst uit, dat er geen significante verschillen bestaat tussen de treatments. Behalve een temperatuur van 75 t.o.v. 125. Het is dus van belang dat om een zo laag mogelijke wraping te creeëren, de temperatuur niet rond de 75 graden Celsius is. Bij deze temperatuur dient een ander optimum te worden gevonden."
   ]
  }
 ],
 "metadata": {
  "kernelspec": {
   "display_name": "school",
   "language": "python",
   "name": "python3"
  },
  "language_info": {
   "codemirror_mode": {
    "name": "ipython",
    "version": 3
   },
   "file_extension": ".py",
   "mimetype": "text/x-python",
   "name": "python",
   "nbconvert_exporter": "python",
   "pygments_lexer": "ipython3",
   "version": "3.10.9"
  },
  "orig_nbformat": 4,
  "vscode": {
   "interpreter": {
    "hash": "461aa9db95cfad270846a0d02eb8f531ba8982f5cd6c22a0e39aad4aec46dde3"
   }
  }
 },
 "nbformat": 4,
 "nbformat_minor": 2
}
