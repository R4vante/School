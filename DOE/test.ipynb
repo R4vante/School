{
 "cells": [
  {
   "cell_type": "code",
   "execution_count": 5,
   "metadata": {},
   "outputs": [
    {
     "data": {
      "text/plain": [
       "Index(['index', 'variable', 'value'], dtype='object')"
      ]
     },
     "execution_count": 5,
     "metadata": {},
     "output_type": "execute_result"
    }
   ],
   "source": [
    "from DOE import Import\n",
    "import pandas as pd\n",
    "\n",
    "df, df_melt, names = Import.import_df(\"katoen.xlsx\", \"Blad2\")\n",
    "df_melt.columns"
   ]
  }
 ],
 "metadata": {
  "kernelspec": {
   "display_name": "python",
   "language": "python",
   "name": "python3"
  },
  "language_info": {
   "codemirror_mode": {
    "name": "ipython",
    "version": 3
   },
   "file_extension": ".py",
   "mimetype": "text/x-python",
   "name": "python",
   "nbconvert_exporter": "python",
   "pygments_lexer": "ipython3",
   "version": "3.10.8"
  },
  "orig_nbformat": 4,
  "vscode": {
   "interpreter": {
    "hash": "2a59c52a014b2baf96a645a5e1b5479701ce084bc5b6436a8f253b184a60e5ca"
   }
  }
 },
 "nbformat": 4,
 "nbformat_minor": 2
}
