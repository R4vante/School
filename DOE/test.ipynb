{
 "cells": [
  {
   "cell_type": "code",
   "execution_count": 348,
   "metadata": {},
   "outputs": [],
   "source": [
    "import pandas as pd\n",
    "import numpy as np\n",
    "\n",
    "import statsmodels.api as sm\n",
    "from statsmodels.formula.api import ols\n",
    "from statsmodels.stats.anova import anova_lm\n",
    "from statsmodels.graphics.factorplots import interaction_plot\n",
    "import matplotlib.pyplot as plt\n",
    "from scipy import stats\n",
    "\n",
    "plt.style.use('seaborn-v0_8-colorblind')"
   ]
  },
  {
   "cell_type": "code",
   "execution_count": 349,
   "metadata": {},
   "outputs": [],
   "source": [
    "n = 3\n",
    "a = 3\n",
    "b = 2"
   ]
  },
  {
   "attachments": {},
   "cell_type": "markdown",
   "metadata": {},
   "source": [
    "H0: t1 = t2 = 0, H1: at least one ti ≠ 0\n",
    "\n",
    "H0: b1 = b2 = b3 = 0, H1: at least one bj ≠ 0\n",
    "\n",
    "H0: (tb)11 = (tb)12 = ... = (tb)ab = 0, H1: at least one (tb)ij ≠ 0"
   ]
  },
  {
   "cell_type": "code",
   "execution_count": 350,
   "metadata": {},
   "outputs": [],
   "source": [
    "Data = pd.read_excel(\"test.xlsx\", sheet_name=\"Sheet2\")"
   ]
  },
  {
   "cell_type": "code",
   "execution_count": 351,
   "metadata": {},
   "outputs": [
    {
     "data": {
      "text/html": [
       "<div>\n",
       "<style scoped>\n",
       "    .dataframe tbody tr th:only-of-type {\n",
       "        vertical-align: middle;\n",
       "    }\n",
       "\n",
       "    .dataframe tbody tr th {\n",
       "        vertical-align: top;\n",
       "    }\n",
       "\n",
       "    .dataframe thead th {\n",
       "        text-align: right;\n",
       "    }\n",
       "</style>\n",
       "<table border=\"1\" class=\"dataframe\">\n",
       "  <thead>\n",
       "    <tr style=\"text-align: right;\">\n",
       "      <th></th>\n",
       "      <th>value</th>\n",
       "      <th>type</th>\n",
       "      <th>method</th>\n",
       "    </tr>\n",
       "  </thead>\n",
       "  <tbody>\n",
       "    <tr>\n",
       "      <th>0</th>\n",
       "      <td>4.0</td>\n",
       "      <td>1</td>\n",
       "      <td>dipping</td>\n",
       "    </tr>\n",
       "    <tr>\n",
       "      <th>1</th>\n",
       "      <td>4.5</td>\n",
       "      <td>1</td>\n",
       "      <td>dipping</td>\n",
       "    </tr>\n",
       "    <tr>\n",
       "      <th>2</th>\n",
       "      <td>4.3</td>\n",
       "      <td>1</td>\n",
       "      <td>dipping</td>\n",
       "    </tr>\n",
       "    <tr>\n",
       "      <th>3</th>\n",
       "      <td>5.6</td>\n",
       "      <td>2</td>\n",
       "      <td>dipping</td>\n",
       "    </tr>\n",
       "    <tr>\n",
       "      <th>4</th>\n",
       "      <td>4.9</td>\n",
       "      <td>2</td>\n",
       "      <td>dipping</td>\n",
       "    </tr>\n",
       "    <tr>\n",
       "      <th>5</th>\n",
       "      <td>5.4</td>\n",
       "      <td>2</td>\n",
       "      <td>dipping</td>\n",
       "    </tr>\n",
       "    <tr>\n",
       "      <th>6</th>\n",
       "      <td>3.8</td>\n",
       "      <td>3</td>\n",
       "      <td>dipping</td>\n",
       "    </tr>\n",
       "    <tr>\n",
       "      <th>7</th>\n",
       "      <td>3.7</td>\n",
       "      <td>3</td>\n",
       "      <td>dipping</td>\n",
       "    </tr>\n",
       "    <tr>\n",
       "      <th>8</th>\n",
       "      <td>4.0</td>\n",
       "      <td>3</td>\n",
       "      <td>dipping</td>\n",
       "    </tr>\n",
       "    <tr>\n",
       "      <th>9</th>\n",
       "      <td>5.4</td>\n",
       "      <td>1</td>\n",
       "      <td>spraying</td>\n",
       "    </tr>\n",
       "    <tr>\n",
       "      <th>10</th>\n",
       "      <td>4.9</td>\n",
       "      <td>1</td>\n",
       "      <td>spraying</td>\n",
       "    </tr>\n",
       "    <tr>\n",
       "      <th>11</th>\n",
       "      <td>5.6</td>\n",
       "      <td>1</td>\n",
       "      <td>spraying</td>\n",
       "    </tr>\n",
       "    <tr>\n",
       "      <th>12</th>\n",
       "      <td>5.8</td>\n",
       "      <td>2</td>\n",
       "      <td>spraying</td>\n",
       "    </tr>\n",
       "    <tr>\n",
       "      <th>13</th>\n",
       "      <td>6.1</td>\n",
       "      <td>2</td>\n",
       "      <td>spraying</td>\n",
       "    </tr>\n",
       "    <tr>\n",
       "      <th>14</th>\n",
       "      <td>6.3</td>\n",
       "      <td>2</td>\n",
       "      <td>spraying</td>\n",
       "    </tr>\n",
       "    <tr>\n",
       "      <th>15</th>\n",
       "      <td>5.5</td>\n",
       "      <td>3</td>\n",
       "      <td>spraying</td>\n",
       "    </tr>\n",
       "    <tr>\n",
       "      <th>16</th>\n",
       "      <td>5.0</td>\n",
       "      <td>3</td>\n",
       "      <td>spraying</td>\n",
       "    </tr>\n",
       "    <tr>\n",
       "      <th>17</th>\n",
       "      <td>5.0</td>\n",
       "      <td>3</td>\n",
       "      <td>spraying</td>\n",
       "    </tr>\n",
       "  </tbody>\n",
       "</table>\n",
       "</div>"
      ],
      "text/plain": [
       "    value  type    method\n",
       "0     4.0     1   dipping\n",
       "1     4.5     1   dipping\n",
       "2     4.3     1   dipping\n",
       "3     5.6     2   dipping\n",
       "4     4.9     2   dipping\n",
       "5     5.4     2   dipping\n",
       "6     3.8     3   dipping\n",
       "7     3.7     3   dipping\n",
       "8     4.0     3   dipping\n",
       "9     5.4     1  spraying\n",
       "10    4.9     1  spraying\n",
       "11    5.6     1  spraying\n",
       "12    5.8     2  spraying\n",
       "13    6.1     2  spraying\n",
       "14    6.3     2  spraying\n",
       "15    5.5     3  spraying\n",
       "16    5.0     3  spraying\n",
       "17    5.0     3  spraying"
      ]
     },
     "execution_count": 351,
     "metadata": {},
     "output_type": "execute_result"
    }
   ],
   "source": [
    "Data"
   ]
  },
  {
   "cell_type": "code",
   "execution_count": 352,
   "metadata": {},
   "outputs": [],
   "source": [
    "type_name = Data[\"type\"].unique().tolist()"
   ]
  },
  {
   "cell_type": "code",
   "execution_count": 353,
   "metadata": {},
   "outputs": [],
   "source": [
    "method_name = Data[\"method\"].unique().tolist()"
   ]
  },
  {
   "cell_type": "code",
   "execution_count": 354,
   "metadata": {},
   "outputs": [],
   "source": [
    "mean_type = []\n",
    "\n",
    "for name in type_name:\n",
    "    mean = Data[\"value\"][Data[\"type\"]==name].mean()\n",
    "    mean_type.append(mean)"
   ]
  },
  {
   "cell_type": "code",
   "execution_count": 355,
   "metadata": {},
   "outputs": [
    {
     "data": {
      "text/plain": [
       "[4.783333333333334, 5.683333333333333, 4.5]"
      ]
     },
     "execution_count": 355,
     "metadata": {},
     "output_type": "execute_result"
    }
   ],
   "source": [
    "mean_type"
   ]
  },
  {
   "cell_type": "code",
   "execution_count": 356,
   "metadata": {},
   "outputs": [],
   "source": [
    "mean_method =[]\n",
    "\n",
    "for name in method_name:\n",
    "    mean = Data[\"value\"][Data[\"method\"]==name].mean()\n",
    "    mean_method.append(mean)"
   ]
  },
  {
   "cell_type": "code",
   "execution_count": 357,
   "metadata": {},
   "outputs": [
    {
     "data": {
      "text/plain": [
       "[4.466666666666667, 5.51111111111111]"
      ]
     },
     "execution_count": 357,
     "metadata": {},
     "output_type": "execute_result"
    }
   ],
   "source": [
    "mean_method"
   ]
  },
  {
   "cell_type": "code",
   "execution_count": 358,
   "metadata": {},
   "outputs": [
    {
     "data": {
      "image/png": "[encoded data removed]",
      "text/plain": [
       "<Figure size 640x480 with 1 Axes>"
      ]
     },
     "metadata": {},
     "output_type": "display_data"
    }
   ],
   "source": [
    "fig = interaction_plot(Data.type, Data.method, Data.value, ms=10)\n",
    "plt.grid(True)"
   ]
  },
  {
   "attachments": {},
   "cell_type": "markdown",
   "metadata": {},
   "source": [
    "# Degrees of freedom"
   ]
  },
  {
   "attachments": {},
   "cell_type": "markdown",
   "metadata": {},
   "source": [
    "supp  = method\n",
    "dose = type"
   ]
  },
  {
   "cell_type": "code",
   "execution_count": 359,
   "metadata": {},
   "outputs": [],
   "source": [
    "N = len(Data.value)\n",
    "df_a = len(Data.method.unique()) - 1\n",
    "df_b = len(Data.type.unique()) - 1\n",
    "df_axb = df_a*df_b \n",
    "df_w = N - (len(Data.method.unique())*len(Data.type.unique()))"
   ]
  },
  {
   "attachments": {},
   "cell_type": "markdown",
   "metadata": {},
   "source": [
    "# Anova Table"
   ]
  },
  {
   "cell_type": "code",
   "execution_count": 360,
   "metadata": {},
   "outputs": [
    {
     "data": {
      "text/html": [
       "<div>\n",
       "<style scoped>\n",
       "    .dataframe tbody tr th:only-of-type {\n",
       "        vertical-align: middle;\n",
       "    }\n",
       "\n",
       "    .dataframe tbody tr th {\n",
       "        vertical-align: top;\n",
       "    }\n",
       "\n",
       "    .dataframe thead th {\n",
       "        text-align: right;\n",
       "    }\n",
       "</style>\n",
       "<table border=\"1\" class=\"dataframe\">\n",
       "  <thead>\n",
       "    <tr style=\"text-align: right;\">\n",
       "      <th></th>\n",
       "      <th>sum_sq</th>\n",
       "      <th>df</th>\n",
       "      <th>F</th>\n",
       "      <th>PR(&gt;F)</th>\n",
       "    </tr>\n",
       "  </thead>\n",
       "  <tbody>\n",
       "    <tr>\n",
       "      <th>C(type)</th>\n",
       "      <td>4.581111</td>\n",
       "      <td>2.0</td>\n",
       "      <td>27.858108</td>\n",
       "      <td>0.000031</td>\n",
       "    </tr>\n",
       "    <tr>\n",
       "      <th>C(method)</th>\n",
       "      <td>4.908889</td>\n",
       "      <td>1.0</td>\n",
       "      <td>59.702703</td>\n",
       "      <td>0.000005</td>\n",
       "    </tr>\n",
       "    <tr>\n",
       "      <th>C(method):C(type)</th>\n",
       "      <td>0.241111</td>\n",
       "      <td>2.0</td>\n",
       "      <td>1.466216</td>\n",
       "      <td>0.269342</td>\n",
       "    </tr>\n",
       "    <tr>\n",
       "      <th>Residual</th>\n",
       "      <td>0.986667</td>\n",
       "      <td>12.0</td>\n",
       "      <td>NaN</td>\n",
       "      <td>NaN</td>\n",
       "    </tr>\n",
       "  </tbody>\n",
       "</table>\n",
       "</div>"
      ],
      "text/plain": [
       "                     sum_sq    df          F    PR(>F)\n",
       "C(type)            4.581111   2.0  27.858108  0.000031\n",
       "C(method)          4.908889   1.0  59.702703  0.000005\n",
       "C(method):C(type)  0.241111   2.0   1.466216  0.269342\n",
       "Residual           0.986667  12.0        NaN       NaN"
      ]
     },
     "execution_count": 360,
     "metadata": {},
     "output_type": "execute_result"
    }
   ],
   "source": [
    "formula = 'value ~ C(type) + C(method) + C(method):C(type)'\n",
    "model = ols(formula, Data).fit()\n",
    "anova_table = anova_lm(model, typ=2)\n",
    "anova_table"
   ]
  },
  {
   "attachments": {},
   "cell_type": "markdown",
   "metadata": {},
   "source": [
    "# B\n",
    "\n",
    "- $p_{type} < \\alpha$, dus nulhypothese wordt verworpen.\n",
    "- $p_{method} < \\alpha$, dus nulhypothese wordt verworpen.\n",
    "- $p_{combi} > \\alpha$, dus nulhypothese wordt geaccepteerd."
   ]
  },
  {
   "cell_type": "code",
   "execution_count": 361,
   "metadata": {},
   "outputs": [
    {
     "data": {
      "text/plain": [
       "[2.290555555555557,\n",
       " 4.908888888888882,\n",
       " 0.12055555555555648,\n",
       " 0.08222222222222215]"
      ]
     },
     "execution_count": 361,
     "metadata": {},
     "output_type": "execute_result"
    }
   ],
   "source": [
    "ss = anova_table[\"sum_sq\"].tolist()\n",
    "df = anova_table['df'].tolist()\n",
    "\n",
    "mse = [ss[i]/df[i] for i in range(len(ss))]\n",
    "mse"
   ]
  },
  {
   "cell_type": "code",
   "execution_count": 362,
   "metadata": {},
   "outputs": [],
   "source": [
    "res = model.resid.tolist()\n",
    "res.sort()\n",
    "res = np.round(res, 4)"
   ]
  },
  {
   "cell_type": "code",
   "execution_count": 363,
   "metadata": {},
   "outputs": [],
   "source": [
    "ind= [1]\n",
    "for i in range(1, len(res)):\n",
    "    if res[i] == res[i-1]:\n",
    "        ind.append(ind[i-1])\n",
    "    else:\n",
    "        ind.append(i+1)"
   ]
  },
  {
   "cell_type": "code",
   "execution_count": 364,
   "metadata": {},
   "outputs": [],
   "source": [
    "kans = [(i-0.5)/len(res) for i in ind]\n",
    "z = stats.norm.ppf(kans)\n",
    "res = np.transpose(res)\n",
    "res = res[:,np.newaxis]\n",
    "az = np.linalg.lstsq(res, z,rcond=None)"
   ]
  },
  {
   "cell_type": "code",
   "execution_count": 365,
   "metadata": {},
   "outputs": [
    {
     "data": {
      "text/plain": [
       "array([-1.91450583, -1.91450583, -1.08532491, -1.08532491, -0.67448975,\n",
       "       -0.67448975, -0.35549042, -0.21042839, -0.06968492, -0.06968492,\n",
       "        0.21042839,  0.21042839,  0.50848806,  0.67448975,  0.67448975,\n",
       "        1.08532491,  1.08532491,  1.91450583])"
      ]
     },
     "execution_count": 365,
     "metadata": {},
     "output_type": "execute_result"
    }
   ],
   "source": [
    "stats.norm.ppf(kans)"
   ]
  },
  {
   "cell_type": "code",
   "execution_count": 366,
   "metadata": {},
   "outputs": [
    {
     "data": {
      "image/png": "[encoded data removed]",
      "text/plain": [
       "<Figure size 640x480 with 1 Axes>"
      ]
     },
     "metadata": {},
     "output_type": "display_data"
    }
   ],
   "source": [
    "fig, ax1 = plt.subplots(1,1)\n",
    "ax1.plot(res, az[0]*res, 'r')\n",
    "ax1.scatter(res, z)\n",
    "ax1.set_ylabel('z-score')\n",
    "ax1.set_xlabel('Residual')\n",
    "plt.show()\n"
   ]
  },
  {
   "cell_type": "code",
   "execution_count": 367,
   "metadata": {},
   "outputs": [
    {
     "data": {
      "text/plain": [
       "<StemContainer object of 3 artists>"
      ]
     },
     "execution_count": 367,
     "metadata": {},
     "output_type": "execute_result"
    },
    {
     "data": {
      "image/png": "[encoded data removed]",
      "text/plain": [
       "<Figure size 1200x800 with 2 Axes>"
      ]
     },
     "metadata": {},
     "output_type": "display_data"
    }
   ],
   "source": [
    "fig, (ax1,ax2) = plt.subplots(1,2,figsize=(12,8))\n",
    "\n",
    "ax1.stem(Data.type.values, model.resid, basefmt='k')\n",
    "ax2.stem(Data.method.values, model.resid, basefmt = 'k')"
   ]
  },
  {
   "cell_type": "code",
   "execution_count": 368,
   "metadata": {},
   "outputs": [
    {
     "data": {
      "text/plain": [
       "(5,)"
      ]
     },
     "execution_count": 368,
     "metadata": {},
     "output_type": "execute_result"
    }
   ],
   "source": [
    "yhat = mean_type + mean_method - np.mean(mean_method + mean_type)\n",
    "yhat.shape"
   ]
  },
  {
   "cell_type": "code",
   "execution_count": 369,
   "metadata": {},
   "outputs": [],
   "source": [
    "Data[\"mean_type\"] = np.nan"
   ]
  },
  {
   "cell_type": "code",
   "execution_count": 392,
   "metadata": {},
   "outputs": [],
   "source": [
    "A_names = Data[\"type\"].unique().tolist()"
   ]
  },
  {
   "cell_type": "code",
   "execution_count": 404,
   "metadata": {},
   "outputs": [
    {
     "name": "stderr",
     "output_type": "stream",
     "text": [
      "/tmp/ipykernel_64486/310240697.py:2: SettingWithCopyWarning: \n",
      "A value is trying to be set on a copy of a slice from a DataFrame\n",
      "\n",
      "See the caveats in the documentation: https://pandas.pydata.org/pandas-docs/stable/user_guide/indexing.html#returning-a-view-versus-a-copy\n",
      "  Data[\"mean_type\"][Data[\"type\"] == A_names[i]] = mean_type[i]\n"
     ]
    }
   ],
   "source": [
    "for i in range(len(A_names)):\n",
    "    Data[\"mean_type\"][Data[\"type\"] == A_names[i]] = mean_type[i]"
   ]
  },
  {
   "cell_type": "code",
   "execution_count": 376,
   "metadata": {},
   "outputs": [],
   "source": [
    "Data[\"mean_method\"] = np.repeat(mean_method, n*a)"
   ]
  },
  {
   "cell_type": "code",
   "execution_count": 372,
   "metadata": {},
   "outputs": [
    {
     "data": {
      "text/html": [
       "<div>\n",
       "<style scoped>\n",
       "    .dataframe tbody tr th:only-of-type {\n",
       "        vertical-align: middle;\n",
       "    }\n",
       "\n",
       "    .dataframe tbody tr th {\n",
       "        vertical-align: top;\n",
       "    }\n",
       "\n",
       "    .dataframe thead th {\n",
       "        text-align: right;\n",
       "    }\n",
       "</style>\n",
       "<table border=\"1\" class=\"dataframe\">\n",
       "  <thead>\n",
       "    <tr style=\"text-align: right;\">\n",
       "      <th></th>\n",
       "      <th>value</th>\n",
       "      <th>type</th>\n",
       "      <th>method</th>\n",
       "      <th>mean_type</th>\n",
       "      <th>mean_method</th>\n",
       "    </tr>\n",
       "  </thead>\n",
       "  <tbody>\n",
       "    <tr>\n",
       "      <th>0</th>\n",
       "      <td>4.0</td>\n",
       "      <td>1</td>\n",
       "      <td>dipping</td>\n",
       "      <td>4.783333</td>\n",
       "      <td>4.466667</td>\n",
       "    </tr>\n",
       "    <tr>\n",
       "      <th>1</th>\n",
       "      <td>4.5</td>\n",
       "      <td>1</td>\n",
       "      <td>dipping</td>\n",
       "      <td>4.783333</td>\n",
       "      <td>4.466667</td>\n",
       "    </tr>\n",
       "    <tr>\n",
       "      <th>2</th>\n",
       "      <td>4.3</td>\n",
       "      <td>1</td>\n",
       "      <td>dipping</td>\n",
       "      <td>4.783333</td>\n",
       "      <td>4.466667</td>\n",
       "    </tr>\n",
       "    <tr>\n",
       "      <th>3</th>\n",
       "      <td>5.6</td>\n",
       "      <td>2</td>\n",
       "      <td>dipping</td>\n",
       "      <td>5.683333</td>\n",
       "      <td>4.466667</td>\n",
       "    </tr>\n",
       "    <tr>\n",
       "      <th>4</th>\n",
       "      <td>4.9</td>\n",
       "      <td>2</td>\n",
       "      <td>dipping</td>\n",
       "      <td>5.683333</td>\n",
       "      <td>4.466667</td>\n",
       "    </tr>\n",
       "    <tr>\n",
       "      <th>5</th>\n",
       "      <td>5.4</td>\n",
       "      <td>2</td>\n",
       "      <td>dipping</td>\n",
       "      <td>5.683333</td>\n",
       "      <td>4.466667</td>\n",
       "    </tr>\n",
       "    <tr>\n",
       "      <th>6</th>\n",
       "      <td>3.8</td>\n",
       "      <td>3</td>\n",
       "      <td>dipping</td>\n",
       "      <td>4.500000</td>\n",
       "      <td>4.466667</td>\n",
       "    </tr>\n",
       "    <tr>\n",
       "      <th>7</th>\n",
       "      <td>3.7</td>\n",
       "      <td>3</td>\n",
       "      <td>dipping</td>\n",
       "      <td>4.500000</td>\n",
       "      <td>4.466667</td>\n",
       "    </tr>\n",
       "    <tr>\n",
       "      <th>8</th>\n",
       "      <td>4.0</td>\n",
       "      <td>3</td>\n",
       "      <td>dipping</td>\n",
       "      <td>4.500000</td>\n",
       "      <td>4.466667</td>\n",
       "    </tr>\n",
       "    <tr>\n",
       "      <th>9</th>\n",
       "      <td>5.4</td>\n",
       "      <td>1</td>\n",
       "      <td>spraying</td>\n",
       "      <td>4.783333</td>\n",
       "      <td>5.511111</td>\n",
       "    </tr>\n",
       "    <tr>\n",
       "      <th>10</th>\n",
       "      <td>4.9</td>\n",
       "      <td>1</td>\n",
       "      <td>spraying</td>\n",
       "      <td>4.783333</td>\n",
       "      <td>5.511111</td>\n",
       "    </tr>\n",
       "    <tr>\n",
       "      <th>11</th>\n",
       "      <td>5.6</td>\n",
       "      <td>1</td>\n",
       "      <td>spraying</td>\n",
       "      <td>4.783333</td>\n",
       "      <td>5.511111</td>\n",
       "    </tr>\n",
       "    <tr>\n",
       "      <th>12</th>\n",
       "      <td>5.8</td>\n",
       "      <td>2</td>\n",
       "      <td>spraying</td>\n",
       "      <td>5.683333</td>\n",
       "      <td>5.511111</td>\n",
       "    </tr>\n",
       "    <tr>\n",
       "      <th>13</th>\n",
       "      <td>6.1</td>\n",
       "      <td>2</td>\n",
       "      <td>spraying</td>\n",
       "      <td>5.683333</td>\n",
       "      <td>5.511111</td>\n",
       "    </tr>\n",
       "    <tr>\n",
       "      <th>14</th>\n",
       "      <td>6.3</td>\n",
       "      <td>2</td>\n",
       "      <td>spraying</td>\n",
       "      <td>5.683333</td>\n",
       "      <td>5.511111</td>\n",
       "    </tr>\n",
       "    <tr>\n",
       "      <th>15</th>\n",
       "      <td>5.5</td>\n",
       "      <td>3</td>\n",
       "      <td>spraying</td>\n",
       "      <td>4.500000</td>\n",
       "      <td>5.511111</td>\n",
       "    </tr>\n",
       "    <tr>\n",
       "      <th>16</th>\n",
       "      <td>5.0</td>\n",
       "      <td>3</td>\n",
       "      <td>spraying</td>\n",
       "      <td>4.500000</td>\n",
       "      <td>5.511111</td>\n",
       "    </tr>\n",
       "    <tr>\n",
       "      <th>17</th>\n",
       "      <td>5.0</td>\n",
       "      <td>3</td>\n",
       "      <td>spraying</td>\n",
       "      <td>4.500000</td>\n",
       "      <td>5.511111</td>\n",
       "    </tr>\n",
       "  </tbody>\n",
       "</table>\n",
       "</div>"
      ],
      "text/plain": [
       "    value  type    method  mean_type  mean_method\n",
       "0     4.0     1   dipping   4.783333     4.466667\n",
       "1     4.5     1   dipping   4.783333     4.466667\n",
       "2     4.3     1   dipping   4.783333     4.466667\n",
       "3     5.6     2   dipping   5.683333     4.466667\n",
       "4     4.9     2   dipping   5.683333     4.466667\n",
       "5     5.4     2   dipping   5.683333     4.466667\n",
       "6     3.8     3   dipping   4.500000     4.466667\n",
       "7     3.7     3   dipping   4.500000     4.466667\n",
       "8     4.0     3   dipping   4.500000     4.466667\n",
       "9     5.4     1  spraying   4.783333     5.511111\n",
       "10    4.9     1  spraying   4.783333     5.511111\n",
       "11    5.6     1  spraying   4.783333     5.511111\n",
       "12    5.8     2  spraying   5.683333     5.511111\n",
       "13    6.1     2  spraying   5.683333     5.511111\n",
       "14    6.3     2  spraying   5.683333     5.511111\n",
       "15    5.5     3  spraying   4.500000     5.511111\n",
       "16    5.0     3  spraying   4.500000     5.511111\n",
       "17    5.0     3  spraying   4.500000     5.511111"
      ]
     },
     "execution_count": 372,
     "metadata": {},
     "output_type": "execute_result"
    }
   ],
   "source": [
    "Data.dropna(axis=1)"
   ]
  },
  {
   "cell_type": "code",
   "execution_count": 373,
   "metadata": {},
   "outputs": [
    {
     "data": {
      "text/plain": [
       "0      9.455556\n",
       "1      9.455556\n",
       "2      9.455556\n",
       "3      9.455556\n",
       "4      9.455556\n",
       "5      9.455556\n",
       "6      9.455556\n",
       "7      9.455556\n",
       "8      9.455556\n",
       "9     10.500000\n",
       "10    10.500000\n",
       "11    10.500000\n",
       "12    10.500000\n",
       "13    10.500000\n",
       "14    10.500000\n",
       "15    10.500000\n",
       "16    10.500000\n",
       "17    10.500000\n",
       "Name: mean_method, dtype: float64"
      ]
     },
     "execution_count": 373,
     "metadata": {},
     "output_type": "execute_result"
    }
   ],
   "source": [
    "np.mean(Data[\"mean_type\"]) + (Data[\"mean_method\"])"
   ]
  },
  {
   "cell_type": "code",
   "execution_count": 374,
   "metadata": {},
   "outputs": [
    {
     "data": {
      "text/plain": [
       "0     4.261111\n",
       "1     4.261111\n",
       "2     4.261111\n",
       "3     5.161111\n",
       "4     5.161111\n",
       "5     5.161111\n",
       "6     3.977778\n",
       "7     3.977778\n",
       "8     3.977778\n",
       "9     5.305556\n",
       "10    5.305556\n",
       "11    5.305556\n",
       "12    6.205556\n",
       "13    6.205556\n",
       "14    6.205556\n",
       "15    5.022222\n",
       "16    5.022222\n",
       "17    5.022222\n",
       "dtype: float64"
      ]
     },
     "execution_count": 374,
     "metadata": {},
     "output_type": "execute_result"
    }
   ],
   "source": [
    "yhat = Data[\"value\"].mean() + ( Data[\"mean_type\"] + Data[\"mean_method\"] - np.mean(Data[\"mean_type\"] + Data[\"mean_method\"]))\n",
    "yhat"
   ]
  },
  {
   "cell_type": "code",
   "execution_count": 375,
   "metadata": {},
   "outputs": [
    {
     "data": {
      "image/png": "[encoded data removed]",
      "text/plain": [
       "<Figure size 640x480 with 1 Axes>"
      ]
     },
     "metadata": {},
     "output_type": "display_data"
    }
   ],
   "source": [
    "fig, ax = plt.subplots(1,1)\n",
    "plt.grid(True)\n",
    "ax.scatter(yhat, model.resid, zorder=3)\n",
    "ax.axhline(y = 0, color='k')\n",
    "plt.show()\n"
   ]
  }
 ],
 "metadata": {
  "kernelspec": {
   "display_name": "school",
   "language": "python",
   "name": "python3"
  },
  "language_info": {
   "codemirror_mode": {
    "name": "ipython",
    "version": 3
   },
   "file_extension": ".py",
   "mimetype": "text/x-python",
   "name": "python",
   "nbconvert_exporter": "python",
   "pygments_lexer": "ipython3",
   "version": "3.10.9"
  },
  "orig_nbformat": 4,
  "vscode": {
   "interpreter": {
    "hash": "461aa9db95cfad270846a0d02eb8f531ba8982f5cd6c22a0e39aad4aec46dde3"
   }
  }
 },
 "nbformat": 4,
 "nbformat_minor": 2
}
