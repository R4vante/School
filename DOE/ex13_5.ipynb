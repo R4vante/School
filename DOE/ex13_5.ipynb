{
 "cells": [
  {
   "cell_type": "code",
   "execution_count": 1,
   "metadata": {},
   "outputs": [],
   "source": [
    "import numpy as np\n",
    "import matplotlib.pyplot as plt\n",
    "import statsmodels.api as sm\n",
    "from statsmodels.formula.api import ols\n",
    "import scipy.stats as stats\n",
    "import seaborn as sns\n",
    "import pandas as pd"
   ]
  },
  {
   "cell_type": "code",
   "execution_count": 2,
   "metadata": {},
   "outputs": [],
   "source": [
    "df = pd.read_excel(\"katoen.xlsx\")\n",
    "df_melt = pd.melt(df.reset_index(), id_vars=['index'], value_vars=df.columns)\n",
    "a=5\n",
    "n=5"
   ]
  },
  {
   "cell_type": "code",
   "execution_count": 3,
   "metadata": {},
   "outputs": [
    {
     "data": {
      "text/html": [
       "<div>\n",
       "<style scoped>\n",
       "    .dataframe tbody tr th:only-of-type {\n",
       "        vertical-align: middle;\n",
       "    }\n",
       "\n",
       "    .dataframe tbody tr th {\n",
       "        vertical-align: top;\n",
       "    }\n",
       "\n",
       "    .dataframe thead th {\n",
       "        text-align: right;\n",
       "    }\n",
       "</style>\n",
       "<table border=\"1\" class=\"dataframe\">\n",
       "  <thead>\n",
       "    <tr style=\"text-align: right;\">\n",
       "      <th></th>\n",
       "      <th>index</th>\n",
       "      <th>treatment</th>\n",
       "      <th>value</th>\n",
       "    </tr>\n",
       "  </thead>\n",
       "  <tbody>\n",
       "    <tr>\n",
       "      <th>0</th>\n",
       "      <td>0</td>\n",
       "      <td>15%</td>\n",
       "      <td>7</td>\n",
       "    </tr>\n",
       "    <tr>\n",
       "      <th>1</th>\n",
       "      <td>1</td>\n",
       "      <td>15%</td>\n",
       "      <td>7</td>\n",
       "    </tr>\n",
       "    <tr>\n",
       "      <th>2</th>\n",
       "      <td>2</td>\n",
       "      <td>15%</td>\n",
       "      <td>15</td>\n",
       "    </tr>\n",
       "    <tr>\n",
       "      <th>3</th>\n",
       "      <td>3</td>\n",
       "      <td>15%</td>\n",
       "      <td>11</td>\n",
       "    </tr>\n",
       "    <tr>\n",
       "      <th>4</th>\n",
       "      <td>4</td>\n",
       "      <td>15%</td>\n",
       "      <td>9</td>\n",
       "    </tr>\n",
       "    <tr>\n",
       "      <th>5</th>\n",
       "      <td>0</td>\n",
       "      <td>20%</td>\n",
       "      <td>12</td>\n",
       "    </tr>\n",
       "    <tr>\n",
       "      <th>6</th>\n",
       "      <td>1</td>\n",
       "      <td>20%</td>\n",
       "      <td>17</td>\n",
       "    </tr>\n",
       "    <tr>\n",
       "      <th>7</th>\n",
       "      <td>2</td>\n",
       "      <td>20%</td>\n",
       "      <td>12</td>\n",
       "    </tr>\n",
       "    <tr>\n",
       "      <th>8</th>\n",
       "      <td>3</td>\n",
       "      <td>20%</td>\n",
       "      <td>18</td>\n",
       "    </tr>\n",
       "    <tr>\n",
       "      <th>9</th>\n",
       "      <td>4</td>\n",
       "      <td>20%</td>\n",
       "      <td>18</td>\n",
       "    </tr>\n",
       "    <tr>\n",
       "      <th>10</th>\n",
       "      <td>0</td>\n",
       "      <td>25%</td>\n",
       "      <td>14</td>\n",
       "    </tr>\n",
       "    <tr>\n",
       "      <th>11</th>\n",
       "      <td>1</td>\n",
       "      <td>25%</td>\n",
       "      <td>18</td>\n",
       "    </tr>\n",
       "    <tr>\n",
       "      <th>12</th>\n",
       "      <td>2</td>\n",
       "      <td>25%</td>\n",
       "      <td>18</td>\n",
       "    </tr>\n",
       "    <tr>\n",
       "      <th>13</th>\n",
       "      <td>3</td>\n",
       "      <td>25%</td>\n",
       "      <td>19</td>\n",
       "    </tr>\n",
       "    <tr>\n",
       "      <th>14</th>\n",
       "      <td>4</td>\n",
       "      <td>25%</td>\n",
       "      <td>19</td>\n",
       "    </tr>\n",
       "    <tr>\n",
       "      <th>15</th>\n",
       "      <td>0</td>\n",
       "      <td>30%</td>\n",
       "      <td>19</td>\n",
       "    </tr>\n",
       "    <tr>\n",
       "      <th>16</th>\n",
       "      <td>1</td>\n",
       "      <td>30%</td>\n",
       "      <td>25</td>\n",
       "    </tr>\n",
       "    <tr>\n",
       "      <th>17</th>\n",
       "      <td>2</td>\n",
       "      <td>30%</td>\n",
       "      <td>22</td>\n",
       "    </tr>\n",
       "    <tr>\n",
       "      <th>18</th>\n",
       "      <td>3</td>\n",
       "      <td>30%</td>\n",
       "      <td>19</td>\n",
       "    </tr>\n",
       "    <tr>\n",
       "      <th>19</th>\n",
       "      <td>4</td>\n",
       "      <td>30%</td>\n",
       "      <td>23</td>\n",
       "    </tr>\n",
       "    <tr>\n",
       "      <th>20</th>\n",
       "      <td>0</td>\n",
       "      <td>35%</td>\n",
       "      <td>7</td>\n",
       "    </tr>\n",
       "    <tr>\n",
       "      <th>21</th>\n",
       "      <td>1</td>\n",
       "      <td>35%</td>\n",
       "      <td>10</td>\n",
       "    </tr>\n",
       "    <tr>\n",
       "      <th>22</th>\n",
       "      <td>2</td>\n",
       "      <td>35%</td>\n",
       "      <td>11</td>\n",
       "    </tr>\n",
       "    <tr>\n",
       "      <th>23</th>\n",
       "      <td>3</td>\n",
       "      <td>35%</td>\n",
       "      <td>15</td>\n",
       "    </tr>\n",
       "    <tr>\n",
       "      <th>24</th>\n",
       "      <td>4</td>\n",
       "      <td>35%</td>\n",
       "      <td>11</td>\n",
       "    </tr>\n",
       "  </tbody>\n",
       "</table>\n",
       "</div>"
      ],
      "text/plain": [
       "    index treatment  value\n",
       "0       0       15%      7\n",
       "1       1       15%      7\n",
       "2       2       15%     15\n",
       "3       3       15%     11\n",
       "4       4       15%      9\n",
       "5       0       20%     12\n",
       "6       1       20%     17\n",
       "7       2       20%     12\n",
       "8       3       20%     18\n",
       "9       4       20%     18\n",
       "10      0       25%     14\n",
       "11      1       25%     18\n",
       "12      2       25%     18\n",
       "13      3       25%     19\n",
       "14      4       25%     19\n",
       "15      0       30%     19\n",
       "16      1       30%     25\n",
       "17      2       30%     22\n",
       "18      3       30%     19\n",
       "19      4       30%     23\n",
       "20      0       35%      7\n",
       "21      1       35%     10\n",
       "22      2       35%     11\n",
       "23      3       35%     15\n",
       "24      4       35%     11"
      ]
     },
     "execution_count": 3,
     "metadata": {},
     "output_type": "execute_result"
    }
   ],
   "source": [
    "df_melt.columns = [\"index\", \"treatment\", \"value\"]\n",
    "df_melt"
   ]
  },
  {
   "cell_type": "code",
   "execution_count": 4,
   "metadata": {},
   "outputs": [
    {
     "data": {
      "image/png": "[encoded data removed]",
      "text/plain": [
       "<Figure size 640x480 with 1 Axes>"
      ]
     },
     "metadata": {},
     "output_type": "display_data"
    }
   ],
   "source": [
    "fig = plt.figure()\n",
    "ax = sns.boxplot(data=df_melt, x='treatment', y='value')\n",
    "plt.show()"
   ]
  },
  {
   "attachments": {},
   "cell_type": "markdown",
   "metadata": {},
   "source": [
    "# Hoe moet ik in godsnaam deze boxplot interpreteren?\n",
    "\n",
    "In eerste oogopslag lijkt het katoen-gehalte invloed te hebben op de sterkte van de fiber."
   ]
  },
  {
   "cell_type": "code",
   "execution_count": 5,
   "metadata": {},
   "outputs": [
    {
     "data": {
      "text/html": [
       "<div>\n",
       "<style scoped>\n",
       "    .dataframe tbody tr th:only-of-type {\n",
       "        vertical-align: middle;\n",
       "    }\n",
       "\n",
       "    .dataframe tbody tr th {\n",
       "        vertical-align: top;\n",
       "    }\n",
       "\n",
       "    .dataframe thead th {\n",
       "        text-align: right;\n",
       "    }\n",
       "</style>\n",
       "<table border=\"1\" class=\"dataframe\">\n",
       "  <thead>\n",
       "    <tr style=\"text-align: right;\">\n",
       "      <th></th>\n",
       "      <th>sum_sq</th>\n",
       "      <th>df</th>\n",
       "      <th>F</th>\n",
       "      <th>PR(&gt;F)</th>\n",
       "    </tr>\n",
       "  </thead>\n",
       "  <tbody>\n",
       "    <tr>\n",
       "      <th>treatment</th>\n",
       "      <td>475.76</td>\n",
       "      <td>4.0</td>\n",
       "      <td>14.756824</td>\n",
       "      <td>0.000009</td>\n",
       "    </tr>\n",
       "    <tr>\n",
       "      <th>Residual</th>\n",
       "      <td>161.20</td>\n",
       "      <td>20.0</td>\n",
       "      <td>NaN</td>\n",
       "      <td>NaN</td>\n",
       "    </tr>\n",
       "  </tbody>\n",
       "</table>\n",
       "</div>"
      ],
      "text/plain": [
       "           sum_sq    df          F    PR(>F)\n",
       "treatment  475.76   4.0  14.756824  0.000009\n",
       "Residual   161.20  20.0        NaN       NaN"
      ]
     },
     "execution_count": 5,
     "metadata": {},
     "output_type": "execute_result"
    }
   ],
   "source": [
    "# ANOVA\n",
    "\n",
    "model = ols('value~treatment', data=df_melt).fit()\n",
    "anova_table = sm.stats.anova_lm(model, typ=2)\n",
    "anova_table"
   ]
  },
  {
   "cell_type": "code",
   "execution_count": 6,
   "metadata": {},
   "outputs": [
    {
     "name": "stdout",
     "output_type": "stream",
     "text": [
      "H0 rejected: there seems to be a significant difference among the treatments.\n"
     ]
    }
   ],
   "source": [
    "pvalue = anova_table[\"PR(>F)\"]['treatment']\n",
    "\n",
    "if pvalue < 0.05:\n",
    "    print(\"H0 rejected: there seems to be a significant difference among the treatments.\")\n",
    "\n",
    "else:\n",
    "    print(\"H0 accepted: there does not seem te bo a significant difference among the treatments.\")"
   ]
  },
  {
   "attachments": {},
   "cell_type": "markdown",
   "metadata": {},
   "source": [
    "Nulhypothese wordt dus volgens ANOVA afgewezen, dus er lijkt een significant verschil tussen de treatments te zijn."
   ]
  },
  {
   "cell_type": "code",
   "execution_count": 7,
   "metadata": {},
   "outputs": [],
   "source": [
    "perc = [15, 20, 25, 30, 35]\n",
    "means = []\n",
    "\n",
    "for col in df.columns:\n",
    "    mean = df[col].values.mean()\n",
    "    means.append(mean)\n",
    "means\n",
    "df_melt[\"means\"] = np.repeat(means,5)"
   ]
  },
  {
   "cell_type": "code",
   "execution_count": 8,
   "metadata": {},
   "outputs": [
    {
     "data": {
      "text/plain": [
       "3.827124348752533"
      ]
     },
     "execution_count": 8,
     "metadata": {},
     "output_type": "execute_result"
    }
   ],
   "source": [
    "sse = anova_table[\"sum_sq\"][\"Residual\"]\n",
    "mse = sse/(a*(n-1))\n",
    "t_crit = stats.t.ppf(q=0.975, df=15)\n",
    "t_crit\n",
    "\n",
    "lsd = t_crit*np.sqrt(2*mse/n)\n",
    "lsd"
   ]
  },
  {
   "attachments": {},
   "cell_type": "markdown",
   "metadata": {},
   "source": [
    "# LSD test"
   ]
  },
  {
   "cell_type": "code",
   "execution_count": 9,
   "metadata": {},
   "outputs": [
    {
     "name": "stdout",
     "output_type": "stream",
     "text": [
      "1-2: SIGNIFICANT DIFFERENCE!\n",
      "1-3: SIGNIFICANT DIFFERENCE!\n",
      "1-4: SIGNIFICANT DIFFERENCE!\n",
      "1-5: no significant difference \n",
      "2-3: no significant difference \n",
      "2-4: SIGNIFICANT DIFFERENCE!\n",
      "2-5: SIGNIFICANT DIFFERENCE!\n",
      "3-4: SIGNIFICANT DIFFERENCE!\n",
      "3-5: SIGNIFICANT DIFFERENCE!\n",
      "4-5: SIGNIFICANT DIFFERENCE!\n"
     ]
    }
   ],
   "source": [
    "i = 0\n",
    "\n",
    "while i < len(means)-1:\n",
    "    for j in range(i+1, len(means)):\n",
    "        diff= np.abs(means[i]-means[j])\n",
    "        if diff > lsd:\n",
    "            print(\"%i-%i: SIGNIFICANT DIFFERENCE!\" %((i+1),(j+1)))\n",
    "        else:\n",
    "            print(\"%i-%i: no significant difference \" %(i+1,j+1))\n",
    "    i+=1"
   ]
  },
  {
   "cell_type": "code",
   "execution_count": 10,
   "metadata": {},
   "outputs": [
    {
     "data": {
      "image/png": "[encoded data removed]",
      "text/plain": [
       "<Figure size 640x480 with 1 Axes>"
      ]
     },
     "metadata": {},
     "output_type": "display_data"
    }
   ],
   "source": [
    "fig, ax = plt.subplots(1,1)\n",
    "ax.scatter(perc, means)\n",
    "ax.set_xlabel(\"Percentage\")\n",
    "ax.set_ylabel(r\"$\\bar{y}_i$\")\n",
    "plt.show()"
   ]
  },
  {
   "cell_type": "code",
   "execution_count": 11,
   "metadata": {},
   "outputs": [
    {
     "data": {
      "text/html": [
       "<div>\n",
       "<style scoped>\n",
       "    .dataframe tbody tr th:only-of-type {\n",
       "        vertical-align: middle;\n",
       "    }\n",
       "\n",
       "    .dataframe tbody tr th {\n",
       "        vertical-align: top;\n",
       "    }\n",
       "\n",
       "    .dataframe thead th {\n",
       "        text-align: right;\n",
       "    }\n",
       "</style>\n",
       "<table border=\"1\" class=\"dataframe\">\n",
       "  <thead>\n",
       "    <tr style=\"text-align: right;\">\n",
       "      <th></th>\n",
       "      <th>index</th>\n",
       "      <th>treatment</th>\n",
       "      <th>value</th>\n",
       "      <th>means</th>\n",
       "      <th>residuals</th>\n",
       "    </tr>\n",
       "  </thead>\n",
       "  <tbody>\n",
       "    <tr>\n",
       "      <th>0</th>\n",
       "      <td>0</td>\n",
       "      <td>15%</td>\n",
       "      <td>7</td>\n",
       "      <td>9.8</td>\n",
       "      <td>-2.8</td>\n",
       "    </tr>\n",
       "    <tr>\n",
       "      <th>1</th>\n",
       "      <td>1</td>\n",
       "      <td>15%</td>\n",
       "      <td>7</td>\n",
       "      <td>9.8</td>\n",
       "      <td>-2.8</td>\n",
       "    </tr>\n",
       "    <tr>\n",
       "      <th>2</th>\n",
       "      <td>2</td>\n",
       "      <td>15%</td>\n",
       "      <td>15</td>\n",
       "      <td>9.8</td>\n",
       "      <td>5.2</td>\n",
       "    </tr>\n",
       "    <tr>\n",
       "      <th>3</th>\n",
       "      <td>3</td>\n",
       "      <td>15%</td>\n",
       "      <td>11</td>\n",
       "      <td>9.8</td>\n",
       "      <td>1.2</td>\n",
       "    </tr>\n",
       "    <tr>\n",
       "      <th>4</th>\n",
       "      <td>4</td>\n",
       "      <td>15%</td>\n",
       "      <td>9</td>\n",
       "      <td>9.8</td>\n",
       "      <td>-0.8</td>\n",
       "    </tr>\n",
       "    <tr>\n",
       "      <th>5</th>\n",
       "      <td>0</td>\n",
       "      <td>20%</td>\n",
       "      <td>12</td>\n",
       "      <td>15.4</td>\n",
       "      <td>-3.4</td>\n",
       "    </tr>\n",
       "    <tr>\n",
       "      <th>6</th>\n",
       "      <td>1</td>\n",
       "      <td>20%</td>\n",
       "      <td>17</td>\n",
       "      <td>15.4</td>\n",
       "      <td>1.6</td>\n",
       "    </tr>\n",
       "    <tr>\n",
       "      <th>7</th>\n",
       "      <td>2</td>\n",
       "      <td>20%</td>\n",
       "      <td>12</td>\n",
       "      <td>15.4</td>\n",
       "      <td>-3.4</td>\n",
       "    </tr>\n",
       "    <tr>\n",
       "      <th>8</th>\n",
       "      <td>3</td>\n",
       "      <td>20%</td>\n",
       "      <td>18</td>\n",
       "      <td>15.4</td>\n",
       "      <td>2.6</td>\n",
       "    </tr>\n",
       "    <tr>\n",
       "      <th>9</th>\n",
       "      <td>4</td>\n",
       "      <td>20%</td>\n",
       "      <td>18</td>\n",
       "      <td>15.4</td>\n",
       "      <td>2.6</td>\n",
       "    </tr>\n",
       "    <tr>\n",
       "      <th>10</th>\n",
       "      <td>0</td>\n",
       "      <td>25%</td>\n",
       "      <td>14</td>\n",
       "      <td>17.6</td>\n",
       "      <td>-3.6</td>\n",
       "    </tr>\n",
       "    <tr>\n",
       "      <th>11</th>\n",
       "      <td>1</td>\n",
       "      <td>25%</td>\n",
       "      <td>18</td>\n",
       "      <td>17.6</td>\n",
       "      <td>0.4</td>\n",
       "    </tr>\n",
       "    <tr>\n",
       "      <th>12</th>\n",
       "      <td>2</td>\n",
       "      <td>25%</td>\n",
       "      <td>18</td>\n",
       "      <td>17.6</td>\n",
       "      <td>0.4</td>\n",
       "    </tr>\n",
       "    <tr>\n",
       "      <th>13</th>\n",
       "      <td>3</td>\n",
       "      <td>25%</td>\n",
       "      <td>19</td>\n",
       "      <td>17.6</td>\n",
       "      <td>1.4</td>\n",
       "    </tr>\n",
       "    <tr>\n",
       "      <th>14</th>\n",
       "      <td>4</td>\n",
       "      <td>25%</td>\n",
       "      <td>19</td>\n",
       "      <td>17.6</td>\n",
       "      <td>1.4</td>\n",
       "    </tr>\n",
       "    <tr>\n",
       "      <th>15</th>\n",
       "      <td>0</td>\n",
       "      <td>30%</td>\n",
       "      <td>19</td>\n",
       "      <td>21.6</td>\n",
       "      <td>-2.6</td>\n",
       "    </tr>\n",
       "    <tr>\n",
       "      <th>16</th>\n",
       "      <td>1</td>\n",
       "      <td>30%</td>\n",
       "      <td>25</td>\n",
       "      <td>21.6</td>\n",
       "      <td>3.4</td>\n",
       "    </tr>\n",
       "    <tr>\n",
       "      <th>17</th>\n",
       "      <td>2</td>\n",
       "      <td>30%</td>\n",
       "      <td>22</td>\n",
       "      <td>21.6</td>\n",
       "      <td>0.4</td>\n",
       "    </tr>\n",
       "    <tr>\n",
       "      <th>18</th>\n",
       "      <td>3</td>\n",
       "      <td>30%</td>\n",
       "      <td>19</td>\n",
       "      <td>21.6</td>\n",
       "      <td>-2.6</td>\n",
       "    </tr>\n",
       "    <tr>\n",
       "      <th>19</th>\n",
       "      <td>4</td>\n",
       "      <td>30%</td>\n",
       "      <td>23</td>\n",
       "      <td>21.6</td>\n",
       "      <td>1.4</td>\n",
       "    </tr>\n",
       "    <tr>\n",
       "      <th>20</th>\n",
       "      <td>0</td>\n",
       "      <td>35%</td>\n",
       "      <td>7</td>\n",
       "      <td>10.8</td>\n",
       "      <td>-3.8</td>\n",
       "    </tr>\n",
       "    <tr>\n",
       "      <th>21</th>\n",
       "      <td>1</td>\n",
       "      <td>35%</td>\n",
       "      <td>10</td>\n",
       "      <td>10.8</td>\n",
       "      <td>-0.8</td>\n",
       "    </tr>\n",
       "    <tr>\n",
       "      <th>22</th>\n",
       "      <td>2</td>\n",
       "      <td>35%</td>\n",
       "      <td>11</td>\n",
       "      <td>10.8</td>\n",
       "      <td>0.2</td>\n",
       "    </tr>\n",
       "    <tr>\n",
       "      <th>23</th>\n",
       "      <td>3</td>\n",
       "      <td>35%</td>\n",
       "      <td>15</td>\n",
       "      <td>10.8</td>\n",
       "      <td>4.2</td>\n",
       "    </tr>\n",
       "    <tr>\n",
       "      <th>24</th>\n",
       "      <td>4</td>\n",
       "      <td>35%</td>\n",
       "      <td>11</td>\n",
       "      <td>10.8</td>\n",
       "      <td>0.2</td>\n",
       "    </tr>\n",
       "  </tbody>\n",
       "</table>\n",
       "</div>"
      ],
      "text/plain": [
       "    index treatment  value  means  residuals\n",
       "0       0       15%      7    9.8       -2.8\n",
       "1       1       15%      7    9.8       -2.8\n",
       "2       2       15%     15    9.8        5.2\n",
       "3       3       15%     11    9.8        1.2\n",
       "4       4       15%      9    9.8       -0.8\n",
       "5       0       20%     12   15.4       -3.4\n",
       "6       1       20%     17   15.4        1.6\n",
       "7       2       20%     12   15.4       -3.4\n",
       "8       3       20%     18   15.4        2.6\n",
       "9       4       20%     18   15.4        2.6\n",
       "10      0       25%     14   17.6       -3.6\n",
       "11      1       25%     18   17.6        0.4\n",
       "12      2       25%     18   17.6        0.4\n",
       "13      3       25%     19   17.6        1.4\n",
       "14      4       25%     19   17.6        1.4\n",
       "15      0       30%     19   21.6       -2.6\n",
       "16      1       30%     25   21.6        3.4\n",
       "17      2       30%     22   21.6        0.4\n",
       "18      3       30%     19   21.6       -2.6\n",
       "19      4       30%     23   21.6        1.4\n",
       "20      0       35%      7   10.8       -3.8\n",
       "21      1       35%     10   10.8       -0.8\n",
       "22      2       35%     11   10.8        0.2\n",
       "23      3       35%     15   10.8        4.2\n",
       "24      4       35%     11   10.8        0.2"
      ]
     },
     "execution_count": 11,
     "metadata": {},
     "output_type": "execute_result"
    }
   ],
   "source": [
    "residual = model.resid\n",
    "residual\n",
    "df_melt[\"residuals\"]=residual\n",
    "df_melt"
   ]
  },
  {
   "cell_type": "code",
   "execution_count": 12,
   "metadata": {},
   "outputs": [
    {
     "data": {
      "text/plain": [
       "Text(0, 0.5, 'Residual')"
      ]
     },
     "execution_count": 12,
     "metadata": {},
     "output_type": "execute_result"
    },
    {
     "data": {
      "image/png": "[encoded data removed]",
      "text/plain": [
       "<Figure size 1200x800 with 2 Axes>"
      ]
     },
     "metadata": {},
     "output_type": "display_data"
    }
   ],
   "source": [
    "fig, ax = plt.subplots(1,2, figsize=(12,8))\n",
    "ax[0].stem(df_melt['treatment'], df_melt['residuals'], basefmt='k')\n",
    "ax[0].set_xlabel('Treatment')\n",
    "ax[0].set_ylabel('Residual')\n",
    "ax[1].stem(df_melt['means'], df_melt['residuals'], basefmt='k')\n",
    "ax[1].set_xlabel(r\"$\\bar{y}_i$\")\n",
    "ax[1].set_ylabel('Residual')"
   ]
  },
  {
   "attachments": {},
   "cell_type": "markdown",
   "metadata": {},
   "source": [
    "# Geen idee wat deze grafieken aangeven"
   ]
  },
  {
   "cell_type": "code",
   "execution_count": 13,
   "metadata": {},
   "outputs": [
    {
     "data": {
      "image/png": "[encoded data removed]",
      "text/plain": [
       "<Figure size 640x480 with 1 Axes>"
      ]
     },
     "metadata": {},
     "output_type": "display_data"
    }
   ],
   "source": [
    "fig, ax = plt.subplots(1,1)\n",
    "stats.probplot(df_melt['residuals'], dist=\"norm\", plot=plt)\n",
    "ax.set_xlabel('z-score')\n",
    "ax.set_ylabel('Residual')\n",
    "plt.show()"
   ]
  },
  {
   "attachments": {},
   "cell_type": "markdown",
   "metadata": {},
   "source": [
    "# Ik weet dat als datapunten een lineaire trent hebben ze een relatie kunnen hebben met de normaal verdeling, ik weet echter niet of het in dit geval ook geldt"
   ]
  }
 ],
 "metadata": {
  "kernelspec": {
   "display_name": "python",
   "language": "python",
   "name": "python3"
  },
  "language_info": {
   "codemirror_mode": {
    "name": "ipython",
    "version": 3
   },
   "file_extension": ".py",
   "mimetype": "text/x-python",
   "name": "python",
   "nbconvert_exporter": "python",
   "pygments_lexer": "ipython3",
   "version": "3.10.8"
  },
  "orig_nbformat": 4,
  "vscode": {
   "interpreter": {
    "hash": "2a59c52a014b2baf96a645a5e1b5479701ce084bc5b6436a8f253b184a60e5ca"
   }
  }
 },
 "nbformat": 4,
 "nbformat_minor": 2
}
