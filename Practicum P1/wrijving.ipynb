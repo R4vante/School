{
 "cells": [
  {
   "cell_type": "code",
   "execution_count": 4,
   "metadata": {},
   "outputs": [],
   "source": [
    "import sympy as smp\n",
    "import numpy as np"
   ]
  },
  {
   "cell_type": "markdown",
   "metadata": {},
   "source": [
    "# Min-max voor wrijvingscoëfficiënt\n",
    "\n",
    "De statitsche wrijvingscoëfficiënt $\\mu$ is\n",
    "\n",
    "$$ \\mu\\ =\\ \\frac{\\sin\\left(\\alpha \\right)}{\\cos\\left(\\alpha \\right)}\\ =\\ \\tan\\left(\\alpha\\right)$$\n",
    "\n",
    "De min-max methode is gedefinieerd als:\n",
    "\n",
    "$$\\Delta \\alpha\\ =\\ \\frac{d \\mu}{d \\alpha}\\ \\Delta \\alpha\\ =\\ \\frac{d}{d \\alpha} \\left( \\tan\\left(\\alpha \\right)\\right)\\ \\Delta \\alpha$$"
   ]
  },
  {
   "cell_type": "code",
   "execution_count": 5,
   "metadata": {},
   "outputs": [],
   "source": [
    "alph = smp.symbols('alpha')\n",
    "dalph = smp.Symbol(r'\\Delta \\alpha')\n"
   ]
  },
  {
   "cell_type": "code",
   "execution_count": 6,
   "metadata": {},
   "outputs": [],
   "source": [
    "mu = smp.tan(alph)"
   ]
  },
  {
   "cell_type": "code",
   "execution_count": 7,
   "metadata": {},
   "outputs": [
    {
     "data": {
      "text/latex": [
       "$\\displaystyle \\tan{\\left(\\alpha \\right)}$"
      ],
      "text/plain": [
       "tan(alpha)"
      ]
     },
     "execution_count": 7,
     "metadata": {},
     "output_type": "execute_result"
    }
   ],
   "source": [
    "mu"
   ]
  },
  {
   "cell_type": "code",
   "execution_count": 8,
   "metadata": {},
   "outputs": [],
   "source": [
    "dmu = mu.diff().simplify() * dalph"
   ]
  },
  {
   "cell_type": "code",
   "execution_count": 9,
   "metadata": {},
   "outputs": [
    {
     "data": {
      "text/latex": [
       "$\\displaystyle \\frac{\\Delta \\alpha}{\\cos^{2}{\\left(\\alpha \\right)}}$"
      ],
      "text/plain": [
       "\\Delta \\alpha/cos(alpha)**2"
      ]
     },
     "execution_count": 9,
     "metadata": {},
     "output_type": "execute_result"
    }
   ],
   "source": [
    "dmu"
   ]
  },
  {
   "cell_type": "markdown",
   "metadata": {},
   "source": [
    "## Rekenvoorbeeld\n",
    "\n",
    "$\\alpha\\ =\\ 25^{\\circ}$ en $\\Delta \\alpha\\ =\\ 0.3$"
   ]
  },
  {
   "cell_type": "code",
   "execution_count": 10,
   "metadata": {},
   "outputs": [],
   "source": [
    "a = 25\n",
    "da = 0.3\n",
    "\n",
    "a = np.deg2rad(25)\n",
    "da = np.deg2rad(0.3)"
   ]
  },
  {
   "cell_type": "code",
   "execution_count": 15,
   "metadata": {},
   "outputs": [],
   "source": [
    "dmu_f = smp.lambdify((alph, dalph), dmu)\n",
    "mu_f = smp.lambdify((alph), mu)"
   ]
  },
  {
   "cell_type": "code",
   "execution_count": 16,
   "metadata": {},
   "outputs": [
    {
     "data": {
      "text/plain": [
       "0.4663076581549986"
      ]
     },
     "execution_count": 16,
     "metadata": {},
     "output_type": "execute_result"
    }
   ],
   "source": [
    "mu_f(a)"
   ]
  },
  {
   "cell_type": "code",
   "execution_count": 17,
   "metadata": {},
   "outputs": [
    {
     "data": {
      "text/plain": [
       "0.006374515762243993"
      ]
     },
     "execution_count": 17,
     "metadata": {},
     "output_type": "execute_result"
    }
   ],
   "source": [
    "dmu_f(a, da)"
   ]
  }
 ],
 "metadata": {
  "kernelspec": {
   "display_name": "Python 3.10.6 64-bit",
   "language": "python",
   "name": "python3"
  },
  "language_info": {
   "codemirror_mode": {
    "name": "ipython",
    "version": 3
   },
   "file_extension": ".py",
   "mimetype": "text/x-python",
   "name": "python",
   "nbconvert_exporter": "python",
   "pygments_lexer": "ipython3",
   "version": "3.10.6"
  },
  "orig_nbformat": 4,
  "vscode": {
   "interpreter": {
    "hash": "e7370f93d1d0cde622a1f8e1c04877d8463912d04d973331ad4851f04de6915a"
   }
  }
 },
 "nbformat": 4,
 "nbformat_minor": 2
}
