{
 "cells": [
  {
   "cell_type": "code",
   "execution_count": 31,
   "metadata": {},
   "outputs": [],
   "source": [
    "import sympy as smp"
   ]
  },
  {
   "cell_type": "markdown",
   "metadata": {},
   "source": [
    "# Min-max voor wrijvingscoëfficiënt\n",
    "\n",
    "De statitsche wrijvingscoëfficiënt $\\mu$ is\n",
    "\n",
    "$$ \\mu\\ =\\ \\frac{\\sin\\left(\\alpha \\right)}{\\cos\\left(\\alpha \\right)}\\ =\\ \\tan\\left(\\alpha\\right)$$\n",
    "\n",
    "De min-max methode is gedefinieerd als:\n",
    "\n",
    "$$\\Delta \\alpha\\ =\\ \\frac{d \\mu}{d \\alpha}\\ \\Delta \\alpha\\ =\\ \\frac{d}{d \\alpha} \\left( \\tan\\left(\\alpha \\right)\\right)\\ \\Delta \\alpha$$"
   ]
  },
  {
   "cell_type": "code",
   "execution_count": 32,
   "metadata": {},
   "outputs": [],
   "source": [
    "alph = smp.symbols('alpha')\n",
    "dalph = smp.Symbol(r'\\Delta \\alpha')\n"
   ]
  },
  {
   "cell_type": "code",
   "execution_count": 33,
   "metadata": {},
   "outputs": [],
   "source": [
    "mu = smp.tan(alph)"
   ]
  },
  {
   "cell_type": "code",
   "execution_count": 34,
   "metadata": {},
   "outputs": [
    {
     "data": {
      "text/latex": [
       "$\\displaystyle \\tan{\\left(\\alpha \\right)}$"
      ],
      "text/plain": [
       "tan(alpha)"
      ]
     },
     "execution_count": 34,
     "metadata": {},
     "output_type": "execute_result"
    }
   ],
   "source": [
    "mu"
   ]
  },
  {
   "cell_type": "code",
   "execution_count": 35,
   "metadata": {},
   "outputs": [],
   "source": [
    "dmu = mu.diff().simplify() * dalph"
   ]
  },
  {
   "cell_type": "code",
   "execution_count": 36,
   "metadata": {},
   "outputs": [
    {
     "data": {
      "text/latex": [
       "$\\displaystyle \\frac{\\Delta \\alpha}{\\cos^{2}{\\left(\\alpha \\right)}}$"
      ],
      "text/plain": [
       "\\Delta \\alpha/cos(alpha)**2"
      ]
     },
     "execution_count": 36,
     "metadata": {},
     "output_type": "execute_result"
    }
   ],
   "source": [
    "dmu"
   ]
  }
 ],
 "metadata": {
  "kernelspec": {
   "display_name": "Python 3.10.6 64-bit",
   "language": "python",
   "name": "python3"
  },
  "language_info": {
   "codemirror_mode": {
    "name": "ipython",
    "version": 3
   },
   "file_extension": ".py",
   "mimetype": "text/x-python",
   "name": "python",
   "nbconvert_exporter": "python",
   "pygments_lexer": "ipython3",
   "version": "3.10.6"
  },
  "orig_nbformat": 4,
  "vscode": {
   "interpreter": {
    "hash": "e7370f93d1d0cde622a1f8e1c04877d8463912d04d973331ad4851f04de6915a"
   }
  }
 },
 "nbformat": 4,
 "nbformat_minor": 2
}
