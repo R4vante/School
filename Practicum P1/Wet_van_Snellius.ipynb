{
 "cells": [
  {
   "cell_type": "code",
   "execution_count": 7,
   "metadata": {},
   "outputs": [],
   "source": [
    "import numpy as np\n",
    "import matplotlib.pyplot as plt\n",
    "from scipy import stats\n",
    "plt.rcParams['text.usetex'] = True"
   ]
  },
  {
   "cell_type": "markdown",
   "metadata": {},
   "source": [
    "# Practicum Wet van Snellius\n",
    "\n",
    "## Belangrijke punten\n",
    "\n",
    "* Omzetten van graden naar radialen in excel\n",
    "* Waarom de sinus van de hoeken uitgezet worden.\n",
    "* Lineaire regressie\n",
    "* Bepaling van de fout in richtingscoëfficient (omrekenen van statistische naar absolute fout)\n",
    "* Zien dat de richtingscoëfficient van de grafiek in wet van Snellius staat.\n",
    "\n",
    "Zelf vind ik het tweede deel (bepaling van de planparallele verschuiving niet zo belangrijk)\n",
    "\n",
    "## Plan van aanpak tijdens practicum\n",
    "\n",
    "Vooraf: Met studenten kort een tekening maken om breking te illustreren.\n",
    "\n",
    "Tussendoor: Lineaire regressie kort bespreken. Belangrijke punten hier zijn:\n",
    "* Waarom zet ik de sinus uit en niet alleen de hoek? (lineairisatie)\n",
    "* Wat is de richtingscoëfficient? (verband met wet van Snellius)\n",
    "* Wat stelt de fout in de richtingscoëfficient voor? (zien dat de fout in de brekingsindex gelijk is aan fout in de richtingscoëfficient).\n",
    "\n",
    "## Fouten die studenten kunnen maken\n",
    "\n",
    "* De optische-as van de platbolle lens verkeerd niet meeverschuiven als de platbolle lens geroteerd wordt.\n",
    "* Vergeten de sinus tegen elkaar uit te zetten.\n",
    "* x- en y-data in grafiek verwisselen (hoeft geen probleem te zijn als ze zien dat je in de wet van Snellius $1/rc$ in moet zetten).\n",
    "\n",
    "\n",
    "## Deel 1: Breking platbolle lens\n",
    "\n",
    "* Grenshoek berekenen\n",
    "* Bepalen brekingshoek $\\phi_2$\n",
    "* plot $sin(\\phi_1)$ tegen $sin(\\phi_2)$\n",
    "* lineaire regressie"
   ]
  },
  {
   "cell_type": "markdown",
   "metadata": {},
   "source": [
    "## Bepaling grenshoek"
   ]
  },
  {
   "cell_type": "code",
   "execution_count": 8,
   "metadata": {},
   "outputs": [],
   "source": [
    "n1 = 1.00029 # Brekingsindex lucht\n",
    "n2 = 1.49  # brekingsindex plexiglas\n",
    "\n",
    "# Grenshoek\n",
    "phi_g = np.arcsin(n1/n2)"
   ]
  },
  {
   "cell_type": "code",
   "execution_count": 9,
   "metadata": {},
   "outputs": [
    {
     "data": {
      "text/plain": [
       "42.170228639439344"
      ]
     },
     "execution_count": 9,
     "metadata": {},
     "output_type": "execute_result"
    }
   ],
   "source": [
    "np.degrees(phi_g)"
   ]
  },
  {
   "cell_type": "markdown",
   "metadata": {},
   "source": [
    "## Fictieve meting\n",
    "\n",
    "* 10 metingen van $\\phi_1$ tussen 0 en 80 $^\\circ$.\n",
    "* met brekingsindex theoretische $\\phi_2$ berekenen\n",
    "* Meting fictief creeëren (random)\n",
    "\n",
    "Meest voorkomende fout bij deze meting is dat de platbolle lens geroteerd wordt om de invalshoek te veranderen. Hierbij moet eraan gedacht worden de optische-as mee te roteren, anders volgt er naderhand geen lineaire grafiek."
   ]
  },
  {
   "cell_type": "code",
   "execution_count": 19,
   "metadata": {},
   "outputs": [],
   "source": [
    "# Bepaling phi2\n",
    "\n",
    "phi_1 = np.linspace(0.0, 80, 9)\n",
    "phi_1rad = np.deg2rad(phi_1)\n",
    "\n",
    "phi_2rad = np.arcsin(n1/n2 * np.sin(phi_1rad))\n",
    "phi_2 = np.degrees(phi_2rad)\n",
    "\n",
    "\n",
    "# phi2 random\n",
    "phi_2m = [phi_2[i] * np.random.uniform(0.97, 1.03) for i in range(len(phi_2))]"
   ]
  },
  {
   "cell_type": "code",
   "execution_count": 20,
   "metadata": {},
   "outputs": [
    {
     "name": "stdout",
     "output_type": "stream",
     "text": [
      "[ 0. 10. 20. 30. 40. 50. 60. 70. 80.]\n",
      "[0.0, 6.617592885372499, 13.585384715643603, 19.078228387848274, 25.22401579971575, 31.770483052833402, 34.81596613746937, 38.7786321898314, 42.38263591112108]\n"
     ]
    }
   ],
   "source": [
    "print(phi_1.T)\n",
    "print(phi_2m)"
   ]
  },
  {
   "cell_type": "markdown",
   "metadata": {},
   "source": [
    "## Grafiek uitzetten\n",
    "\n",
    "Fouten:\n",
    "\n",
    "* de sinus wordt niet vooraf berekend, waardoor de grafiek niet lineair is.\n",
    "* Hoeken worden verkeerdom uitgezet waardoor de brekingsindex omgekeerd proportionaal wordt met de richtingscoëfficient."
   ]
  },
  {
   "cell_type": "code",
   "execution_count": 25,
   "metadata": {},
   "outputs": [
    {
     "data": {
      "image/png": "[encoded data removed]",
      "text/plain": [
       "<Figure size 576x576 with 1 Axes>"
      ]
     },
     "metadata": {
      "needs_background": "light"
     },
     "output_type": "display_data"
    }
   ],
   "source": [
    "fig1 = plt.figure(figsize=(8,8))\n",
    "ax1 = fig1.add_subplot(111)\n",
    "\n",
    "# ax1.scatter(np.sin(np.deg2rad(phi_2)), np.sin(np.deg2rad(phi_1)), label='theoretisch')\n",
    "ax1.scatter(np.sin(np.deg2rad(phi_2m)), np.sin(np.deg2rad(phi_1)), label='meting')\n",
    "\n",
    "ax1.set_xlabel(r'$\\sin(\\phi_2)$', fontsize=15)\n",
    "ax1.set_ylabel(r'$\\sin(\\phi_1)$', fontsize=15)\n",
    "\n",
    "# lineaire regressie\n",
    "slope, intercept, r, p, stat_err = stats.linregress(np.sin(np.deg2rad(phi_2m)), np.sin(np.deg2rad(phi_1)) )\n",
    "model = slope*np.sin(np.deg2rad(phi_1)) + intercept\n",
    "\n",
    "ax1.plot(np.sin(np.deg2rad(phi_1)), model, '--')\n",
    "ax1.text(0.22, 0.86, r'$y\\ =\\ %3f\\ x\\ +\\ %3f$' % (slope, intercept), fontsize=15)\n",
    "ax1.text(0.22, 0.81, r'$R^2\\ =\\ %f$' % r, fontsize=15)\n",
    "\n",
    "ax1.set_xlim([0, 0.7])\n",
    "ax1.set_ylim([0,1])\n",
    "\n",
    "# ax1.legend()\n",
    "ax1.grid(True)"
   ]
  },
  {
   "cell_type": "code",
   "execution_count": 11,
   "metadata": {},
   "outputs": [
    {
     "data": {
      "text/plain": [
       "0.040756459613461006"
      ]
     },
     "execution_count": 11,
     "metadata": {},
     "output_type": "execute_result"
    }
   ],
   "source": [
    "drc = 2.306 * stat_err\n",
    "drc"
   ]
  },
  {
   "cell_type": "markdown",
   "metadata": {},
   "source": [
    "# Hier een voorbeeld wanneer de sinus niet berekend wordt."
   ]
  },
  {
   "cell_type": "code",
   "execution_count": 12,
   "metadata": {},
   "outputs": [
    {
     "data": {
      "image/png": "[encoded data removed]",
      "text/plain": [
       "<Figure size 576x576 with 1 Axes>"
      ]
     },
     "metadata": {
      "needs_background": "light"
     },
     "output_type": "display_data"
    }
   ],
   "source": [
    "fig2 = plt.figure(figsize=(8,8))\n",
    "ax2 = fig2.add_subplot(111)\n",
    "\n",
    "# ax1.scatter(np.sin(np.deg2rad(phi_2)), np.sin(np.deg2rad(phi_1)), label='theoretisch')\n",
    "ax2.scatter(np.deg2rad(phi_2m), np.deg2rad(phi_1), label='meting')\n",
    "\n",
    "ax2.set_xlabel(r'$\\phi_2$', fontsize=15)\n",
    "ax2.set_ylabel(r'$\\phi_1$', fontsize=15)\n",
    "\n",
    "# ax1.legend()\n",
    "ax2.grid(True)"
   ]
  },
  {
   "cell_type": "markdown",
   "metadata": {},
   "source": [
    "## Berekining brekingsindex\n",
    "Studenten moeten zien dat de richtingscoëfficient proportioneel is met de brekingsindex. Dit wordt uitgelegd bij tussenbespreking van lineaire regressie.\n",
    "\n",
    "Uit wet van Snellius:\n",
    "\n",
    "$$ n_1\\ \\cdot\\ \\sin(\\phi_1)\\ =\\ n_2\\ \\cdot\\ \\sin(\\phi_2)$$\n",
    "\n",
    "Omzetten naar $n_2$:\n",
    "\n",
    "$$ n_2\\ =\\ n_1\\ \\frac{\\sin(\\phi_1)}{\\sin(\\phi_2)}\\ =\\ n_2\\ \\cdot\\ rc$$ \n",
    "\n",
    "fout in $n_2$:\n",
    "\n",
    "$$n_2\\ =\\ \\Delta rc$$"
   ]
  },
  {
   "cell_type": "code",
   "execution_count": 13,
   "metadata": {},
   "outputs": [
    {
     "name": "stdout",
     "output_type": "stream",
     "text": [
      "1.487045429150779 0.040756459613461006\n"
     ]
    }
   ],
   "source": [
    "n_2b = n1 * slope\n",
    "dn2 = drc\n",
    "\n",
    "print(n_2b, drc)"
   ]
  },
  {
   "cell_type": "markdown",
   "metadata": {},
   "source": [
    "## Deel 2: Verschuiving bepalen\n",
    "\n",
    "Dit deel is leuk om te doen, maar voor mij niet heel belangrijk. Het enige wat voor mij belangrijk is, is:\n",
    "\n",
    "* Waar zouden de onnauwkeurigheden vandaan kunnen komen?\n",
    "* Hoe zouden deze verbeterd kunnen worden?\n",
    "* Welke methode is het beste om de fout te bepalen (fout hoeven ze niet te bepalen, want de min-max methode hierop toepassen is veel te lastig).\n",
    "\n",
    "Ik heb hier ook het Python script weggelaten, want die is niet zo interessant."
   ]
  }
 ],
 "metadata": {
  "kernelspec": {
   "display_name": "Python 3.10.5 64-bit",
   "language": "python",
   "name": "python3"
  },
  "language_info": {
   "codemirror_mode": {
    "name": "ipython",
    "version": 3
   },
   "file_extension": ".py",
   "mimetype": "text/x-python",
   "name": "python",
   "nbconvert_exporter": "python",
   "pygments_lexer": "ipython3",
   "version": "3.10.5"
  },
  "orig_nbformat": 4,
  "vscode": {
   "interpreter": {
    "hash": "86921dacddcfdf6e94978ce8f6b8db82f33377b73366ba4a51548eff967f1e24"
   }
  }
 },
 "nbformat": 4,
 "nbformat_minor": 2
}
