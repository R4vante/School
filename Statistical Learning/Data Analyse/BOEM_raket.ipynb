{
 "cells": [
  {
   "cell_type": "code",
<<<<<<< HEAD
   "execution_count": 24,
=======
   "execution_count": 136,
>>>>>>> master
   "metadata": {},
   "outputs": [],
   "source": [
    "import numpy as np\n",
    "import pandas as pd\n",
    "import matplotlib.pyplot as plt\n",
    "import seaborn as sns\n",
    "from DA import Import"
   ]
  },
  {
   "attachments": {},
   "cell_type": "markdown",
   "metadata": {},
   "source": [
    "# Import data\n",
    "\n",
    "- snelheid is in knopen -> 1 knoop = 1,852 km/h"
   ]
  },
  {
   "cell_type": "code",
<<<<<<< HEAD
   "execution_count": 25,
=======
   "execution_count": 137,
>>>>>>> master
   "metadata": {},
   "outputs": [],
   "source": [
    "n = 25\n",
    "a = 3\n",
    "alpha = 0.05"
   ]
  },
  {
   "cell_type": "code",
<<<<<<< HEAD
   "execution_count": 26,
=======
   "execution_count": 138,
>>>>>>> master
   "metadata": {},
   "outputs": [],
   "source": [
    "df = pd.read_excel(\"data_raket.xlsx\")"
   ]
  },
  {
   "cell_type": "code",
<<<<<<< HEAD
   "execution_count": 27,
   "metadata": {},
   "outputs": [],
   "source": [
    "df = df.rename(columns={\"test\":\"test\", \"doel snelheid (in knopen)\":\"doel\", \"resultaat (0=mis 1=raak)\":\"resultaat\"}).copy()"
=======
   "execution_count": 139,
   "metadata": {},
   "outputs": [],
   "source": [
    "df = df.rename(columns={\"test\":\"test\", \"doel snelheid (in knopen)\":\"snelheid\", \"resultaat (0=mis 1=raak)\":\"resultaat\"})"
>>>>>>> master
   ]
  },
  {
   "cell_type": "code",
<<<<<<< HEAD
   "execution_count": 28,
   "metadata": {},
   "outputs": [],
   "source": [
    "df = df.drop(columns=\"test\").copy()"
   ]
  },
  {
   "attachments": {},
   "cell_type": "markdown",
   "metadata": {},
   "source": [
    "# Dataset analyseren\n",
    "\n",
    "# Vraag: Is de doelsnelheid de snelheid van de raket of de snelheid van het doel dat geraakt dient te worden?"
   ]
  },
  {
   "cell_type": "code",
   "execution_count": 29,
=======
   "execution_count": 140,
>>>>>>> master
   "metadata": {},
   "outputs": [
    {
     "data": {
      "text/html": [
       "<div>\n",
       "<style scoped>\n",
       "    .dataframe tbody tr th:only-of-type {\n",
       "        vertical-align: middle;\n",
       "    }\n",
       "\n",
       "    .dataframe tbody tr th {\n",
       "        vertical-align: top;\n",
       "    }\n",
       "\n",
       "    .dataframe thead th {\n",
       "        text-align: right;\n",
       "    }\n",
       "</style>\n",
       "<table border=\"1\" class=\"dataframe\">\n",
       "  <thead>\n",
       "    <tr style=\"text-align: right;\">\n",
       "      <th></th>\n",
<<<<<<< HEAD
       "      <th>doel</th>\n",
=======
       "      <th>test</th>\n",
       "      <th>snelheid</th>\n",
>>>>>>> master
       "      <th>resultaat</th>\n",
       "    </tr>\n",
       "  </thead>\n",
       "  <tbody>\n",
       "    <tr>\n",
       "      <th>count</th>\n",
       "      <td>25.000000</td>\n",
       "      <td>25.000000</td>\n",
       "    </tr>\n",
       "    <tr>\n",
       "      <th>mean</th>\n",
       "      <td>338.800000</td>\n",
       "      <td>0.520000</td>\n",
       "    </tr>\n",
       "    <tr>\n",
       "      <th>std</th>\n",
       "      <td>112.187343</td>\n",
       "      <td>0.509902</td>\n",
       "    </tr>\n",
       "    <tr>\n",
       "      <th>min</th>\n",
       "      <td>200.000000</td>\n",
       "      <td>0.000000</td>\n",
       "    </tr>\n",
       "    <tr>\n",
       "      <th>25%</th>\n",
       "      <td>230.000000</td>\n",
       "      <td>0.000000</td>\n",
       "    </tr>\n",
       "    <tr>\n",
       "      <th>50%</th>\n",
       "      <td>310.000000</td>\n",
       "      <td>1.000000</td>\n",
       "    </tr>\n",
       "    <tr>\n",
       "      <th>75%</th>\n",
       "      <td>460.000000</td>\n",
       "      <td>1.000000</td>\n",
       "    </tr>\n",
       "    <tr>\n",
       "      <th>max</th>\n",
       "      <td>500.000000</td>\n",
       "      <td>1.000000</td>\n",
       "    </tr>\n",
       "  </tbody>\n",
       "</table>\n",
       "</div>"
      ],
      "text/plain": [
       "             doel  resultaat\n",
       "count   25.000000  25.000000\n",
       "mean   338.800000   0.520000\n",
       "std    112.187343   0.509902\n",
       "min    200.000000   0.000000\n",
       "25%    230.000000   0.000000\n",
       "50%    310.000000   1.000000\n",
       "75%    460.000000   1.000000\n",
       "max    500.000000   1.000000"
      ]
     },
     "execution_count": 29,
     "metadata": {},
     "output_type": "execute_result"
    }
   ],
   "source": [
    "df.describe()"
   ]
  },
  {
   "cell_type": "code",
   "execution_count": 30,
   "metadata": {},
   "outputs": [
    {
     "data": {
      "text/plain": [
       "1    13\n",
       "0    12\n",
       "Name: resultaat, dtype: int64"
      ]
     },
     "execution_count": 30,
     "metadata": {},
     "output_type": "execute_result"
    }
   ],
   "source": [
    "df['resultaat'].value_counts()"
   ]
  },
  {
   "attachments": {},
   "cell_type": "markdown",
   "metadata": {},
   "source": [
    "- kolomen zijn int65 types\n",
    "- 25 metingen uitgevoerd\n",
    "- gemiddelde snelheid was 338.8 knopen (1 knoop = 1.852 km/h)\n",
    "- gemiddelde 52% was raak\n",
    "- 12 mis, 13 raak\n",
    "- std is 0.50, wat ook logisch is aangezien er een 50/50 verdeling is ongeveer."
   ]
  },
  {
   "cell_type": "code",
   "execution_count": 31,
   "metadata": {},
   "outputs": [
    {
     "data": {
      "image/png": "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",
      "text/plain": [
       "<Figure size 800x800 with 1 Axes>"
      ]
     },
     "metadata": {},
     "output_type": "display_data"
    }
   ],
   "source": [
    "fig, ax = plt.subplots(figsize=(8,8))\n",
    "df.resultaat.plot(kind=\"hist\", ax=ax, edgecolor='black')\n",
    "ax.set_xlabel('resultaat')\n",
    "ax.set_ylabel('frequentie')\n",
    "plt.show()"
   ]
  },
  {
   "cell_type": "code",
   "execution_count": 47,
   "metadata": {},
   "outputs": [
    {
     "data": {
      "image/png": "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",
      "text/plain": [
       "<Figure size 800x800 with 1 Axes>"
      ]
     },
     "metadata": {},
     "output_type": "display_data"
    }
   ],
   "source": [
    "fig, ax = plt.subplots(figsize=(8,8))\n",
    "df.doel.plot(kind=\"hist\", ax=ax, edgecolor='k', bins=5)\n",
    "ax.set_ylabel('frequentie')\n",
    "ax.set_xlabel('snelheid (knopen)')\n",
    "plt.show()\n"
   ]
  },
  {
   "attachments": {},
   "cell_type": "markdown",
   "metadata": {},
   "source": [
    "opvallend is dat veel lage snelheden (200-250 knopen) en veel hoge snelheden (450-500 knopen) getest zijn, maar weining middensnelheden getest zijn (325-375 knopen).\n"
   ]
  },
  {
   "attachments": {},
   "cell_type": "markdown",
   "metadata": {},
   "source": [
    "# hoeveel doelen zijn geraakt bij een snelheid van <350 knopen"
   ]
  },
  {
   "cell_type": "code",
   "execution_count": 33,
   "metadata": {},
   "outputs": [
    {
     "data": {
      "text/plain": [
       "1    12\n",
       "0     2\n",
       "Name: resultaat, dtype: int64"
      ]
     },
     "execution_count": 33,
     "metadata": {},
     "output_type": "execute_result"
    }
   ],
   "source": [
    "df.query('doel <350').resultaat.value_counts()"
   ]
  },
  {
   "attachments": {},
   "cell_type": "markdown",
   "metadata": {},
   "source": [
    "- 12 raak\n",
    "- 2 mis\n",
    "\n",
    "Dus ook bij lage snelheden wordt het doel vaak geraakt.\n"
   ]
  },
  {
   "attachments": {},
   "cell_type": "markdown",
   "metadata": {},
   "source": [
    "# Hoeveel doelen zijn geraakt bij snelheden van =>350 knopen"
   ]
  },
  {
   "cell_type": "code",
   "execution_count": 34,
   "metadata": {},
   "outputs": [
    {
     "data": {
      "text/plain": [
       "0    10\n",
       "1     1\n",
       "Name: resultaat, dtype: int64"
      ]
     },
     "execution_count": 34,
     "metadata": {},
     "output_type": "execute_result"
    }
   ],
   "source": [
    "df.query('doel >= 350').resultaat.value_counts()"
   ]
  },
  {
   "attachments": {},
   "cell_type": "markdown",
   "metadata": {},
   "source": [
    "- 10 mis\n",
    "- 1 raak\n",
    "Doel vaak gemist bij hoge snelheden\n",
    "\n",
    "Het lijkt er dus op dat er een dropoff is bij 350 knopen (misschien is er daarom wel bij deze snelheid niet getest?)"
   ]
  },
  {
   "attachments": {},
   "cell_type": "markdown",
   "metadata": {},
   "source": [
    "# Welke snelheid had het doel wanneer er gemist werd bij snelheden < 350 knopen?\n",
    "\n"
   ]
  },
  {
   "cell_type": "code",
   "execution_count": 35,
   "metadata": {},
   "outputs": [
    {
     "data": {
      "text/html": [
       "<div>\n",
       "<style scoped>\n",
       "    .dataframe tbody tr th:only-of-type {\n",
       "        vertical-align: middle;\n",
       "    }\n",
       "\n",
       "    .dataframe tbody tr th {\n",
       "        vertical-align: top;\n",
       "    }\n",
       "\n",
       "    .dataframe thead th {\n",
       "        text-align: right;\n",
       "    }\n",
       "</style>\n",
       "<table border=\"1\" class=\"dataframe\">\n",
       "  <thead>\n",
       "    <tr style=\"text-align: right;\">\n",
       "      <th></th>\n",
       "      <th>doel</th>\n",
       "      <th>resultaat</th>\n",
       "    </tr>\n",
       "  </thead>\n",
       "  <tbody>\n",
       "    <tr>\n",
       "      <th>5</th>\n",
       "      <td>270</td>\n",
       "      <td>0</td>\n",
       "    </tr>\n",
       "    <tr>\n",
       "      <th>18</th>\n",
       "      <td>230</td>\n",
       "      <td>0</td>\n",
       "    </tr>\n",
       "  </tbody>\n",
       "</table>\n",
       "</div>"
      ],
      "text/plain": [
<<<<<<< HEAD
       "    doel  resultaat\n",
       "5    270          0\n",
       "18   230          0"
      ]
     },
     "execution_count": 35,
=======
       "    test  snelheid  resultaat\n",
       "0      1       400          0\n",
       "1      2       220          1\n",
       "2      3       490          0\n",
       "3      4       210          1\n",
       "4      5       500          0\n",
       "5      6       270          0\n",
       "6      7       200          1\n",
       "7      8       470          0\n",
       "8      9       480          0\n",
       "9     10       310          1\n",
       "10    11       240          1\n",
       "11    12       490          0\n",
       "12    13       420          0\n",
       "13    14       330          1\n",
       "14    15       280          1\n",
       "15    16       210          1\n",
       "16    17       300          1\n",
       "17    18       470          1\n",
       "18    19       230          0\n",
       "19    20       430          0\n",
       "20    21       460          0\n",
       "21    22       220          1\n",
       "22    23       250          1\n",
       "23    24       200          1\n",
       "24    25       390          0"
      ]
     },
     "execution_count": 140,
>>>>>>> master
     "metadata": {},
     "output_type": "execute_result"
    }
   ],
   "source": [
    "df.query('resultaat == 0 and doel < 350')"
   ]
  },
  {
   "attachments": {},
   "cell_type": "markdown",
   "metadata": {},
   "source": [
    "Doel werd gemist bij snelheden van \n",
    "- 270\n",
    "- 230"
   ]
  },
  {
   "attachments": {},
   "cell_type": "markdown",
   "metadata": {},
   "source": [
    "# Welke snelheden had het doel wanneer het geraakt word bij snelhden > 350 knopen?"
   ]
  },
  {
   "cell_type": "code",
   "execution_count": 36,
   "metadata": {},
   "outputs": [
    {
     "data": {
      "text/html": [
       "<div>\n",
       "<style scoped>\n",
       "    .dataframe tbody tr th:only-of-type {\n",
       "        vertical-align: middle;\n",
       "    }\n",
       "\n",
       "    .dataframe tbody tr th {\n",
       "        vertical-align: top;\n",
       "    }\n",
       "\n",
       "    .dataframe thead th {\n",
       "        text-align: right;\n",
       "    }\n",
       "</style>\n",
       "<table border=\"1\" class=\"dataframe\">\n",
       "  <thead>\n",
       "    <tr style=\"text-align: right;\">\n",
       "      <th></th>\n",
       "      <th>doel</th>\n",
       "      <th>resultaat</th>\n",
       "    </tr>\n",
       "  </thead>\n",
       "  <tbody>\n",
       "    <tr>\n",
       "      <th>17</th>\n",
       "      <td>470</td>\n",
       "      <td>1</td>\n",
       "    </tr>\n",
       "  </tbody>\n",
       "</table>\n",
       "</div>"
      ],
      "text/plain": [
       "    doel  resultaat\n",
       "17   470          1"
      ]
     },
     "execution_count": 36,
     "metadata": {},
     "output_type": "execute_result"
    }
   ],
   "source": [
    "df.query('resultaat == 1 and doel >= 350')"
   ]
  },
  {
   "attachments": {},
   "cell_type": "markdown",
   "metadata": {},
   "source": [
    "Snelheid:\n",
    "- 470"
   ]
  },
  {
   "attachments": {},
   "cell_type": "markdown",
   "metadata": {},
   "source": [
    "# Zijn er snelheden die vaker gemeten zijn?"
   ]
  },
  {
   "cell_type": "code",
   "execution_count": 37,
   "metadata": {},
   "outputs": [
    {
     "data": {
      "text/plain": [
       "490     True\n",
       "210     True\n",
       "200     True\n",
       "470     True\n",
       "220     True\n",
       "400    False\n",
       "280    False\n",
       "250    False\n",
       "460    False\n",
       "430    False\n",
       "230    False\n",
       "300    False\n",
       "240    False\n",
       "330    False\n",
       "420    False\n",
       "310    False\n",
       "480    False\n",
       "270    False\n",
       "500    False\n",
       "390    False\n",
       "Name: doel, dtype: bool"
      ]
     },
     "execution_count": 37,
     "metadata": {},
     "output_type": "execute_result"
    }
   ],
   "source": [
    "df.doel.value_counts() ==2"
   ]
  },
  {
   "attachments": {},
   "cell_type": "markdown",
   "metadata": {},
   "source": [
    "Er lijkt inconsistent meermaals gemeten te zijn. Het lijkt daarom een unbalanced analyse.\n",
    "\n",
    "- Is de snelheid van het doel instelbaar of is dit puur willekeurig?\n",
    "    - Lijkt erop van wel, aangezien aan de veiligheidsvoorschriften moet worden voldaan en omdat tijdens de metingen de snelheden mooi in stappen van 10 knopen zijn."
   ]
  },
  {
   "attachments": {},
   "cell_type": "markdown",
   "metadata": {},
   "source": [
    "# Wat waren de resultaten bij de dubbel gemeten?"
   ]
  },
  {
   "cell_type": "code",
   "execution_count": 38,
   "metadata": {},
   "outputs": [],
   "source": [
    "df.doel.value_counts()==2\n",
    "\n",
    "dups = [490, 210, 200, 470, 220]\n",
    "dups.sort()"
   ]
  },
  {
   "cell_type": "code",
   "execution_count": 39,
   "metadata": {},
   "outputs": [
    {
     "name": "stdout",
     "output_type": "stream",
     "text": [
      "    doel  resultaat\n",
      "6    200          1\n",
      "23   200          1\n",
      "    doel  resultaat\n",
      "3    210          1\n",
      "15   210          1\n",
      "    doel  resultaat\n",
      "1    220          1\n",
      "21   220          1\n",
      "    doel  resultaat\n",
      "7    470          0\n",
      "17   470          1\n",
      "    doel  resultaat\n",
      "2    490          0\n",
      "11   490          0\n"
     ]
    }
   ],
   "source": [
    "for i in dups:\n",
    "    print(df.query('doel == %i' %i))"
   ]
  },
  {
   "attachments": {},
   "cell_type": "markdown",
   "metadata": {},
   "source": [
    "De enige met een gemixt resultaat is 470 knopen. De rest is \"consistent\".\n",
    "\n",
    "- Aangezien bij snelheden van >350 knopen het doel meestal gemist wordt, lijkt de hit bij 470 knopen een toevalstreffer."
   ]
  },
  {
   "attachments": {},
   "cell_type": "markdown",
   "metadata": {},
   "source": [
    "# Plot snelheid vs resultaten"
   ]
  },
  {
   "cell_type": "code",
   "execution_count": 40,
   "metadata": {},
   "outputs": [
    {
     "data": {
      "text/plain": [
       "<Axes: xlabel='doel', ylabel='resultaat'>"
      ]
     },
     "execution_count": 40,
     "metadata": {},
     "output_type": "execute_result"
    },
    {
     "data": {
      "image/png": "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",
      "text/plain": [
       "<Figure size 800x800 with 1 Axes>"
      ]
     },
     "metadata": {},
     "output_type": "display_data"
    }
   ],
   "source": [
    "fig, ax = plt.subplots(figsize=(8,8))\n",
    "df.plot(kind = 'scatter', x='doel', y='resultaat', ax=ax)"
   ]
  },
  {
   "attachments": {},
   "cell_type": "markdown",
   "metadata": {},
   "source": [
    "# Aantal keren geraakt per snelheid"
   ]
  },
  {
   "cell_type": "code",
   "execution_count": 41,
   "metadata": {},
   "outputs": [
    {
     "data": {
      "text/plain": [
       "(200.0, 500.0)"
      ]
     },
     "execution_count": 41,
     "metadata": {},
     "output_type": "execute_result"
    },
    {
     "data": {
      "image/png": "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",
      "text/plain": [
       "<Figure size 800x800 with 1 Axes>"
      ]
     },
     "metadata": {},
     "output_type": "display_data"
    }
   ],
   "source": [
    "fig, ax = plt.subplots(figsize=(8,8))\n",
    "df.query('resultaat == 1').doel.plot(kind='hist', ax=ax, bins=5, edgecolor='k')\n",
    "ax.set_xlim([200, 500])"
   ]
  },
  {
   "attachments": {},
   "cell_type": "markdown",
   "metadata": {},
   "source": [
    "Zoals vooraf voorspeld, is te zien dat bij snelheden boven de 350 knopen het doel bijna niet meer geraakt wordt."
   ]
  },
  {
   "attachments": {},
   "cell_type": "markdown",
   "metadata": {},
   "source": [
    "# Regressie"
   ]
  },
  {
   "cell_type": "code",
   "execution_count": 42,
   "metadata": {},
   "outputs": [],
   "source": [
    "from sklearn.linear_model import LogisticRegression\n",
    "from sklearn.model_selection import train_test_split"
   ]
  },
  {
   "cell_type": "code",
   "execution_count": 43,
   "metadata": {},
   "outputs": [],
   "source": [
    "X = np.array(df.doel.values)\n",
    "y = np.array(df.resultaat.values)\n",
    "X = X.reshape(-1,1)"
   ]
  },
  {
   "cell_type": "code",
   "execution_count": 44,
   "metadata": {},
   "outputs": [
    {
     "data": {
      "text/html": [
       "<style>#sk-container-id-2 {color: black;background-color: white;}#sk-container-id-2 pre{padding: 0;}#sk-container-id-2 div.sk-toggleable {background-color: white;}#sk-container-id-2 label.sk-toggleable__label {cursor: pointer;display: block;width: 100%;margin-bottom: 0;padding: 0.3em;box-sizing: border-box;text-align: center;}#sk-container-id-2 label.sk-toggleable__label-arrow:before {content: \"▸\";float: left;margin-right: 0.25em;color: #696969;}#sk-container-id-2 label.sk-toggleable__label-arrow:hover:before {color: black;}#sk-container-id-2 div.sk-estimator:hover label.sk-toggleable__label-arrow:before {color: black;}#sk-container-id-2 div.sk-toggleable__content {max-height: 0;max-width: 0;overflow: hidden;text-align: left;background-color: #f0f8ff;}#sk-container-id-2 div.sk-toggleable__content pre {margin: 0.2em;color: black;border-radius: 0.25em;background-color: #f0f8ff;}#sk-container-id-2 input.sk-toggleable__control:checked~div.sk-toggleable__content {max-height: 200px;max-width: 100%;overflow: auto;}#sk-container-id-2 input.sk-toggleable__control:checked~label.sk-toggleable__label-arrow:before {content: \"▾\";}#sk-container-id-2 div.sk-estimator input.sk-toggleable__control:checked~label.sk-toggleable__label {background-color: #d4ebff;}#sk-container-id-2 div.sk-label input.sk-toggleable__control:checked~label.sk-toggleable__label {background-color: #d4ebff;}#sk-container-id-2 input.sk-hidden--visually {border: 0;clip: rect(1px 1px 1px 1px);clip: rect(1px, 1px, 1px, 1px);height: 1px;margin: -1px;overflow: hidden;padding: 0;position: absolute;width: 1px;}#sk-container-id-2 div.sk-estimator {font-family: monospace;background-color: #f0f8ff;border: 1px dotted black;border-radius: 0.25em;box-sizing: border-box;margin-bottom: 0.5em;}#sk-container-id-2 div.sk-estimator:hover {background-color: #d4ebff;}#sk-container-id-2 div.sk-parallel-item::after {content: \"\";width: 100%;border-bottom: 1px solid gray;flex-grow: 1;}#sk-container-id-2 div.sk-label:hover label.sk-toggleable__label {background-color: #d4ebff;}#sk-container-id-2 div.sk-serial::before {content: \"\";position: absolute;border-left: 1px solid gray;box-sizing: border-box;top: 0;bottom: 0;left: 50%;z-index: 0;}#sk-container-id-2 div.sk-serial {display: flex;flex-direction: column;align-items: center;background-color: white;padding-right: 0.2em;padding-left: 0.2em;position: relative;}#sk-container-id-2 div.sk-item {position: relative;z-index: 1;}#sk-container-id-2 div.sk-parallel {display: flex;align-items: stretch;justify-content: center;background-color: white;position: relative;}#sk-container-id-2 div.sk-item::before, #sk-container-id-2 div.sk-parallel-item::before {content: \"\";position: absolute;border-left: 1px solid gray;box-sizing: border-box;top: 0;bottom: 0;left: 50%;z-index: -1;}#sk-container-id-2 div.sk-parallel-item {display: flex;flex-direction: column;z-index: 1;position: relative;background-color: white;}#sk-container-id-2 div.sk-parallel-item:first-child::after {align-self: flex-end;width: 50%;}#sk-container-id-2 div.sk-parallel-item:last-child::after {align-self: flex-start;width: 50%;}#sk-container-id-2 div.sk-parallel-item:only-child::after {width: 0;}#sk-container-id-2 div.sk-dashed-wrapped {border: 1px dashed gray;margin: 0 0.4em 0.5em 0.4em;box-sizing: border-box;padding-bottom: 0.4em;background-color: white;}#sk-container-id-2 div.sk-label label {font-family: monospace;font-weight: bold;display: inline-block;line-height: 1.2em;}#sk-container-id-2 div.sk-label-container {text-align: center;}#sk-container-id-2 div.sk-container {/* jupyter's `normalize.less` sets `[hidden] { display: none; }` but bootstrap.min.css set `[hidden] { display: none !important; }` so we also need the `!important` here to be able to override the default hidden behavior on the sphinx rendered scikit-learn.org. See: https://github.com/scikit-learn/scikit-learn/issues/21755 */display: inline-block !important;position: relative;}#sk-container-id-2 div.sk-text-repr-fallback {display: none;}</style><div id=\"sk-container-id-2\" class=\"sk-top-container\"><div class=\"sk-text-repr-fallback\"><pre>LogisticRegression()</pre><b>In a Jupyter environment, please rerun this cell to show the HTML representation or trust the notebook. <br />On GitHub, the HTML representation is unable to render, please try loading this page with nbviewer.org.</b></div><div class=\"sk-container\" hidden><div class=\"sk-item\"><div class=\"sk-estimator sk-toggleable\"><input class=\"sk-toggleable__control sk-hidden--visually\" id=\"sk-estimator-id-2\" type=\"checkbox\" checked><label for=\"sk-estimator-id-2\" class=\"sk-toggleable__label sk-toggleable__label-arrow\">LogisticRegression</label><div class=\"sk-toggleable__content\"><pre>LogisticRegression()</pre></div></div></div></div></div>"
      ],
      "text/plain": [
       "LogisticRegression()"
      ]
     },
     "execution_count": 44,
     "metadata": {},
     "output_type": "execute_result"
    }
   ],
   "source": [
    "lr = LogisticRegression()\n",
    "lr.fit(X, y)"
   ]
  },
  {
   "cell_type": "code",
   "execution_count": 45,
   "metadata": {},
   "outputs": [],
   "source": [
    "speed = np.arange(200, 500, 1)\n",
    "speed = speed.reshape(-1,1)\n",
    "predictions = lr.predict_proba(speed)"
   ]
  },
  {
   "cell_type": "code",
   "execution_count": 46,
   "metadata": {},
   "outputs": [
    {
     "data": {
      "image/png": "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",
      "text/plain": [
       "<Figure size 800x800 with 1 Axes>"
      ]
     },
     "metadata": {},
     "output_type": "display_data"
    }
   ],
   "source": [
    "fig, ax = plt.subplots(figsize=(8,8))\n",
    "ax.grid(True)\n",
    "\n",
    "ax.scatter(train_X, train_y, zorder=3)\n",
    "ax.plot(speed, predictions[:,1])\n",
    "\n",
    "plt.show()"
   ]
  },
  {
   "cell_type": "code",
   "execution_count": 141,
   "metadata": {},
   "outputs": [
    {
     "name": "stdout",
     "output_type": "stream",
     "text": [
      "<class 'pandas.core.frame.DataFrame'>\n",
      "RangeIndex: 25 entries, 0 to 24\n",
      "Data columns (total 3 columns):\n",
      " #   Column     Non-Null Count  Dtype\n",
      "---  ------     --------------  -----\n",
      " 0   test       25 non-null     int64\n",
      " 1   snelheid   25 non-null     int64\n",
      " 2   resultaat  25 non-null     int64\n",
      "dtypes: int64(3)\n",
      "memory usage: 728.0 bytes\n"
     ]
    }
   ],
   "source": [
    "df.info()"
   ]
  },
  {
   "cell_type": "code",
   "execution_count": 142,
   "metadata": {},
   "outputs": [
    {
     "data": {
      "text/plain": [
       "<AxesSubplot: ylabel='Frequency'>"
      ]
     },
     "execution_count": 142,
     "metadata": {},
     "output_type": "execute_result"
    },
    {
     "data": {
      "image/png": "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",
      "text/plain": [
       "<Figure size 640x480 with 1 Axes>"
      ]
     },
     "metadata": {},
     "output_type": "display_data"
    }
   ],
   "source": [
    "df.resultaat.plot(kind='hist')"
   ]
  },
  {
   "cell_type": "code",
   "execution_count": 143,
   "metadata": {},
   "outputs": [
    {
     "data": {
      "text/plain": [
       "<matplotlib.collections.PathCollection at 0x210c0867dc0>"
      ]
     },
     "execution_count": 143,
     "metadata": {},
     "output_type": "execute_result"
    },
    {
     "data": {
      "image/png": "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",
      "text/plain": [
       "<Figure size 640x480 with 1 Axes>"
      ]
     },
     "metadata": {},
     "output_type": "display_data"
    }
   ],
   "source": [
    "plt.scatter(df.snelheid, df.resultaat)"
   ]
  },
  {
   "cell_type": "code",
   "execution_count": 144,
   "metadata": {},
   "outputs": [],
   "source": [
    "from sklearn.linear_model import LogisticRegression\n",
    "from sklearn import metrics"
   ]
  },
  {
   "cell_type": "code",
   "execution_count": 145,
   "metadata": {},
   "outputs": [],
   "source": [
    "mu = df.snelheid.mean()\n",
    "std = df.snelheid.std()\n",
    "f = 1/(1+np.exp((df.snelheid-mu)/std))"
   ]
  },
  {
   "cell_type": "code",
   "execution_count": 146,
   "metadata": {},
   "outputs": [
    {
     "data": {
      "text/plain": [
       "0.88"
      ]
     },
     "execution_count": 146,
     "metadata": {},
     "output_type": "execute_result"
    }
   ],
   "source": [
    "X = df.snelheid.values\n",
    "type(X)\n",
    "X=X.reshape(-1,1)\n",
    "model = LogisticRegression(random_state=1).fit(X, df.resultaat.values.tolist())\n",
    "model.score(X, df.resultaat.values.tolist())"
   ]
  },
  {
   "cell_type": "code",
   "execution_count": 147,
   "metadata": {},
   "outputs": [
    {
     "data": {
      "text/plain": [
       "0.8878205128205129"
      ]
     },
     "execution_count": 147,
     "metadata": {},
     "output_type": "execute_result"
    }
   ],
   "source": [
    "X_f = np.linspace(df.snelheid.min(), df.snelheid.max(), 1000)\n",
    "x_f1 = x_f.reshape(-1,1)\n",
    "y = model.predict_proba(x_f1)\n",
    "pred = model.predict(X)\n",
    "metrics.roc_auc_score(df.resultaat.values, model.predict_proba(X)[:,1])"
   ]
  },
  {
   "cell_type": "code",
   "execution_count": 148,
   "metadata": {},
   "outputs": [
    {
     "data": {
      "text/plain": [
       "array([[0.07379145, 0.92620855],\n",
       "       [0.07415564, 0.92584436],\n",
       "       [0.07452148, 0.92547852],\n",
       "       ...,\n",
       "       [0.94107313, 0.05892687],\n",
       "       [0.94136726, 0.05863274],\n",
       "       [0.94166002, 0.05833998]])"
      ]
     },
     "execution_count": 148,
     "metadata": {},
     "output_type": "execute_result"
    }
   ],
   "source": [
    "y"
   ]
  },
  {
   "cell_type": "code",
   "execution_count": 149,
   "metadata": {},
   "outputs": [
    {
     "data": {
      "text/plain": [
       "array([0.92620855, 0.92584436, 0.92547852, 0.92511102, 0.92474185,\n",
       "       0.92437102, 0.9239985 , 0.9236243 , 0.92324842, 0.92287084,\n",
       "       0.92249155, 0.92211056, 0.92172786, 0.92134343, 0.92095728,\n",
       "       0.92056939, 0.92017977, 0.91978841, 0.91939529, 0.91900041,\n",
       "       0.91860377, 0.91820537, 0.91780518, 0.91740322, 0.91699947,\n",
       "       0.91659392, 0.91618657, 0.91577742, 0.91536645, 0.91495367,\n",
       "       0.91453905, 0.91412261, 0.91370433, 0.91328421, 0.91286223,\n",
       "       0.9124384 , 0.91201271, 0.91158514, 0.9111557 , 0.91072438,\n",
       "       0.91029118, 0.90985607, 0.90941907, 0.90898016, 0.90853934,\n",
       "       0.9080966 , 0.90765193, 0.90720534, 0.9067568 , 0.90630632,\n",
       "       0.90585389, 0.9053995 , 0.90494315, 0.90448483, 0.90402454,\n",
       "       0.90356226, 0.903098  , 0.90263174, 0.90216348, 0.90169322,\n",
       "       0.90122094, 0.90074664, 0.90027032, 0.89979196, 0.89931157,\n",
       "       0.89882914, 0.89834465, 0.89785811, 0.8973695 , 0.89687883,\n",
       "       0.89638608, 0.89589125, 0.89539433, 0.89489532, 0.8943942 ,\n",
       "       0.89389099, 0.89338566, 0.89287821, 0.89236864, 0.89185694,\n",
       "       0.8913431 , 0.89082712, 0.89030899, 0.8897887 , 0.88926626,\n",
       "       0.88874164, 0.88821486, 0.88768589, 0.88715474, 0.8866214 ,\n",
       "       0.88608587, 0.88554812, 0.88500817, 0.88446601, 0.88392162,\n",
       "       0.88337501, 0.88282617, 0.88227508, 0.88172175, 0.88116617,\n",
       "       0.88060834, 0.88004824, 0.87948588, 0.87892124, 0.87835432,\n",
       "       0.87778511, 0.87721362, 0.87663983, 0.87606373, 0.87548533,\n",
       "       0.87490461, 0.87432157, 0.87373621, 0.87314852, 0.87255849,\n",
       "       0.87196612, 0.8713714 , 0.87077433, 0.8701749 , 0.86957311,\n",
       "       0.86896894, 0.8683624 , 0.86775348, 0.86714218, 0.86652848,\n",
       "       0.86591239, 0.8652939 , 0.864673  , 0.86404968, 0.86342395,\n",
       "       0.8627958 , 0.86216522, 0.8615322 , 0.86089675, 0.86025885,\n",
       "       0.85961851, 0.85897571, 0.85833046, 0.85768274, 0.85703255,\n",
       "       0.85637989, 0.85572476, 0.85506713, 0.85440703, 0.85374443,\n",
       "       0.85307933, 0.85241173, 0.85174163, 0.85106901, 0.85039388,\n",
       "       0.84971623, 0.84903605, 0.84835335, 0.84766811, 0.84698033,\n",
       "       0.84629001, 0.84559715, 0.84490173, 0.84420376, 0.84350323,\n",
       "       0.84280013, 0.84209447, 0.84138624, 0.84067543, 0.83996204,\n",
       "       0.83924607, 0.83852751, 0.83780637, 0.83708262, 0.83635628,\n",
       "       0.83562733, 0.83489578, 0.83416162, 0.83342484, 0.83268545,\n",
       "       0.83194344, 0.8311988 , 0.83045154, 0.82970165, 0.82894912,\n",
       "       0.82819396, 0.82743616, 0.82667571, 0.82591262, 0.82514688,\n",
       "       0.82437849, 0.82360744, 0.82283373, 0.82205737, 0.82127834,\n",
       "       0.82049664, 0.81971228, 0.81892525, 0.81813554, 0.81734316,\n",
       "       0.81654809, 0.81575035, 0.81494993, 0.81414682, 0.81334102,\n",
       "       0.81253253, 0.81172135, 0.81090748, 0.81009092, 0.80927165,\n",
       "       0.80844969, 0.80762503, 0.80679767, 0.8059676 , 0.80513483,\n",
       "       0.80429935, 0.80346116, 0.80262027, 0.80177666, 0.80093035,\n",
       "       0.80008132, 0.79922958, 0.79837512, 0.79751795, 0.79665806,\n",
       "       0.79579546, 0.79493013, 0.79406209, 0.79319134, 0.79231786,\n",
       "       0.79144166, 0.79056275, 0.78968111, 0.78879676, 0.78790968,\n",
       "       0.78701989, 0.78612737, 0.78523214, 0.78433419, 0.78343352,\n",
       "       0.78253012, 0.78162402, 0.78071519, 0.77980365, 0.77888939,\n",
       "       0.77797241, 0.77705273, 0.77613032, 0.77520521, 0.77427739,\n",
       "       0.77334685, 0.77241361, 0.77147766, 0.770539  , 0.76959764,\n",
       "       0.76865358, 0.76770682, 0.76675735, 0.76580519, 0.76485034,\n",
       "       0.76389279, 0.76293256, 0.76196963, 0.76100402, 0.76003572,\n",
       "       0.75906475, 0.75809109, 0.75711476, 0.75613576, 0.75515408,\n",
       "       0.75416974, 0.75318274, 0.75219308, 0.75120075, 0.75020578,\n",
       "       0.74920815, 0.74820788, 0.74720496, 0.7461994 , 0.74519121,\n",
       "       0.74418039, 0.74316693, 0.74215086, 0.74113216, 0.74011085,\n",
       "       0.73908693, 0.7380604 , 0.73703127, 0.73599954, 0.73496522,\n",
       "       0.73392831, 0.73288883, 0.73184676, 0.73080212, 0.72975492,\n",
       "       0.72870515, 0.72765283, 0.72659795, 0.72554053, 0.72448058,\n",
       "       0.72341809, 0.72235307, 0.72128553, 0.72021548, 0.71914292,\n",
       "       0.71806785, 0.7169903 , 0.71591025, 0.71482772, 0.71374271,\n",
       "       0.71265524, 0.7115653 , 0.71047291, 0.70937807, 0.70828079,\n",
       "       0.70718108, 0.70607894, 0.70497439, 0.70386742, 0.70275805,\n",
       "       0.70164629, 0.70053215, 0.69941562, 0.69829672, 0.69717547,\n",
       "       0.69605186, 0.6949259 , 0.69379761, 0.69266699, 0.69153405,\n",
       "       0.6903988 , 0.68926126, 0.68812142, 0.6869793 , 0.6858349 ,\n",
       "       0.68468824, 0.68353933, 0.68238817, 0.68123478, 0.68007917,\n",
       "       0.67892133, 0.6777613 , 0.67659907, 0.67543465, 0.67426806,\n",
       "       0.67309931, 0.6719284 , 0.67075536, 0.66958017, 0.66840287,\n",
       "       0.66722346, 0.66604195, 0.66485835, 0.66367268, 0.66248494,\n",
       "       0.66129515, 0.66010331, 0.65890944, 0.65771356, 0.65651566,\n",
       "       0.65531578, 0.6541139 , 0.65291006, 0.65170426, 0.65049651,\n",
       "       0.64928683, 0.64807523, 0.64686171, 0.6456463 , 0.64442901,\n",
       "       0.64320984, 0.64198882, 0.64076596, 0.63954126, 0.63831474,\n",
       "       0.63708642, 0.6358563 , 0.63462441, 0.63339075, 0.63215534,\n",
       "       0.6309182 , 0.62967933, 0.62843875, 0.62719648, 0.62595252,\n",
       "       0.6247069 , 0.62345963, 0.62221071, 0.62096018, 0.61970803,\n",
       "       0.61845429, 0.61719897, 0.61594208, 0.61468364, 0.61342367,\n",
       "       0.61216218, 0.61089918, 0.60963469, 0.60836872, 0.6071013 ,\n",
       "       0.60583243, 0.60456214, 0.60329043, 0.60201732, 0.60074283,\n",
       "       0.59946698, 0.59818977, 0.59691123, 0.59563138, 0.59435022,\n",
       "       0.59306777, 0.59178406, 0.59049909, 0.58921288, 0.58792546,\n",
       "       0.58663683, 0.58534701, 0.58405602, 0.58276388, 0.5814706 ,\n",
       "       0.58017619, 0.57888069, 0.5775841 , 0.57628643, 0.57498772,\n",
       "       0.57368796, 0.57238719, 0.57108542, 0.56978267, 0.56847894,\n",
       "       0.56717427, 0.56586866, 0.56456214, 0.56325473, 0.56194643,\n",
       "       0.56063727, 0.55932727, 0.55801644, 0.5567048 , 0.55539237,\n",
       "       0.55407916, 0.5527652 , 0.55145051, 0.55013509, 0.54881898,\n",
       "       0.54750218, 0.54618471, 0.5448666 , 0.54354786, 0.5422285 ,\n",
       "       0.54090856, 0.53958804, 0.53826696, 0.53694535, 0.53562322,\n",
       "       0.53430059, 0.53297747, 0.53165389, 0.53032987, 0.52900541,\n",
       "       0.52768055, 0.5263553 , 0.52502968, 0.5237037 , 0.5223774 ,\n",
       "       0.52105077, 0.51972385, 0.51839665, 0.51706919, 0.51574149,\n",
       "       0.51441356, 0.51308544, 0.51175713, 0.51042865, 0.50910002,\n",
       "       0.50777127, 0.50644241, 0.50511345, 0.50378443, 0.50245535,\n",
       "       0.50112623, 0.4997971 , 0.49846797, 0.49713887, 0.4958098 ,\n",
       "       0.4944808 , 0.49315187, 0.49182304, 0.49049432, 0.48916574,\n",
       "       0.48783731, 0.48650905, 0.48518099, 0.48385313, 0.4825255 ,\n",
       "       0.48119812, 0.479871  , 0.47854417, 0.47721764, 0.47589143,\n",
       "       0.47456556, 0.47324005, 0.47191491, 0.47059018, 0.46926585,\n",
       "       0.46794196, 0.46661852, 0.46529555, 0.46397307, 0.46265109,\n",
       "       0.46132964, 0.46000874, 0.45868839, 0.45736862, 0.45604946,\n",
       "       0.4547309 , 0.45341299, 0.45209572, 0.45077913, 0.44946322,\n",
       "       0.44814803, 0.44683355, 0.44551982, 0.44420686, 0.44289466,\n",
       "       0.44158327, 0.44027269, 0.43896294, 0.43765405, 0.43634602,\n",
       "       0.43503887, 0.43373263, 0.4324273 , 0.43112292, 0.42981949,\n",
       "       0.42851703, 0.42721556, 0.4259151 , 0.42461566, 0.42331727,\n",
       "       0.42201993, 0.42072367, 0.4194285 , 0.41813444, 0.4168415 ,\n",
       "       0.41554971, 0.41425907, 0.41296962, 0.41168135, 0.4103943 ,\n",
       "       0.40910847, 0.40782388, 0.40654055, 0.4052585 , 0.40397773,\n",
       "       0.40269828, 0.40142014, 0.40014335, 0.39886791, 0.39759384,\n",
       "       0.39632116, 0.39504988, 0.39378002, 0.39251159, 0.39124461,\n",
       "       0.3899791 , 0.38871506, 0.38745252, 0.38619149, 0.38493198,\n",
       "       0.38367402, 0.38241761, 0.38116277, 0.37990951, 0.37865785,\n",
       "       0.37740781, 0.3761594 , 0.37491262, 0.37366751, 0.37242407,\n",
       "       0.37118231, 0.36994225, 0.36870391, 0.36746729, 0.36623242,\n",
       "       0.3649993 , 0.36376794, 0.36253838, 0.3613106 , 0.36008464,\n",
       "       0.3588605 , 0.35763819, 0.35641774, 0.35519914, 0.35398242,\n",
       "       0.35276759, 0.35155466, 0.35034364, 0.34913455, 0.34792739,\n",
       "       0.34672219, 0.34551895, 0.34431768, 0.3431184 , 0.34192112,\n",
       "       0.34072585, 0.3395326 , 0.33834138, 0.33715222, 0.33596511,\n",
       "       0.33478006, 0.3335971 , 0.33241623, 0.33123746, 0.33006081,\n",
       "       0.32888628, 0.32771388, 0.32654363, 0.32537554, 0.32420961,\n",
       "       0.32304586, 0.3218843 , 0.32072494, 0.31956778, 0.31841284,\n",
       "       0.31726013, 0.31610966, 0.31496143, 0.31381547, 0.31267176,\n",
       "       0.31153034, 0.3103912 , 0.30925435, 0.30811981, 0.30698758,\n",
       "       0.30585767, 0.30473009, 0.30360485, 0.30248195, 0.30136142,\n",
       "       0.30024324, 0.29912744, 0.29801402, 0.29690299, 0.29579436,\n",
       "       0.29468813, 0.29358431, 0.29248291, 0.29138394, 0.29028741,\n",
       "       0.28919332, 0.28810167, 0.28701249, 0.28592577, 0.28484151,\n",
       "       0.28375974, 0.28268045, 0.28160365, 0.28052935, 0.27945756,\n",
       "       0.27838827, 0.2773215 , 0.27625726, 0.27519554, 0.27413636,\n",
       "       0.27307972, 0.27202562, 0.27097408, 0.26992509, 0.26887867,\n",
       "       0.26783482, 0.26679354, 0.26575483, 0.26471872, 0.26368519,\n",
       "       0.26265425, 0.26162592, 0.26060018, 0.25957706, 0.25855655,\n",
       "       0.25753865, 0.25652337, 0.25551072, 0.2545007 , 0.25349331,\n",
       "       0.25248856, 0.25148645, 0.25048698, 0.24949017, 0.248496  ,\n",
       "       0.24750449, 0.24651564, 0.24552945, 0.24454592, 0.24356506,\n",
       "       0.24258687, 0.24161136, 0.24063852, 0.23966836, 0.23870089,\n",
       "       0.2377361 , 0.23677399, 0.23581457, 0.23485785, 0.23390382,\n",
       "       0.23295248, 0.23200384, 0.23105791, 0.23011467, 0.22917413,\n",
       "       0.2282363 , 0.22730118, 0.22636876, 0.22543905, 0.22451206,\n",
       "       0.22358777, 0.2226662 , 0.22174734, 0.22083119, 0.21991776,\n",
       "       0.21900705, 0.21809905, 0.21719377, 0.21629121, 0.21539137,\n",
       "       0.21449425, 0.21359985, 0.21270816, 0.2118192 , 0.21093295,\n",
       "       0.21004943, 0.20916862, 0.20829054, 0.20741517, 0.20654253,\n",
       "       0.2056726 , 0.20480539, 0.2039409 , 0.20307912, 0.20222006,\n",
       "       0.20136372, 0.20051009, 0.19965918, 0.19881098, 0.19796549,\n",
       "       0.19712271, 0.19628264, 0.19544529, 0.19461063, 0.19377869,\n",
       "       0.19294945, 0.19212291, 0.19129907, 0.19047793, 0.18965949,\n",
       "       0.18884375, 0.1880307 , 0.18722035, 0.18641268, 0.1856077 ,\n",
       "       0.18480541, 0.18400581, 0.18320888, 0.18241464, 0.18162307,\n",
       "       0.18083418, 0.18004796, 0.17926441, 0.17848353, 0.17770532,\n",
       "       0.17692976, 0.17615687, 0.17538663, 0.17461905, 0.17385412,\n",
       "       0.17309184, 0.1723322 , 0.1715752 , 0.17082084, 0.17006912,\n",
       "       0.16932003, 0.16857357, 0.16782974, 0.16708853, 0.16634994,\n",
       "       0.16561396, 0.1648806 , 0.16414984, 0.16342169, 0.16269614,\n",
       "       0.16197319, 0.16125283, 0.16053506, 0.15981988, 0.15910728,\n",
       "       0.15839726, 0.15768981, 0.15698493, 0.15628262, 0.15558287,\n",
       "       0.15488568, 0.15419105, 0.15349896, 0.15280942, 0.15212242,\n",
       "       0.15143795, 0.15075602, 0.15007661, 0.14939973, 0.14872537,\n",
       "       0.14805352, 0.14738418, 0.14671735, 0.14605301, 0.14539117,\n",
       "       0.14473182, 0.14407496, 0.14342058, 0.14276868, 0.14211925,\n",
       "       0.14147228, 0.14082777, 0.14018573, 0.13954613, 0.13890898,\n",
       "       0.13827427, 0.137642  , 0.13701216, 0.13638475, 0.13575976,\n",
       "       0.13513718, 0.13451702, 0.13389926, 0.1332839 , 0.13267093,\n",
       "       0.13206035, 0.13145216, 0.13084635, 0.13024291, 0.12964184,\n",
       "       0.12904313, 0.12844678, 0.12785278, 0.12726112, 0.12667181,\n",
       "       0.12608482, 0.12550017, 0.12491785, 0.12433784, 0.12376014,\n",
       "       0.12318475, 0.12261166, 0.12204086, 0.12147236, 0.12090613,\n",
       "       0.12034219, 0.11978052, 0.11922111, 0.11866396, 0.11810907,\n",
       "       0.11755643, 0.11700603, 0.11645787, 0.11591193, 0.11536823,\n",
       "       0.11482674, 0.11428746, 0.1137504 , 0.11321553, 0.11268286,\n",
       "       0.11215238, 0.11162408, 0.11109796, 0.11057401, 0.11005222,\n",
       "       0.1095326 , 0.10901512, 0.1084998 , 0.10798661, 0.10747556,\n",
       "       0.10696664, 0.10645984, 0.10595515, 0.10545258, 0.10495211,\n",
       "       0.10445374, 0.10395746, 0.10346326, 0.10297115, 0.1024811 ,\n",
       "       0.10199313, 0.10150722, 0.10102336, 0.10054154, 0.10006177,\n",
       "       0.09958404, 0.09910834, 0.09863466, 0.09816299, 0.09769334,\n",
       "       0.09722569, 0.09676005, 0.09629639, 0.09583472, 0.09537503,\n",
       "       0.09491731, 0.09446156, 0.09400777, 0.09355594, 0.09310605,\n",
       "       0.09265811, 0.0922121 , 0.09176802, 0.09132587, 0.09088563,\n",
       "       0.09044731, 0.09001088, 0.08957636, 0.08914373, 0.08871299,\n",
       "       0.08828412, 0.08785713, 0.087432  , 0.08700874, 0.08658733,\n",
       "       0.08616777, 0.08575005, 0.08533417, 0.08492011, 0.08450788,\n",
       "       0.08409747, 0.08368887, 0.08328207, 0.08287707, 0.08247387,\n",
       "       0.08207245, 0.08167281, 0.08127494, 0.08087884, 0.0804845 ,\n",
       "       0.08009192, 0.07970109, 0.079312  , 0.07892464, 0.07853902,\n",
       "       0.07815512, 0.07777294, 0.07739247, 0.07701371, 0.07663664,\n",
       "       0.07626127, 0.07588759, 0.07551559, 0.07514526, 0.0747766 ,\n",
       "       0.07440961, 0.07404427, 0.07368059, 0.07331855, 0.07295814,\n",
       "       0.07259937, 0.07224223, 0.07188671, 0.0715328 , 0.0711805 ,\n",
       "       0.07082981, 0.07048071, 0.0701332 , 0.06978728, 0.06944293,\n",
       "       0.06910016, 0.06875895, 0.06841931, 0.06808122, 0.06774468,\n",
       "       0.06740969, 0.06707623, 0.0667443 , 0.0664139 , 0.06608501,\n",
       "       0.06575765, 0.06543178, 0.06510743, 0.06478457, 0.06446319,\n",
       "       0.06414331, 0.0638249 , 0.06350797, 0.0631925 , 0.0628785 ,\n",
       "       0.06256595, 0.06225485, 0.0619452 , 0.06163698, 0.0613302 ,\n",
       "       0.06102485, 0.06072092, 0.0604184 , 0.0601173 , 0.0598176 ,\n",
       "       0.0595193 , 0.05922239, 0.05892687, 0.05863274, 0.05833998])"
      ]
     },
     "execution_count": 149,
     "metadata": {},
     "output_type": "execute_result"
    }
   ],
   "source": [
    "y[:,1]"
   ]
  },
  {
   "cell_type": "code",
   "execution_count": 150,
   "metadata": {},
   "outputs": [
    {
     "data": {
      "text/plain": [
       "<matplotlib.collections.LineCollection at 0x210c059feb0>"
      ]
     },
     "execution_count": 150,
     "metadata": {},
     "output_type": "execute_result"
    },
    {
     "data": {
      "image/png": "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",
      "text/plain": [
       "<Figure size 640x480 with 1 Axes>"
      ]
     },
     "metadata": {},
     "output_type": "display_data"
    }
   ],
   "source": [
    "plt.scatter(df.snelheid, df.resultaat)\n",
    "plt.plot(x_f, y[:,1])\n",
    "plt.plot(x_f, model.predict(x_f1))\n",
    "plt.hlines(xmin = 200, xmax=500, y=0.5, color='k')"
   ]
  },
  {
   "attachments": {},
   "cell_type": "markdown",
   "metadata": {},
   "source": [
    "# Validatie\n",
    "\n",
    "## Onze validatiemethode is ome Jo"
   ]
  }
 ],
 "metadata": {
  "kernelspec": {
   "display_name": "school",
   "language": "python",
   "name": "python3"
  },
  "language_info": {
   "codemirror_mode": {
    "name": "ipython",
    "version": 3
   },
   "file_extension": ".py",
   "mimetype": "text/x-python",
   "name": "python",
   "nbconvert_exporter": "python",
   "pygments_lexer": "ipython3",
   "version": "3.10.9"
  },
  "orig_nbformat": 4,
  "vscode": {
   "interpreter": {
    "hash": "461aa9db95cfad270846a0d02eb8f531ba8982f5cd6c22a0e39aad4aec46dde3"
   }
  }
 },
 "nbformat": 4,
 "nbformat_minor": 2
}
