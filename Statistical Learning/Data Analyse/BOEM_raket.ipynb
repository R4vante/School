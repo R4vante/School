{
 "cells": [
  {
   "cell_type": "code",
   "execution_count": 136,
   "metadata": {},
   "outputs": [],
   "source": [
    "import numpy as np\n",
    "import pandas as pd\n",
    "import matplotlib.pyplot as plt\n",
    "import seaborn as sns\n",
    "from DA import Import"
   ]
  },
  {
   "attachments": {},
   "cell_type": "markdown",
   "metadata": {},
   "source": [
    "# Import data\n",
    "\n",
    "- snelheid is in knopen -> 1 knoop = 1,852 km/h"
   ]
  },
  {
   "cell_type": "code",
   "execution_count": 137,
   "metadata": {},
   "outputs": [],
   "source": [
    "n = 25\n",
    "a = 3\n",
    "alpha = 0.05"
   ]
  },
  {
   "cell_type": "code",
   "execution_count": 138,
   "metadata": {},
   "outputs": [],
   "source": [
    "df = pd.read_excel(\"data_raket.xlsx\")"
   ]
  },
  {
   "cell_type": "code",
   "execution_count": 139,
   "metadata": {},
   "outputs": [],
   "source": [
    "df = df.rename(columns={\"test\":\"test\", \"doel snelheid (in knopen)\":\"snelheid\", \"resultaat (0=mis 1=raak)\":\"resultaat\"})"
   ]
  },
  {
   "cell_type": "code",
   "execution_count": 140,
   "metadata": {},
   "outputs": [
    {
     "data": {
      "text/html": [
       "<div>\n",
       "<style scoped>\n",
       "    .dataframe tbody tr th:only-of-type {\n",
       "        vertical-align: middle;\n",
       "    }\n",
       "\n",
       "    .dataframe tbody tr th {\n",
       "        vertical-align: top;\n",
       "    }\n",
       "\n",
       "    .dataframe thead th {\n",
       "        text-align: right;\n",
       "    }\n",
       "</style>\n",
       "<table border=\"1\" class=\"dataframe\">\n",
       "  <thead>\n",
       "    <tr style=\"text-align: right;\">\n",
       "      <th></th>\n",
       "      <th>test</th>\n",
       "      <th>snelheid</th>\n",
       "      <th>resultaat</th>\n",
       "    </tr>\n",
       "  </thead>\n",
       "  <tbody>\n",
       "    <tr>\n",
       "      <th>0</th>\n",
       "      <td>1</td>\n",
       "      <td>400</td>\n",
       "      <td>0</td>\n",
       "    </tr>\n",
       "    <tr>\n",
       "      <th>1</th>\n",
       "      <td>2</td>\n",
       "      <td>220</td>\n",
       "      <td>1</td>\n",
       "    </tr>\n",
       "    <tr>\n",
       "      <th>2</th>\n",
       "      <td>3</td>\n",
       "      <td>490</td>\n",
       "      <td>0</td>\n",
       "    </tr>\n",
       "    <tr>\n",
       "      <th>3</th>\n",
       "      <td>4</td>\n",
       "      <td>210</td>\n",
       "      <td>1</td>\n",
       "    </tr>\n",
       "    <tr>\n",
       "      <th>4</th>\n",
       "      <td>5</td>\n",
       "      <td>500</td>\n",
       "      <td>0</td>\n",
       "    </tr>\n",
       "    <tr>\n",
       "      <th>5</th>\n",
       "      <td>6</td>\n",
       "      <td>270</td>\n",
       "      <td>0</td>\n",
       "    </tr>\n",
       "    <tr>\n",
       "      <th>6</th>\n",
       "      <td>7</td>\n",
       "      <td>200</td>\n",
       "      <td>1</td>\n",
       "    </tr>\n",
       "    <tr>\n",
       "      <th>7</th>\n",
       "      <td>8</td>\n",
       "      <td>470</td>\n",
       "      <td>0</td>\n",
       "    </tr>\n",
       "    <tr>\n",
       "      <th>8</th>\n",
       "      <td>9</td>\n",
       "      <td>480</td>\n",
       "      <td>0</td>\n",
       "    </tr>\n",
       "    <tr>\n",
       "      <th>9</th>\n",
       "      <td>10</td>\n",
       "      <td>310</td>\n",
       "      <td>1</td>\n",
       "    </tr>\n",
       "    <tr>\n",
       "      <th>10</th>\n",
       "      <td>11</td>\n",
       "      <td>240</td>\n",
       "      <td>1</td>\n",
       "    </tr>\n",
       "    <tr>\n",
       "      <th>11</th>\n",
       "      <td>12</td>\n",
       "      <td>490</td>\n",
       "      <td>0</td>\n",
       "    </tr>\n",
       "    <tr>\n",
       "      <th>12</th>\n",
       "      <td>13</td>\n",
       "      <td>420</td>\n",
       "      <td>0</td>\n",
       "    </tr>\n",
       "    <tr>\n",
       "      <th>13</th>\n",
       "      <td>14</td>\n",
       "      <td>330</td>\n",
       "      <td>1</td>\n",
       "    </tr>\n",
       "    <tr>\n",
       "      <th>14</th>\n",
       "      <td>15</td>\n",
       "      <td>280</td>\n",
       "      <td>1</td>\n",
       "    </tr>\n",
       "    <tr>\n",
       "      <th>15</th>\n",
       "      <td>16</td>\n",
       "      <td>210</td>\n",
       "      <td>1</td>\n",
       "    </tr>\n",
       "    <tr>\n",
       "      <th>16</th>\n",
       "      <td>17</td>\n",
       "      <td>300</td>\n",
       "      <td>1</td>\n",
       "    </tr>\n",
       "    <tr>\n",
       "      <th>17</th>\n",
       "      <td>18</td>\n",
       "      <td>470</td>\n",
       "      <td>1</td>\n",
       "    </tr>\n",
       "    <tr>\n",
       "      <th>18</th>\n",
       "      <td>19</td>\n",
       "      <td>230</td>\n",
       "      <td>0</td>\n",
       "    </tr>\n",
       "    <tr>\n",
       "      <th>19</th>\n",
       "      <td>20</td>\n",
       "      <td>430</td>\n",
       "      <td>0</td>\n",
       "    </tr>\n",
       "    <tr>\n",
       "      <th>20</th>\n",
       "      <td>21</td>\n",
       "      <td>460</td>\n",
       "      <td>0</td>\n",
       "    </tr>\n",
       "    <tr>\n",
       "      <th>21</th>\n",
       "      <td>22</td>\n",
       "      <td>220</td>\n",
       "      <td>1</td>\n",
       "    </tr>\n",
       "    <tr>\n",
       "      <th>22</th>\n",
       "      <td>23</td>\n",
       "      <td>250</td>\n",
       "      <td>1</td>\n",
       "    </tr>\n",
       "    <tr>\n",
       "      <th>23</th>\n",
       "      <td>24</td>\n",
       "      <td>200</td>\n",
       "      <td>1</td>\n",
       "    </tr>\n",
       "    <tr>\n",
       "      <th>24</th>\n",
       "      <td>25</td>\n",
       "      <td>390</td>\n",
       "      <td>0</td>\n",
       "    </tr>\n",
       "  </tbody>\n",
       "</table>\n",
       "</div>"
      ],
      "text/plain": [
       "    test  snelheid  resultaat\n",
       "0      1       400          0\n",
       "1      2       220          1\n",
       "2      3       490          0\n",
       "3      4       210          1\n",
       "4      5       500          0\n",
       "5      6       270          0\n",
       "6      7       200          1\n",
       "7      8       470          0\n",
       "8      9       480          0\n",
       "9     10       310          1\n",
       "10    11       240          1\n",
       "11    12       490          0\n",
       "12    13       420          0\n",
       "13    14       330          1\n",
       "14    15       280          1\n",
       "15    16       210          1\n",
       "16    17       300          1\n",
       "17    18       470          1\n",
       "18    19       230          0\n",
       "19    20       430          0\n",
       "20    21       460          0\n",
       "21    22       220          1\n",
       "22    23       250          1\n",
       "23    24       200          1\n",
       "24    25       390          0"
      ]
     },
     "execution_count": 140,
     "metadata": {},
     "output_type": "execute_result"
    }
   ],
   "source": [
    "df"
   ]
  },
  {
   "cell_type": "code",
   "execution_count": 141,
   "metadata": {},
   "outputs": [
    {
     "name": "stdout",
     "output_type": "stream",
     "text": [
      "<class 'pandas.core.frame.DataFrame'>\n",
      "RangeIndex: 25 entries, 0 to 24\n",
      "Data columns (total 3 columns):\n",
      " #   Column     Non-Null Count  Dtype\n",
      "---  ------     --------------  -----\n",
      " 0   test       25 non-null     int64\n",
      " 1   snelheid   25 non-null     int64\n",
      " 2   resultaat  25 non-null     int64\n",
      "dtypes: int64(3)\n",
      "memory usage: 728.0 bytes\n"
     ]
    }
   ],
   "source": [
    "df.info()"
   ]
  },
  {
   "cell_type": "code",
   "execution_count": 142,
   "metadata": {},
   "outputs": [
    {
     "data": {
      "text/plain": [
       "<AxesSubplot: ylabel='Frequency'>"
      ]
     },
     "execution_count": 142,
     "metadata": {},
     "output_type": "execute_result"
    },
    {
     "data": {
      "image/png": "[encoded data removed]",
      "text/plain": [
       "<Figure size 640x480 with 1 Axes>"
      ]
     },
     "metadata": {},
     "output_type": "display_data"
    }
   ],
   "source": [
    "df.resultaat.plot(kind='hist')"
   ]
  },
  {
   "cell_type": "code",
   "execution_count": 143,
   "metadata": {},
   "outputs": [
    {
     "data": {
      "text/plain": [
       "<matplotlib.collections.PathCollection at 0x210c0867dc0>"
      ]
     },
     "execution_count": 143,
     "metadata": {},
     "output_type": "execute_result"
    },
    {
     "data": {
      "image/png": "[encoded data removed]",
      "text/plain": [
       "<Figure size 640x480 with 1 Axes>"
      ]
     },
     "metadata": {},
     "output_type": "display_data"
    }
   ],
   "source": [
    "plt.scatter(df.snelheid, df.resultaat)"
   ]
  },
  {
   "cell_type": "code",
   "execution_count": 144,
   "metadata": {},
   "outputs": [],
   "source": [
    "from sklearn.linear_model import LogisticRegression\n",
    "from sklearn import metrics"
   ]
  },
  {
   "cell_type": "code",
   "execution_count": 145,
   "metadata": {},
   "outputs": [],
   "source": [
    "mu = df.snelheid.mean()\n",
    "std = df.snelheid.std()\n",
    "f = 1/(1+np.exp((df.snelheid-mu)/std))"
   ]
  },
  {
   "cell_type": "code",
   "execution_count": 146,
   "metadata": {},
   "outputs": [
    {
     "data": {
      "text/plain": [
       "0.88"
      ]
     },
     "execution_count": 146,
     "metadata": {},
     "output_type": "execute_result"
    }
   ],
   "source": [
    "X = df.snelheid.values\n",
    "type(X)\n",
    "X=X.reshape(-1,1)\n",
    "model = LogisticRegression(random_state=1).fit(X, df.resultaat.values.tolist())\n",
    "model.score(X, df.resultaat.values.tolist())"
   ]
  },
  {
   "cell_type": "code",
   "execution_count": 147,
   "metadata": {},
   "outputs": [
    {
     "data": {
      "text/plain": [
       "0.8878205128205129"
      ]
     },
     "execution_count": 147,
     "metadata": {},
     "output_type": "execute_result"
    }
   ],
   "source": [
    "X_f = np.linspace(df.snelheid.min(), df.snelheid.max(), 1000)\n",
    "x_f1 = x_f.reshape(-1,1)\n",
    "y = model.predict_proba(x_f1)\n",
    "pred = model.predict(X)\n",
    "metrics.roc_auc_score(df.resultaat.values, model.predict_proba(X)[:,1])"
   ]
  },
  {
   "cell_type": "code",
   "execution_count": 148,
   "metadata": {},
   "outputs": [
    {
     "data": {
      "text/plain": [
       "array([[0.07379145, 0.92620855],\n",
       "       [0.07415564, 0.92584436],\n",
       "       [0.07452148, 0.92547852],\n",
       "       ...,\n",
       "       [0.94107313, 0.05892687],\n",
       "       [0.94136726, 0.05863274],\n",
       "       [0.94166002, 0.05833998]])"
      ]
     },
     "execution_count": 148,
     "metadata": {},
     "output_type": "execute_result"
    }
   ],
   "source": [
    "y"
   ]
  },
  {
   "cell_type": "code",
   "execution_count": 149,
   "metadata": {},
   "outputs": [
    {
     "data": {
      "text/plain": [
       "array([0.92620855, 0.92584436, 0.92547852, 0.92511102, 0.92474185,\n",
       "       0.92437102, 0.9239985 , 0.9236243 , 0.92324842, 0.92287084,\n",
       "       0.92249155, 0.92211056, 0.92172786, 0.92134343, 0.92095728,\n",
       "       0.92056939, 0.92017977, 0.91978841, 0.91939529, 0.91900041,\n",
       "       0.91860377, 0.91820537, 0.91780518, 0.91740322, 0.91699947,\n",
       "       0.91659392, 0.91618657, 0.91577742, 0.91536645, 0.91495367,\n",
       "       0.91453905, 0.91412261, 0.91370433, 0.91328421, 0.91286223,\n",
       "       0.9124384 , 0.91201271, 0.91158514, 0.9111557 , 0.91072438,\n",
       "       0.91029118, 0.90985607, 0.90941907, 0.90898016, 0.90853934,\n",
       "       0.9080966 , 0.90765193, 0.90720534, 0.9067568 , 0.90630632,\n",
       "       0.90585389, 0.9053995 , 0.90494315, 0.90448483, 0.90402454,\n",
       "       0.90356226, 0.903098  , 0.90263174, 0.90216348, 0.90169322,\n",
       "       0.90122094, 0.90074664, 0.90027032, 0.89979196, 0.89931157,\n",
       "       0.89882914, 0.89834465, 0.89785811, 0.8973695 , 0.89687883,\n",
       "       0.89638608, 0.89589125, 0.89539433, 0.89489532, 0.8943942 ,\n",
       "       0.89389099, 0.89338566, 0.89287821, 0.89236864, 0.89185694,\n",
       "       0.8913431 , 0.89082712, 0.89030899, 0.8897887 , 0.88926626,\n",
       "       0.88874164, 0.88821486, 0.88768589, 0.88715474, 0.8866214 ,\n",
       "       0.88608587, 0.88554812, 0.88500817, 0.88446601, 0.88392162,\n",
       "       0.88337501, 0.88282617, 0.88227508, 0.88172175, 0.88116617,\n",
       "       0.88060834, 0.88004824, 0.87948588, 0.87892124, 0.87835432,\n",
       "       0.87778511, 0.87721362, 0.87663983, 0.87606373, 0.87548533,\n",
       "       0.87490461, 0.87432157, 0.87373621, 0.87314852, 0.87255849,\n",
       "       0.87196612, 0.8713714 , 0.87077433, 0.8701749 , 0.86957311,\n",
       "       0.86896894, 0.8683624 , 0.86775348, 0.86714218, 0.86652848,\n",
       "       0.86591239, 0.8652939 , 0.864673  , 0.86404968, 0.86342395,\n",
       "       0.8627958 , 0.86216522, 0.8615322 , 0.86089675, 0.86025885,\n",
       "       0.85961851, 0.85897571, 0.85833046, 0.85768274, 0.85703255,\n",
       "       0.85637989, 0.85572476, 0.85506713, 0.85440703, 0.85374443,\n",
       "       0.85307933, 0.85241173, 0.85174163, 0.85106901, 0.85039388,\n",
       "       0.84971623, 0.84903605, 0.84835335, 0.84766811, 0.84698033,\n",
       "       0.84629001, 0.84559715, 0.84490173, 0.84420376, 0.84350323,\n",
       "       0.84280013, 0.84209447, 0.84138624, 0.84067543, 0.83996204,\n",
       "       0.83924607, 0.83852751, 0.83780637, 0.83708262, 0.83635628,\n",
       "       0.83562733, 0.83489578, 0.83416162, 0.83342484, 0.83268545,\n",
       "       0.83194344, 0.8311988 , 0.83045154, 0.82970165, 0.82894912,\n",
       "       0.82819396, 0.82743616, 0.82667571, 0.82591262, 0.82514688,\n",
       "       0.82437849, 0.82360744, 0.82283373, 0.82205737, 0.82127834,\n",
       "       0.82049664, 0.81971228, 0.81892525, 0.81813554, 0.81734316,\n",
       "       0.81654809, 0.81575035, 0.81494993, 0.81414682, 0.81334102,\n",
       "       0.81253253, 0.81172135, 0.81090748, 0.81009092, 0.80927165,\n",
       "       0.80844969, 0.80762503, 0.80679767, 0.8059676 , 0.80513483,\n",
       "       0.80429935, 0.80346116, 0.80262027, 0.80177666, 0.80093035,\n",
       "       0.80008132, 0.79922958, 0.79837512, 0.79751795, 0.79665806,\n",
       "       0.79579546, 0.79493013, 0.79406209, 0.79319134, 0.79231786,\n",
       "       0.79144166, 0.79056275, 0.78968111, 0.78879676, 0.78790968,\n",
       "       0.78701989, 0.78612737, 0.78523214, 0.78433419, 0.78343352,\n",
       "       0.78253012, 0.78162402, 0.78071519, 0.77980365, 0.77888939,\n",
       "       0.77797241, 0.77705273, 0.77613032, 0.77520521, 0.77427739,\n",
       "       0.77334685, 0.77241361, 0.77147766, 0.770539  , 0.76959764,\n",
       "       0.76865358, 0.76770682, 0.76675735, 0.76580519, 0.76485034,\n",
       "       0.76389279, 0.76293256, 0.76196963, 0.76100402, 0.76003572,\n",
       "       0.75906475, 0.75809109, 0.75711476, 0.75613576, 0.75515408,\n",
       "       0.75416974, 0.75318274, 0.75219308, 0.75120075, 0.75020578,\n",
       "       0.74920815, 0.74820788, 0.74720496, 0.7461994 , 0.74519121,\n",
       "       0.74418039, 0.74316693, 0.74215086, 0.74113216, 0.74011085,\n",
       "       0.73908693, 0.7380604 , 0.73703127, 0.73599954, 0.73496522,\n",
       "       0.73392831, 0.73288883, 0.73184676, 0.73080212, 0.72975492,\n",
       "       0.72870515, 0.72765283, 0.72659795, 0.72554053, 0.72448058,\n",
       "       0.72341809, 0.72235307, 0.72128553, 0.72021548, 0.71914292,\n",
       "       0.71806785, 0.7169903 , 0.71591025, 0.71482772, 0.71374271,\n",
       "       0.71265524, 0.7115653 , 0.71047291, 0.70937807, 0.70828079,\n",
       "       0.70718108, 0.70607894, 0.70497439, 0.70386742, 0.70275805,\n",
       "       0.70164629, 0.70053215, 0.69941562, 0.69829672, 0.69717547,\n",
       "       0.69605186, 0.6949259 , 0.69379761, 0.69266699, 0.69153405,\n",
       "       0.6903988 , 0.68926126, 0.68812142, 0.6869793 , 0.6858349 ,\n",
       "       0.68468824, 0.68353933, 0.68238817, 0.68123478, 0.68007917,\n",
       "       0.67892133, 0.6777613 , 0.67659907, 0.67543465, 0.67426806,\n",
       "       0.67309931, 0.6719284 , 0.67075536, 0.66958017, 0.66840287,\n",
       "       0.66722346, 0.66604195, 0.66485835, 0.66367268, 0.66248494,\n",
       "       0.66129515, 0.66010331, 0.65890944, 0.65771356, 0.65651566,\n",
       "       0.65531578, 0.6541139 , 0.65291006, 0.65170426, 0.65049651,\n",
       "       0.64928683, 0.64807523, 0.64686171, 0.6456463 , 0.64442901,\n",
       "       0.64320984, 0.64198882, 0.64076596, 0.63954126, 0.63831474,\n",
       "       0.63708642, 0.6358563 , 0.63462441, 0.63339075, 0.63215534,\n",
       "       0.6309182 , 0.62967933, 0.62843875, 0.62719648, 0.62595252,\n",
       "       0.6247069 , 0.62345963, 0.62221071, 0.62096018, 0.61970803,\n",
       "       0.61845429, 0.61719897, 0.61594208, 0.61468364, 0.61342367,\n",
       "       0.61216218, 0.61089918, 0.60963469, 0.60836872, 0.6071013 ,\n",
       "       0.60583243, 0.60456214, 0.60329043, 0.60201732, 0.60074283,\n",
       "       0.59946698, 0.59818977, 0.59691123, 0.59563138, 0.59435022,\n",
       "       0.59306777, 0.59178406, 0.59049909, 0.58921288, 0.58792546,\n",
       "       0.58663683, 0.58534701, 0.58405602, 0.58276388, 0.5814706 ,\n",
       "       0.58017619, 0.57888069, 0.5775841 , 0.57628643, 0.57498772,\n",
       "       0.57368796, 0.57238719, 0.57108542, 0.56978267, 0.56847894,\n",
       "       0.56717427, 0.56586866, 0.56456214, 0.56325473, 0.56194643,\n",
       "       0.56063727, 0.55932727, 0.55801644, 0.5567048 , 0.55539237,\n",
       "       0.55407916, 0.5527652 , 0.55145051, 0.55013509, 0.54881898,\n",
       "       0.54750218, 0.54618471, 0.5448666 , 0.54354786, 0.5422285 ,\n",
       "       0.54090856, 0.53958804, 0.53826696, 0.53694535, 0.53562322,\n",
       "       0.53430059, 0.53297747, 0.53165389, 0.53032987, 0.52900541,\n",
       "       0.52768055, 0.5263553 , 0.52502968, 0.5237037 , 0.5223774 ,\n",
       "       0.52105077, 0.51972385, 0.51839665, 0.51706919, 0.51574149,\n",
       "       0.51441356, 0.51308544, 0.51175713, 0.51042865, 0.50910002,\n",
       "       0.50777127, 0.50644241, 0.50511345, 0.50378443, 0.50245535,\n",
       "       0.50112623, 0.4997971 , 0.49846797, 0.49713887, 0.4958098 ,\n",
       "       0.4944808 , 0.49315187, 0.49182304, 0.49049432, 0.48916574,\n",
       "       0.48783731, 0.48650905, 0.48518099, 0.48385313, 0.4825255 ,\n",
       "       0.48119812, 0.479871  , 0.47854417, 0.47721764, 0.47589143,\n",
       "       0.47456556, 0.47324005, 0.47191491, 0.47059018, 0.46926585,\n",
       "       0.46794196, 0.46661852, 0.46529555, 0.46397307, 0.46265109,\n",
       "       0.46132964, 0.46000874, 0.45868839, 0.45736862, 0.45604946,\n",
       "       0.4547309 , 0.45341299, 0.45209572, 0.45077913, 0.44946322,\n",
       "       0.44814803, 0.44683355, 0.44551982, 0.44420686, 0.44289466,\n",
       "       0.44158327, 0.44027269, 0.43896294, 0.43765405, 0.43634602,\n",
       "       0.43503887, 0.43373263, 0.4324273 , 0.43112292, 0.42981949,\n",
       "       0.42851703, 0.42721556, 0.4259151 , 0.42461566, 0.42331727,\n",
       "       0.42201993, 0.42072367, 0.4194285 , 0.41813444, 0.4168415 ,\n",
       "       0.41554971, 0.41425907, 0.41296962, 0.41168135, 0.4103943 ,\n",
       "       0.40910847, 0.40782388, 0.40654055, 0.4052585 , 0.40397773,\n",
       "       0.40269828, 0.40142014, 0.40014335, 0.39886791, 0.39759384,\n",
       "       0.39632116, 0.39504988, 0.39378002, 0.39251159, 0.39124461,\n",
       "       0.3899791 , 0.38871506, 0.38745252, 0.38619149, 0.38493198,\n",
       "       0.38367402, 0.38241761, 0.38116277, 0.37990951, 0.37865785,\n",
       "       0.37740781, 0.3761594 , 0.37491262, 0.37366751, 0.37242407,\n",
       "       0.37118231, 0.36994225, 0.36870391, 0.36746729, 0.36623242,\n",
       "       0.3649993 , 0.36376794, 0.36253838, 0.3613106 , 0.36008464,\n",
       "       0.3588605 , 0.35763819, 0.35641774, 0.35519914, 0.35398242,\n",
       "       0.35276759, 0.35155466, 0.35034364, 0.34913455, 0.34792739,\n",
       "       0.34672219, 0.34551895, 0.34431768, 0.3431184 , 0.34192112,\n",
       "       0.34072585, 0.3395326 , 0.33834138, 0.33715222, 0.33596511,\n",
       "       0.33478006, 0.3335971 , 0.33241623, 0.33123746, 0.33006081,\n",
       "       0.32888628, 0.32771388, 0.32654363, 0.32537554, 0.32420961,\n",
       "       0.32304586, 0.3218843 , 0.32072494, 0.31956778, 0.31841284,\n",
       "       0.31726013, 0.31610966, 0.31496143, 0.31381547, 0.31267176,\n",
       "       0.31153034, 0.3103912 , 0.30925435, 0.30811981, 0.30698758,\n",
       "       0.30585767, 0.30473009, 0.30360485, 0.30248195, 0.30136142,\n",
       "       0.30024324, 0.29912744, 0.29801402, 0.29690299, 0.29579436,\n",
       "       0.29468813, 0.29358431, 0.29248291, 0.29138394, 0.29028741,\n",
       "       0.28919332, 0.28810167, 0.28701249, 0.28592577, 0.28484151,\n",
       "       0.28375974, 0.28268045, 0.28160365, 0.28052935, 0.27945756,\n",
       "       0.27838827, 0.2773215 , 0.27625726, 0.27519554, 0.27413636,\n",
       "       0.27307972, 0.27202562, 0.27097408, 0.26992509, 0.26887867,\n",
       "       0.26783482, 0.26679354, 0.26575483, 0.26471872, 0.26368519,\n",
       "       0.26265425, 0.26162592, 0.26060018, 0.25957706, 0.25855655,\n",
       "       0.25753865, 0.25652337, 0.25551072, 0.2545007 , 0.25349331,\n",
       "       0.25248856, 0.25148645, 0.25048698, 0.24949017, 0.248496  ,\n",
       "       0.24750449, 0.24651564, 0.24552945, 0.24454592, 0.24356506,\n",
       "       0.24258687, 0.24161136, 0.24063852, 0.23966836, 0.23870089,\n",
       "       0.2377361 , 0.23677399, 0.23581457, 0.23485785, 0.23390382,\n",
       "       0.23295248, 0.23200384, 0.23105791, 0.23011467, 0.22917413,\n",
       "       0.2282363 , 0.22730118, 0.22636876, 0.22543905, 0.22451206,\n",
       "       0.22358777, 0.2226662 , 0.22174734, 0.22083119, 0.21991776,\n",
       "       0.21900705, 0.21809905, 0.21719377, 0.21629121, 0.21539137,\n",
       "       0.21449425, 0.21359985, 0.21270816, 0.2118192 , 0.21093295,\n",
       "       0.21004943, 0.20916862, 0.20829054, 0.20741517, 0.20654253,\n",
       "       0.2056726 , 0.20480539, 0.2039409 , 0.20307912, 0.20222006,\n",
       "       0.20136372, 0.20051009, 0.19965918, 0.19881098, 0.19796549,\n",
       "       0.19712271, 0.19628264, 0.19544529, 0.19461063, 0.19377869,\n",
       "       0.19294945, 0.19212291, 0.19129907, 0.19047793, 0.18965949,\n",
       "       0.18884375, 0.1880307 , 0.18722035, 0.18641268, 0.1856077 ,\n",
       "       0.18480541, 0.18400581, 0.18320888, 0.18241464, 0.18162307,\n",
       "       0.18083418, 0.18004796, 0.17926441, 0.17848353, 0.17770532,\n",
       "       0.17692976, 0.17615687, 0.17538663, 0.17461905, 0.17385412,\n",
       "       0.17309184, 0.1723322 , 0.1715752 , 0.17082084, 0.17006912,\n",
       "       0.16932003, 0.16857357, 0.16782974, 0.16708853, 0.16634994,\n",
       "       0.16561396, 0.1648806 , 0.16414984, 0.16342169, 0.16269614,\n",
       "       0.16197319, 0.16125283, 0.16053506, 0.15981988, 0.15910728,\n",
       "       0.15839726, 0.15768981, 0.15698493, 0.15628262, 0.15558287,\n",
       "       0.15488568, 0.15419105, 0.15349896, 0.15280942, 0.15212242,\n",
       "       0.15143795, 0.15075602, 0.15007661, 0.14939973, 0.14872537,\n",
       "       0.14805352, 0.14738418, 0.14671735, 0.14605301, 0.14539117,\n",
       "       0.14473182, 0.14407496, 0.14342058, 0.14276868, 0.14211925,\n",
       "       0.14147228, 0.14082777, 0.14018573, 0.13954613, 0.13890898,\n",
       "       0.13827427, 0.137642  , 0.13701216, 0.13638475, 0.13575976,\n",
       "       0.13513718, 0.13451702, 0.13389926, 0.1332839 , 0.13267093,\n",
       "       0.13206035, 0.13145216, 0.13084635, 0.13024291, 0.12964184,\n",
       "       0.12904313, 0.12844678, 0.12785278, 0.12726112, 0.12667181,\n",
       "       0.12608482, 0.12550017, 0.12491785, 0.12433784, 0.12376014,\n",
       "       0.12318475, 0.12261166, 0.12204086, 0.12147236, 0.12090613,\n",
       "       0.12034219, 0.11978052, 0.11922111, 0.11866396, 0.11810907,\n",
       "       0.11755643, 0.11700603, 0.11645787, 0.11591193, 0.11536823,\n",
       "       0.11482674, 0.11428746, 0.1137504 , 0.11321553, 0.11268286,\n",
       "       0.11215238, 0.11162408, 0.11109796, 0.11057401, 0.11005222,\n",
       "       0.1095326 , 0.10901512, 0.1084998 , 0.10798661, 0.10747556,\n",
       "       0.10696664, 0.10645984, 0.10595515, 0.10545258, 0.10495211,\n",
       "       0.10445374, 0.10395746, 0.10346326, 0.10297115, 0.1024811 ,\n",
       "       0.10199313, 0.10150722, 0.10102336, 0.10054154, 0.10006177,\n",
       "       0.09958404, 0.09910834, 0.09863466, 0.09816299, 0.09769334,\n",
       "       0.09722569, 0.09676005, 0.09629639, 0.09583472, 0.09537503,\n",
       "       0.09491731, 0.09446156, 0.09400777, 0.09355594, 0.09310605,\n",
       "       0.09265811, 0.0922121 , 0.09176802, 0.09132587, 0.09088563,\n",
       "       0.09044731, 0.09001088, 0.08957636, 0.08914373, 0.08871299,\n",
       "       0.08828412, 0.08785713, 0.087432  , 0.08700874, 0.08658733,\n",
       "       0.08616777, 0.08575005, 0.08533417, 0.08492011, 0.08450788,\n",
       "       0.08409747, 0.08368887, 0.08328207, 0.08287707, 0.08247387,\n",
       "       0.08207245, 0.08167281, 0.08127494, 0.08087884, 0.0804845 ,\n",
       "       0.08009192, 0.07970109, 0.079312  , 0.07892464, 0.07853902,\n",
       "       0.07815512, 0.07777294, 0.07739247, 0.07701371, 0.07663664,\n",
       "       0.07626127, 0.07588759, 0.07551559, 0.07514526, 0.0747766 ,\n",
       "       0.07440961, 0.07404427, 0.07368059, 0.07331855, 0.07295814,\n",
       "       0.07259937, 0.07224223, 0.07188671, 0.0715328 , 0.0711805 ,\n",
       "       0.07082981, 0.07048071, 0.0701332 , 0.06978728, 0.06944293,\n",
       "       0.06910016, 0.06875895, 0.06841931, 0.06808122, 0.06774468,\n",
       "       0.06740969, 0.06707623, 0.0667443 , 0.0664139 , 0.06608501,\n",
       "       0.06575765, 0.06543178, 0.06510743, 0.06478457, 0.06446319,\n",
       "       0.06414331, 0.0638249 , 0.06350797, 0.0631925 , 0.0628785 ,\n",
       "       0.06256595, 0.06225485, 0.0619452 , 0.06163698, 0.0613302 ,\n",
       "       0.06102485, 0.06072092, 0.0604184 , 0.0601173 , 0.0598176 ,\n",
       "       0.0595193 , 0.05922239, 0.05892687, 0.05863274, 0.05833998])"
      ]
     },
     "execution_count": 149,
     "metadata": {},
     "output_type": "execute_result"
    }
   ],
   "source": [
    "y[:,1]"
   ]
  },
  {
   "cell_type": "code",
   "execution_count": 150,
   "metadata": {},
   "outputs": [
    {
     "data": {
      "text/plain": [
       "<matplotlib.collections.LineCollection at 0x210c059feb0>"
      ]
     },
     "execution_count": 150,
     "metadata": {},
     "output_type": "execute_result"
    },
    {
     "data": {
      "image/png": "[encoded data removed]",
      "text/plain": [
       "<Figure size 640x480 with 1 Axes>"
      ]
     },
     "metadata": {},
     "output_type": "display_data"
    }
   ],
   "source": [
    "plt.scatter(df.snelheid, df.resultaat)\n",
    "plt.plot(x_f, y[:,1])\n",
    "plt.plot(x_f, model.predict(x_f1))\n",
    "plt.hlines(xmin = 200, xmax=500, y=0.5, color='k')"
   ]
  },
  {
   "attachments": {},
   "cell_type": "markdown",
   "metadata": {},
   "source": [
    "# Validatie\n",
    "\n",
    "## Onze validatiemethode is ome Jo"
   ]
  }
 ],
 "metadata": {
  "kernelspec": {
   "display_name": "python",
   "language": "python",
   "name": "python3"
  },
  "language_info": {
   "codemirror_mode": {
    "name": "ipython",
    "version": 3
   },
   "file_extension": ".py",
   "mimetype": "text/x-python",
   "name": "python",
   "nbconvert_exporter": "python",
   "pygments_lexer": "ipython3",
   "version": "3.10.8"
  },
  "orig_nbformat": 4,
  "vscode": {
   "interpreter": {
    "hash": "2a59c52a014b2baf96a645a5e1b5479701ce084bc5b6436a8f253b184a60e5ca"
   }
  }
 },
 "nbformat": 4,
 "nbformat_minor": 2
}
