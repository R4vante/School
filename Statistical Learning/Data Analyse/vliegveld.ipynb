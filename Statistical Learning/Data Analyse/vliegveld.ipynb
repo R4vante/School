{
 "cells": [
  {
   "cell_type": "code",
   "execution_count": 35,
   "metadata": {},
   "outputs": [],
   "source": [
    "from DA import Import, Anova\n",
    "import numpy as np\n",
    "from scipy import stats\n",
    "import seaborn as sns\n",
    "import matplotlib.pyplot as plt"
   ]
  },
  {
   "cell_type": "code",
   "execution_count": 36,
   "metadata": {},
   "outputs": [],
   "source": [
    "column_names = {\"doorlooptijd [s]\":\"Handbagage\", \n",
    "                    \"doorlooptijd [s].1\":\"Bodyscan\",\n",
    "                    \"doorlooptijd [s].2\":\"Douane\"}\n",
    "\n",
    "n = 10\n",
    "a = 3\n",
    "alpha = 0.05"
   ]
  },
  {
   "cell_type": "code",
   "execution_count": 37,
   "metadata": {},
   "outputs": [],
   "source": [
    "Data = Import(\"Data.xlsx\", column_names, n)\n",
    "df, df_melt, names, mean, std = Data.import_df()"
   ]
  },
  {
   "cell_type": "code",
   "execution_count": 66,
   "metadata": {},
   "outputs": [
    {
     "data": {
      "text/html": [
       "<div>\n",
       "<style scoped>\n",
       "    .dataframe tbody tr th:only-of-type {\n",
       "        vertical-align: middle;\n",
       "    }\n",
       "\n",
       "    .dataframe tbody tr th {\n",
       "        vertical-align: top;\n",
       "    }\n",
       "\n",
       "    .dataframe thead th {\n",
       "        text-align: right;\n",
       "    }\n",
       "</style>\n",
       "<table border=\"1\" class=\"dataframe\">\n",
       "  <thead>\n",
       "    <tr style=\"text-align: right;\">\n",
       "      <th></th>\n",
       "      <th>Handbagage</th>\n",
       "      <th>Bodyscan</th>\n",
       "      <th>Douane</th>\n",
       "    </tr>\n",
       "  </thead>\n",
       "  <tbody>\n",
       "    <tr>\n",
       "      <th>0</th>\n",
       "      <td>200</td>\n",
       "      <td>215</td>\n",
       "      <td>218</td>\n",
       "    </tr>\n",
       "    <tr>\n",
       "      <th>1</th>\n",
       "      <td>207</td>\n",
       "      <td>174</td>\n",
       "      <td>183</td>\n",
       "    </tr>\n",
       "    <tr>\n",
       "      <th>2</th>\n",
       "      <td>191</td>\n",
       "      <td>210</td>\n",
       "      <td>210</td>\n",
       "    </tr>\n",
       "    <tr>\n",
       "      <th>3</th>\n",
       "      <td>215</td>\n",
       "      <td>178</td>\n",
       "      <td>225</td>\n",
       "    </tr>\n",
       "    <tr>\n",
       "      <th>4</th>\n",
       "      <td>220</td>\n",
       "      <td>162</td>\n",
       "      <td>235</td>\n",
       "    </tr>\n",
       "    <tr>\n",
       "      <th>5</th>\n",
       "      <td>205</td>\n",
       "      <td>188</td>\n",
       "      <td>179</td>\n",
       "    </tr>\n",
       "    <tr>\n",
       "      <th>6</th>\n",
       "      <td>225</td>\n",
       "      <td>205</td>\n",
       "      <td>230</td>\n",
       "    </tr>\n",
       "    <tr>\n",
       "      <th>7</th>\n",
       "      <td>157</td>\n",
       "      <td>220</td>\n",
       "      <td>267</td>\n",
       "    </tr>\n",
       "    <tr>\n",
       "      <th>8</th>\n",
       "      <td>220</td>\n",
       "      <td>167</td>\n",
       "      <td>201</td>\n",
       "    </tr>\n",
       "    <tr>\n",
       "      <th>9</th>\n",
       "      <td>225</td>\n",
       "      <td>184</td>\n",
       "      <td>196</td>\n",
       "    </tr>\n",
       "  </tbody>\n",
       "</table>\n",
       "</div>"
      ],
      "text/plain": [
       "   Handbagage  Bodyscan  Douane\n",
       "0         200       215     218\n",
       "1         207       174     183\n",
       "2         191       210     210\n",
       "3         215       178     225\n",
       "4         220       162     235\n",
       "5         205       188     179\n",
       "6         225       205     230\n",
       "7         157       220     267\n",
       "8         220       167     201\n",
       "9         225       184     196"
      ]
     },
     "execution_count": 66,
     "metadata": {},
     "output_type": "execute_result"
    }
   ],
   "source": [
    "df"
   ]
  },
  {
   "cell_type": "code",
   "execution_count": 65,
   "metadata": {},
   "outputs": [
    {
     "data": {
      "text/html": [
       "<div>\n",
       "<style scoped>\n",
       "    .dataframe tbody tr th:only-of-type {\n",
       "        vertical-align: middle;\n",
       "    }\n",
       "\n",
       "    .dataframe tbody tr th {\n",
       "        vertical-align: top;\n",
       "    }\n",
       "\n",
       "    .dataframe thead th {\n",
       "        text-align: right;\n",
       "    }\n",
       "</style>\n",
       "<table border=\"1\" class=\"dataframe\">\n",
       "  <thead>\n",
       "    <tr style=\"text-align: right;\">\n",
       "      <th></th>\n",
       "      <th>index</th>\n",
       "      <th>treatment</th>\n",
       "      <th>value</th>\n",
       "      <th>means</th>\n",
       "      <th>residual</th>\n",
       "    </tr>\n",
       "  </thead>\n",
       "  <tbody>\n",
       "    <tr>\n",
       "      <th>0</th>\n",
       "      <td>0</td>\n",
       "      <td>Handbagage</td>\n",
       "      <td>200</td>\n",
       "      <td>206.5</td>\n",
       "      <td>-6.5</td>\n",
       "    </tr>\n",
       "    <tr>\n",
       "      <th>1</th>\n",
       "      <td>1</td>\n",
       "      <td>Handbagage</td>\n",
       "      <td>207</td>\n",
       "      <td>206.5</td>\n",
       "      <td>0.5</td>\n",
       "    </tr>\n",
       "    <tr>\n",
       "      <th>2</th>\n",
       "      <td>2</td>\n",
       "      <td>Handbagage</td>\n",
       "      <td>191</td>\n",
       "      <td>206.5</td>\n",
       "      <td>-15.5</td>\n",
       "    </tr>\n",
       "    <tr>\n",
       "      <th>3</th>\n",
       "      <td>3</td>\n",
       "      <td>Handbagage</td>\n",
       "      <td>215</td>\n",
       "      <td>206.5</td>\n",
       "      <td>8.5</td>\n",
       "    </tr>\n",
       "    <tr>\n",
       "      <th>4</th>\n",
       "      <td>4</td>\n",
       "      <td>Handbagage</td>\n",
       "      <td>220</td>\n",
       "      <td>206.5</td>\n",
       "      <td>13.5</td>\n",
       "    </tr>\n",
       "    <tr>\n",
       "      <th>5</th>\n",
       "      <td>5</td>\n",
       "      <td>Handbagage</td>\n",
       "      <td>205</td>\n",
       "      <td>206.5</td>\n",
       "      <td>-1.5</td>\n",
       "    </tr>\n",
       "    <tr>\n",
       "      <th>6</th>\n",
       "      <td>6</td>\n",
       "      <td>Handbagage</td>\n",
       "      <td>225</td>\n",
       "      <td>206.5</td>\n",
       "      <td>18.5</td>\n",
       "    </tr>\n",
       "    <tr>\n",
       "      <th>7</th>\n",
       "      <td>7</td>\n",
       "      <td>Handbagage</td>\n",
       "      <td>157</td>\n",
       "      <td>206.5</td>\n",
       "      <td>-49.5</td>\n",
       "    </tr>\n",
       "    <tr>\n",
       "      <th>8</th>\n",
       "      <td>8</td>\n",
       "      <td>Handbagage</td>\n",
       "      <td>220</td>\n",
       "      <td>206.5</td>\n",
       "      <td>13.5</td>\n",
       "    </tr>\n",
       "    <tr>\n",
       "      <th>9</th>\n",
       "      <td>9</td>\n",
       "      <td>Handbagage</td>\n",
       "      <td>225</td>\n",
       "      <td>206.5</td>\n",
       "      <td>18.5</td>\n",
       "    </tr>\n",
       "    <tr>\n",
       "      <th>10</th>\n",
       "      <td>0</td>\n",
       "      <td>Bodyscan</td>\n",
       "      <td>215</td>\n",
       "      <td>190.3</td>\n",
       "      <td>24.7</td>\n",
       "    </tr>\n",
       "    <tr>\n",
       "      <th>11</th>\n",
       "      <td>1</td>\n",
       "      <td>Bodyscan</td>\n",
       "      <td>174</td>\n",
       "      <td>190.3</td>\n",
       "      <td>-16.3</td>\n",
       "    </tr>\n",
       "    <tr>\n",
       "      <th>12</th>\n",
       "      <td>2</td>\n",
       "      <td>Bodyscan</td>\n",
       "      <td>210</td>\n",
       "      <td>190.3</td>\n",
       "      <td>19.7</td>\n",
       "    </tr>\n",
       "    <tr>\n",
       "      <th>13</th>\n",
       "      <td>3</td>\n",
       "      <td>Bodyscan</td>\n",
       "      <td>178</td>\n",
       "      <td>190.3</td>\n",
       "      <td>-12.3</td>\n",
       "    </tr>\n",
       "    <tr>\n",
       "      <th>14</th>\n",
       "      <td>4</td>\n",
       "      <td>Bodyscan</td>\n",
       "      <td>162</td>\n",
       "      <td>190.3</td>\n",
       "      <td>-28.3</td>\n",
       "    </tr>\n",
       "    <tr>\n",
       "      <th>15</th>\n",
       "      <td>5</td>\n",
       "      <td>Bodyscan</td>\n",
       "      <td>188</td>\n",
       "      <td>190.3</td>\n",
       "      <td>-2.3</td>\n",
       "    </tr>\n",
       "    <tr>\n",
       "      <th>16</th>\n",
       "      <td>6</td>\n",
       "      <td>Bodyscan</td>\n",
       "      <td>205</td>\n",
       "      <td>190.3</td>\n",
       "      <td>14.7</td>\n",
       "    </tr>\n",
       "    <tr>\n",
       "      <th>17</th>\n",
       "      <td>7</td>\n",
       "      <td>Bodyscan</td>\n",
       "      <td>220</td>\n",
       "      <td>190.3</td>\n",
       "      <td>29.7</td>\n",
       "    </tr>\n",
       "    <tr>\n",
       "      <th>18</th>\n",
       "      <td>8</td>\n",
       "      <td>Bodyscan</td>\n",
       "      <td>167</td>\n",
       "      <td>190.3</td>\n",
       "      <td>-23.3</td>\n",
       "    </tr>\n",
       "    <tr>\n",
       "      <th>19</th>\n",
       "      <td>9</td>\n",
       "      <td>Bodyscan</td>\n",
       "      <td>184</td>\n",
       "      <td>190.3</td>\n",
       "      <td>-6.3</td>\n",
       "    </tr>\n",
       "    <tr>\n",
       "      <th>20</th>\n",
       "      <td>0</td>\n",
       "      <td>Douane</td>\n",
       "      <td>218</td>\n",
       "      <td>214.4</td>\n",
       "      <td>3.6</td>\n",
       "    </tr>\n",
       "    <tr>\n",
       "      <th>21</th>\n",
       "      <td>1</td>\n",
       "      <td>Douane</td>\n",
       "      <td>183</td>\n",
       "      <td>214.4</td>\n",
       "      <td>-31.4</td>\n",
       "    </tr>\n",
       "    <tr>\n",
       "      <th>22</th>\n",
       "      <td>2</td>\n",
       "      <td>Douane</td>\n",
       "      <td>210</td>\n",
       "      <td>214.4</td>\n",
       "      <td>-4.4</td>\n",
       "    </tr>\n",
       "    <tr>\n",
       "      <th>23</th>\n",
       "      <td>3</td>\n",
       "      <td>Douane</td>\n",
       "      <td>225</td>\n",
       "      <td>214.4</td>\n",
       "      <td>10.6</td>\n",
       "    </tr>\n",
       "    <tr>\n",
       "      <th>24</th>\n",
       "      <td>4</td>\n",
       "      <td>Douane</td>\n",
       "      <td>235</td>\n",
       "      <td>214.4</td>\n",
       "      <td>20.6</td>\n",
       "    </tr>\n",
       "    <tr>\n",
       "      <th>25</th>\n",
       "      <td>5</td>\n",
       "      <td>Douane</td>\n",
       "      <td>179</td>\n",
       "      <td>214.4</td>\n",
       "      <td>-35.4</td>\n",
       "    </tr>\n",
       "    <tr>\n",
       "      <th>26</th>\n",
       "      <td>6</td>\n",
       "      <td>Douane</td>\n",
       "      <td>230</td>\n",
       "      <td>214.4</td>\n",
       "      <td>15.6</td>\n",
       "    </tr>\n",
       "    <tr>\n",
       "      <th>27</th>\n",
       "      <td>7</td>\n",
       "      <td>Douane</td>\n",
       "      <td>267</td>\n",
       "      <td>214.4</td>\n",
       "      <td>52.6</td>\n",
       "    </tr>\n",
       "    <tr>\n",
       "      <th>28</th>\n",
       "      <td>8</td>\n",
       "      <td>Douane</td>\n",
       "      <td>201</td>\n",
       "      <td>214.4</td>\n",
       "      <td>-13.4</td>\n",
       "    </tr>\n",
       "    <tr>\n",
       "      <th>29</th>\n",
       "      <td>9</td>\n",
       "      <td>Douane</td>\n",
       "      <td>196</td>\n",
       "      <td>214.4</td>\n",
       "      <td>-18.4</td>\n",
       "    </tr>\n",
       "  </tbody>\n",
       "</table>\n",
       "</div>"
      ],
      "text/plain": [
       "    index   treatment  value  means  residual\n",
       "0       0  Handbagage    200  206.5      -6.5\n",
       "1       1  Handbagage    207  206.5       0.5\n",
       "2       2  Handbagage    191  206.5     -15.5\n",
       "3       3  Handbagage    215  206.5       8.5\n",
       "4       4  Handbagage    220  206.5      13.5\n",
       "5       5  Handbagage    205  206.5      -1.5\n",
       "6       6  Handbagage    225  206.5      18.5\n",
       "7       7  Handbagage    157  206.5     -49.5\n",
       "8       8  Handbagage    220  206.5      13.5\n",
       "9       9  Handbagage    225  206.5      18.5\n",
       "10      0    Bodyscan    215  190.3      24.7\n",
       "11      1    Bodyscan    174  190.3     -16.3\n",
       "12      2    Bodyscan    210  190.3      19.7\n",
       "13      3    Bodyscan    178  190.3     -12.3\n",
       "14      4    Bodyscan    162  190.3     -28.3\n",
       "15      5    Bodyscan    188  190.3      -2.3\n",
       "16      6    Bodyscan    205  190.3      14.7\n",
       "17      7    Bodyscan    220  190.3      29.7\n",
       "18      8    Bodyscan    167  190.3     -23.3\n",
       "19      9    Bodyscan    184  190.3      -6.3\n",
       "20      0      Douane    218  214.4       3.6\n",
       "21      1      Douane    183  214.4     -31.4\n",
       "22      2      Douane    210  214.4      -4.4\n",
       "23      3      Douane    225  214.4      10.6\n",
       "24      4      Douane    235  214.4      20.6\n",
       "25      5      Douane    179  214.4     -35.4\n",
       "26      6      Douane    230  214.4      15.6\n",
       "27      7      Douane    267  214.4      52.6\n",
       "28      8      Douane    201  214.4     -13.4\n",
       "29      9      Douane    196  214.4     -18.4"
      ]
     },
     "execution_count": 65,
     "metadata": {},
     "output_type": "execute_result"
    }
   ],
   "source": [
    "df_melt"
   ]
  },
  {
   "cell_type": "code",
   "execution_count": 38,
   "metadata": {},
   "outputs": [
    {
     "name": "stdout",
     "output_type": "stream",
     "text": [
      "203.73333333333332 23.884350990182302\n"
     ]
    }
   ],
   "source": [
    "means = np.mean(df_melt['value'].values)\n",
    "stds = np.std(df_melt['value'].values)\n",
    "print(means, stds)"
   ]
  },
  {
   "cell_type": "code",
   "execution_count": 63,
   "metadata": {},
   "outputs": [
    {
     "data": {
      "text/plain": [
       "0.11723339818479533"
      ]
     },
     "execution_count": 63,
     "metadata": {},
     "output_type": "execute_result"
    }
   ],
   "source": [
    "var_cof = np.divide(stds,means)\n",
    "var_cof"
   ]
  },
  {
   "attachments": {},
   "cell_type": "markdown",
   "metadata": {},
   "source": [
    "dus grafiek gaat nog niet brrr"
   ]
  },
  {
   "cell_type": "code",
   "execution_count": 40,
   "metadata": {},
   "outputs": [
    {
     "name": "stdout",
     "output_type": "stream",
     "text": [
      "H0 accepted\n",
      "1-2: no significant difference \n",
      "1-3: no significant difference \n",
      "2-3: SIGNIFICANT DIFFERENCE!\n"
     ]
    }
   ],
   "source": [
    "anova = Anova(df_melt, mean, alpha, n, a)\n",
    "df_melt, anova_table, pvalue, lsd = anova.anova()"
   ]
  },
  {
   "attachments": {},
   "cell_type": "markdown",
   "metadata": {},
   "source": [
    "H0: De treatments zijn niet verschillend. -> hebben ze geen invloed op elkaar. (vallen onder dezelfde normale verdeling)."
   ]
  },
  {
   "attachments": {},
   "cell_type": "markdown",
   "metadata": {},
   "source": [
    "H0 geaccepteerd wordt -> er is geen significant verschil tussen de treatments, maar LSD zegt van wel."
   ]
  },
  {
   "cell_type": "code",
   "execution_count": 62,
   "metadata": {},
   "outputs": [
    {
     "name": "stdout",
     "output_type": "stream",
     "text": [
      "0.07280792223110015 0.05\n"
     ]
    }
   ],
   "source": [
    "print(pvalue, alpha)"
   ]
  },
  {
   "cell_type": "code",
   "execution_count": 41,
   "metadata": {},
   "outputs": [
    {
     "data": {
      "image/png": "[encoded data removed]",
      "text/plain": [
       "<Figure size 640x480 with 1 Axes>"
      ]
     },
     "metadata": {},
     "output_type": "display_data"
    }
   ],
   "source": [
    "anova.boxplot()"
   ]
  },
  {
   "cell_type": "code",
   "execution_count": 42,
   "metadata": {},
   "outputs": [
    {
     "data": {
      "image/png": "[encoded data removed]",
      "text/plain": [
       "<Figure size 640x480 with 1 Axes>"
      ]
     },
     "metadata": {},
     "output_type": "display_data"
    }
   ],
   "source": [
    "anova.norm_plot()"
   ]
  },
  {
   "attachments": {},
   "cell_type": "markdown",
   "metadata": {},
   "source": [
    "De metingen volgen significant geen normale verdeling."
   ]
  },
  {
   "attachments": {},
   "cell_type": "markdown",
   "metadata": {},
   "source": [
    "# Correlatiecoëfficiënt\n",
    "\n",
    "Niet zeker wat we moeten bereken\n",
    "-> verwachting correlatie onderling"
   ]
  },
  {
   "attachments": {
    "image.png": {
     "image/png": "[encoded data removed]"
    }
   },
   "cell_type": "markdown",
   "metadata": {},
   "source": [
    "![image.png](attachment:image.png)"
   ]
  },
  {
   "cell_type": "code",
   "execution_count": 43,
   "metadata": {},
   "outputs": [
    {
     "data": {
      "text/html": [
       "<div>\n",
       "<style scoped>\n",
       "    .dataframe tbody tr th:only-of-type {\n",
       "        vertical-align: middle;\n",
       "    }\n",
       "\n",
       "    .dataframe tbody tr th {\n",
       "        vertical-align: top;\n",
       "    }\n",
       "\n",
       "    .dataframe thead th {\n",
       "        text-align: right;\n",
       "    }\n",
       "</style>\n",
       "<table border=\"1\" class=\"dataframe\">\n",
       "  <thead>\n",
       "    <tr style=\"text-align: right;\">\n",
       "      <th></th>\n",
       "      <th>Handbagage</th>\n",
       "      <th>Bodyscan</th>\n",
       "      <th>Douane</th>\n",
       "    </tr>\n",
       "  </thead>\n",
       "  <tbody>\n",
       "    <tr>\n",
       "      <th>0</th>\n",
       "      <td>200</td>\n",
       "      <td>215</td>\n",
       "      <td>218</td>\n",
       "    </tr>\n",
       "    <tr>\n",
       "      <th>1</th>\n",
       "      <td>207</td>\n",
       "      <td>174</td>\n",
       "      <td>183</td>\n",
       "    </tr>\n",
       "    <tr>\n",
       "      <th>2</th>\n",
       "      <td>191</td>\n",
       "      <td>210</td>\n",
       "      <td>210</td>\n",
       "    </tr>\n",
       "    <tr>\n",
       "      <th>3</th>\n",
       "      <td>215</td>\n",
       "      <td>178</td>\n",
       "      <td>225</td>\n",
       "    </tr>\n",
       "    <tr>\n",
       "      <th>4</th>\n",
       "      <td>220</td>\n",
       "      <td>162</td>\n",
       "      <td>235</td>\n",
       "    </tr>\n",
       "    <tr>\n",
       "      <th>5</th>\n",
       "      <td>205</td>\n",
       "      <td>188</td>\n",
       "      <td>179</td>\n",
       "    </tr>\n",
       "    <tr>\n",
       "      <th>6</th>\n",
       "      <td>225</td>\n",
       "      <td>205</td>\n",
       "      <td>230</td>\n",
       "    </tr>\n",
       "    <tr>\n",
       "      <th>7</th>\n",
       "      <td>157</td>\n",
       "      <td>220</td>\n",
       "      <td>267</td>\n",
       "    </tr>\n",
       "    <tr>\n",
       "      <th>8</th>\n",
       "      <td>220</td>\n",
       "      <td>167</td>\n",
       "      <td>201</td>\n",
       "    </tr>\n",
       "    <tr>\n",
       "      <th>9</th>\n",
       "      <td>225</td>\n",
       "      <td>184</td>\n",
       "      <td>196</td>\n",
       "    </tr>\n",
       "  </tbody>\n",
       "</table>\n",
       "</div>"
      ],
      "text/plain": [
       "   Handbagage  Bodyscan  Douane\n",
       "0         200       215     218\n",
       "1         207       174     183\n",
       "2         191       210     210\n",
       "3         215       178     225\n",
       "4         220       162     235\n",
       "5         205       188     179\n",
       "6         225       205     230\n",
       "7         157       220     267\n",
       "8         220       167     201\n",
       "9         225       184     196"
      ]
     },
     "execution_count": 43,
     "metadata": {},
     "output_type": "execute_result"
    }
   ],
   "source": [
    "df"
   ]
  },
  {
   "attachments": {},
   "cell_type": "markdown",
   "metadata": {},
   "source": [
    "# Correlatie dubbel checken"
   ]
  },
  {
   "cell_type": "code",
   "execution_count": 44,
   "metadata": {},
   "outputs": [
    {
     "data": {
      "text/plain": [
       "[-0.666755516250697, -0.48267241442494546, 0.422688952907181]"
      ]
     },
     "execution_count": 44,
     "metadata": {},
     "output_type": "execute_result"
    }
   ],
   "source": [
    "r12 = stats.pearsonr(df[\"Handbagage\"].values, df[\"Bodyscan\"].values)\n",
    "r13 = stats.pearsonr(df[\"Handbagage\"].values, df[\"Douane\"].values)\n",
    "r23 = stats.pearsonr(df[\"Bodyscan\"].values, df[\"Douane\"].values)\n",
    "\n",
    "\n",
    "r = [r12[0], r13[0], r23[0]]\n",
    "\n",
    "r"
   ]
  },
  {
   "cell_type": "code",
   "execution_count": 45,
   "metadata": {},
   "outputs": [
    {
     "data": {
      "image/png": "[encoded data removed]",
      "text/plain": [
       "<Figure size 1200x800 with 2 Axes>"
      ]
     },
     "metadata": {},
     "output_type": "display_data"
    }
   ],
   "source": [
    "anova.res_plot()"
   ]
  },
  {
   "attachments": {},
   "cell_type": "markdown",
   "metadata": {},
   "source": [
    "# We gaan ervan uit dat het normaal verdeel is, maar ome Jo vragen.\n",
    "\n",
    "Ome Jo zei ja."
   ]
  },
  {
   "attachments": {},
   "cell_type": "markdown",
   "metadata": {},
   "source": [
    "# Betrouwbaarheidsinterval gemiddelde van populatie"
   ]
  },
  {
   "cell_type": "code",
   "execution_count": 46,
   "metadata": {},
   "outputs": [],
   "source": [
    "t = stats.t.ppf(1-alpha/2, df=9)"
   ]
  },
  {
   "attachments": {},
   "cell_type": "markdown",
   "metadata": {},
   "source": [
    "$$\\bar{x} - t \\frac{s}{\\sqrt{n}} < \\mu < \\bar{x} + t \\frac{s}{\\sqrt{n}}$$"
   ]
  },
  {
   "cell_type": "code",
   "execution_count": 47,
   "metadata": {},
   "outputs": [
    {
     "name": "stdout",
     "output_type": "stream",
     "text": [
      "186.64749790831127 \n",
      " 220.81916875835537\n"
     ]
    }
   ],
   "source": [
    "xmin = means - t*stds/(np.sqrt(n))\n",
    "xmax = means + t*stds/(np.sqrt(n))\n",
    "\n",
    "print(xmin, \"\\n\", xmax)\n"
   ]
  },
  {
   "attachments": {},
   "cell_type": "markdown",
   "metadata": {},
   "source": [
    "$$ 186,65 < \\mu < 220,82 $$"
   ]
  },
  {
   "attachments": {},
   "cell_type": "markdown",
   "metadata": {},
   "source": [
    "# Bepaling van uitschieters"
   ]
  },
  {
   "cell_type": "code",
   "execution_count": 48,
   "metadata": {},
   "outputs": [
    {
     "data": {
      "text/plain": [
       "7    157\n",
       "Name: Handbagage, dtype: int64"
      ]
     },
     "execution_count": 48,
     "metadata": {},
     "output_type": "execute_result"
    }
   ],
   "source": [
    "q1 = df[\"Handbagage\"].quantile(0.25)\n",
    "q3 = df[\"Handbagage\"].quantile(0.75)\n",
    "\n",
    "IQR = q3-q1\n",
    "\n",
    "outliers = df[\"Handbagage\"][((df[\"Handbagage\"]<(q1-1.5*IQR)) | (df[\"Handbagage\"]>(q3+1.5*IQR)))]\n",
    "outliers"
   ]
  },
  {
   "attachments": {},
   "cell_type": "markdown",
   "metadata": {},
   "source": [
    "uitschieter van $157$"
   ]
  },
  {
   "cell_type": "code",
   "execution_count": 49,
   "metadata": {},
   "outputs": [
    {
     "data": {
      "text/plain": [
       "Series([], Name: Bodyscan, dtype: int64)"
      ]
     },
     "execution_count": 49,
     "metadata": {},
     "output_type": "execute_result"
    }
   ],
   "source": [
    "q1 = df[\"Bodyscan\"].quantile(0.25)\n",
    "q3 = df[\"Bodyscan\"].quantile(0.75)\n",
    "\n",
    "IQR = q3-q1\n",
    "\n",
    "outliers = df[\"Bodyscan\"][((df[\"Bodyscan\"]<(q1-1.5*IQR)) | (df[\"Bodyscan\"]>(q3+1.5*IQR)))]\n",
    "outliers"
   ]
  },
  {
   "cell_type": "code",
   "execution_count": 50,
   "metadata": {},
   "outputs": [
    {
     "data": {
      "text/plain": [
       "Series([], Name: Douane, dtype: int64)"
      ]
     },
     "execution_count": 50,
     "metadata": {},
     "output_type": "execute_result"
    }
   ],
   "source": [
    "q1 = df[\"Douane\"].quantile(0.25)\n",
    "q3 = df[\"Douane\"].quantile(0.75)\n",
    "\n",
    "IQR = q3-q1\n",
    "\n",
    "outliers = df[\"Douane\"][((df[\"Douane\"]<(q1-1.5*IQR)) | (df[\"Douane\"]>(q3+1.5*IQR)))]\n",
    "outliers"
   ]
  },
  {
   "cell_type": "code",
   "execution_count": 51,
   "metadata": {},
   "outputs": [
    {
     "data": {
      "image/png": "[encoded data removed]",
      "text/plain": [
       "<Figure size 640x480 with 1 Axes>"
      ]
     },
     "metadata": {},
     "output_type": "display_data"
    }
   ],
   "source": [
    "anova.boxplot()"
   ]
  },
  {
   "attachments": {},
   "cell_type": "markdown",
   "metadata": {},
   "source": [
    "# Skewness en kurtosis\n",
    "\n",
    "$$sk = \\frac{3 \\bar{x} - Md}{s}$$\n",
    "\n",
    "$Md$ = Mediaan\n",
    "\n",
    "\n",
    "Op pearson manier"
   ]
  },
  {
   "attachments": {
    "image.png": {
     "image/png": "[encoded data removed]"
    }
   },
   "cell_type": "markdown",
   "metadata": {},
   "source": [
    "![image.png](attachment:image.png)"
   ]
  },
  {
   "attachments": {},
   "cell_type": "markdown",
   "metadata": {},
   "source": [
    "Kurtosis op fisher en pearson manier"
   ]
  },
  {
   "cell_type": "code",
   "execution_count": 52,
   "metadata": {},
   "outputs": [
    {
     "data": {
      "text/plain": [
       "0.10794195429571911"
      ]
     },
     "execution_count": 52,
     "metadata": {},
     "output_type": "execute_result"
    }
   ],
   "source": [
    "skew = stats.skew(df_melt['value'].values)\n",
    "skew"
   ]
  },
  {
   "cell_type": "code",
   "execution_count": 53,
   "metadata": {},
   "outputs": [
    {
     "data": {
      "text/plain": [
       "3.07286319087321"
      ]
     },
     "execution_count": 53,
     "metadata": {},
     "output_type": "execute_result"
    }
   ],
   "source": [
    "kurt = stats.kurtosis(df_melt['value'].values, fisher=False)\n",
    "kurt"
   ]
  },
  {
   "attachments": {},
   "cell_type": "markdown",
   "metadata": {},
   "source": [
    "# Antwoorden van ome Jo\n",
    "\n",
    "Waarom is kurtosis zo verschillend en welke manier moeten we gebruiken?\n",
    "\n",
    "- Fisher methode voor discrete metingen\n",
    "- Pearson methode voor continu metingen (in ons geval van toepassing)"
   ]
  },
  {
   "cell_type": "code",
   "execution_count": 54,
   "metadata": {},
   "outputs": [
    {
     "data": {
      "text/plain": [
       "<AxesSubplot: xlabel='value', ylabel='Count'>"
      ]
     },
     "execution_count": 54,
     "metadata": {},
     "output_type": "execute_result"
    },
    {
     "data": {
      "image/png": "[encoded data removed]",
      "text/plain": [
       "<Figure size 640x480 with 1 Axes>"
      ]
     },
     "metadata": {},
     "output_type": "display_data"
    }
   ],
   "source": [
    "sns.histplot(data=df_melt, x='value', kde=True)"
   ]
  },
  {
   "attachments": {},
   "cell_type": "markdown",
   "metadata": {},
   "source": [
    "# Bepaling van steekproefomvang\n",
    "\n",
    "- gebruik van t-verdeling, $s^2$\n",
    "\n",
    "$$n \\geq \\frac{t^2 \\sigma^2}{a^2}"
   ]
  },
  {
   "cell_type": "code",
   "execution_count": 55,
   "metadata": {},
   "outputs": [
    {
     "data": {
      "text/plain": [
       "[19.63797341886377, 19.753733824267247, 25.17220689570146]"
      ]
     },
     "execution_count": 55,
     "metadata": {},
     "output_type": "execute_result"
    }
   ],
   "source": [
    "t = stats.t.ppf(1-alpha/2, n, a)\n",
    "std"
   ]
  },
  {
   "cell_type": "code",
   "execution_count": 58,
   "metadata": {},
   "outputs": [],
   "source": [
    "a = np.linspace(10,100, 500)\n",
    "n1 = stds**2 * t**2/a**2\n",
    "dnda = -2*t**2*stds**2/a**3"
   ]
  },
  {
   "cell_type": "code",
   "execution_count": 67,
   "metadata": {},
   "outputs": [
    {
     "data": {
      "image/png": "[encoded data removed]",
      "text/plain": [
       "<Figure size 1200x800 with 2 Axes>"
      ]
     },
     "metadata": {},
     "output_type": "display_data"
    }
   ],
   "source": [
    "fig, (ax1,ax2) = plt.subplots(1,2, figsize=(12,8))\n",
    "ax1.plot(a,n1)\n",
    "ax1.set_xlabel(\"a\")\n",
    "ax1.set_ylabel(\"n\")\n",
    "ax2.plot(a,dnda)\n",
    "ax2.set_xlabel(\"a\")\n",
    "ax2.set_ylabel(\"dn/da\")\n",
    "plt.show()\n"
   ]
  },
  {
   "attachments": {},
   "cell_type": "markdown",
   "metadata": {},
   "source": [
    "# Toetsen\n",
    "\n"
   ]
  },
  {
   "cell_type": "code",
   "execution_count": 60,
   "metadata": {},
   "outputs": [
    {
     "data": {
      "text/html": [
       "<div>\n",
       "<style scoped>\n",
       "    .dataframe tbody tr th:only-of-type {\n",
       "        vertical-align: middle;\n",
       "    }\n",
       "\n",
       "    .dataframe tbody tr th {\n",
       "        vertical-align: top;\n",
       "    }\n",
       "\n",
       "    .dataframe thead th {\n",
       "        text-align: right;\n",
       "    }\n",
       "</style>\n",
       "<table border=\"1\" class=\"dataframe\">\n",
       "  <thead>\n",
       "    <tr style=\"text-align: right;\">\n",
       "      <th></th>\n",
       "      <th>Handbagage</th>\n",
       "      <th>Bodyscan</th>\n",
       "      <th>Douane</th>\n",
       "    </tr>\n",
       "  </thead>\n",
       "  <tbody>\n",
       "    <tr>\n",
       "      <th>0</th>\n",
       "      <td>200</td>\n",
       "      <td>215</td>\n",
       "      <td>218</td>\n",
       "    </tr>\n",
       "    <tr>\n",
       "      <th>1</th>\n",
       "      <td>207</td>\n",
       "      <td>174</td>\n",
       "      <td>183</td>\n",
       "    </tr>\n",
       "    <tr>\n",
       "      <th>2</th>\n",
       "      <td>191</td>\n",
       "      <td>210</td>\n",
       "      <td>210</td>\n",
       "    </tr>\n",
       "    <tr>\n",
       "      <th>3</th>\n",
       "      <td>215</td>\n",
       "      <td>178</td>\n",
       "      <td>225</td>\n",
       "    </tr>\n",
       "    <tr>\n",
       "      <th>4</th>\n",
       "      <td>220</td>\n",
       "      <td>162</td>\n",
       "      <td>235</td>\n",
       "    </tr>\n",
       "    <tr>\n",
       "      <th>5</th>\n",
       "      <td>205</td>\n",
       "      <td>188</td>\n",
       "      <td>179</td>\n",
       "    </tr>\n",
       "    <tr>\n",
       "      <th>6</th>\n",
       "      <td>225</td>\n",
       "      <td>205</td>\n",
       "      <td>230</td>\n",
       "    </tr>\n",
       "    <tr>\n",
       "      <th>7</th>\n",
       "      <td>157</td>\n",
       "      <td>220</td>\n",
       "      <td>267</td>\n",
       "    </tr>\n",
       "    <tr>\n",
       "      <th>8</th>\n",
       "      <td>220</td>\n",
       "      <td>167</td>\n",
       "      <td>201</td>\n",
       "    </tr>\n",
       "    <tr>\n",
       "      <th>9</th>\n",
       "      <td>225</td>\n",
       "      <td>184</td>\n",
       "      <td>196</td>\n",
       "    </tr>\n",
       "  </tbody>\n",
       "</table>\n",
       "</div>"
      ],
      "text/plain": [
       "   Handbagage  Bodyscan  Douane\n",
       "0         200       215     218\n",
       "1         207       174     183\n",
       "2         191       210     210\n",
       "3         215       178     225\n",
       "4         220       162     235\n",
       "5         205       188     179\n",
       "6         225       205     230\n",
       "7         157       220     267\n",
       "8         220       167     201\n",
       "9         225       184     196"
      ]
     },
     "execution_count": 60,
     "metadata": {},
     "output_type": "execute_result"
    }
   ],
   "source": [
    "df"
   ]
  },
  {
   "cell_type": "code",
   "execution_count": 61,
   "metadata": {},
   "outputs": [
    {
     "name": "stdout",
     "output_type": "stream",
     "text": [
      "186.64749790831127 220.81916875835537\n"
     ]
    }
   ],
   "source": [
    "print(xmin, xmax)"
   ]
  },
  {
   "attachments": {},
   "cell_type": "markdown",
   "metadata": {},
   "source": [
    "$$\\mu = \\bar{x} \\pm t \\frac{s}{\\sqrt{n}}$$"
   ]
  }
 ],
 "metadata": {
  "kernelspec": {
   "display_name": "python",
   "language": "python",
   "name": "python3"
  },
  "language_info": {
   "codemirror_mode": {
    "name": "ipython",
    "version": 3
   },
   "file_extension": ".py",
   "mimetype": "text/x-python",
   "name": "python",
   "nbconvert_exporter": "python",
   "pygments_lexer": "ipython3",
   "version": "3.10.9"
  },
  "orig_nbformat": 4,
  "vscode": {
   "interpreter": {
    "hash": "3ccefa46025a862862ad053e90b323ecbf4cee7d27c663bb7e84572c6a943d76"
   }
  }
 },
 "nbformat": 4,
 "nbformat_minor": 2
}
