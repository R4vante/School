{
 "cells": [
  {
   "cell_type": "code",
   "execution_count": 2,
   "metadata": {},
   "outputs": [],
   "source": [
    "import numpy as np\n",
    "import matplotlib.pyplot as plt\n",
    "import scipy\n",
    "import pandas as pd\n",
    "import warnings"
   ]
  },
  {
   "cell_type": "code",
   "execution_count": 3,
   "metadata": {},
   "outputs": [],
   "source": [
    "def Print_values(observed):\n",
    "\n",
    "    res = scipy.stats.chi2_contingency(observed=observed) \n",
    "    chi2 = res.statistic\n",
    "    pvalue = res.pvalue\n",
    "    expected = pd.DataFrame(res.expected_freq, columns=['Handbagage', 'Bodyscan', 'Douane'])   \n",
    "\n",
    "    print(\"\\n\", 100*\"-\", \"\\n\")\n",
    "    print(\"\\nH0: There is no relationship between the variables.\\n\")\n",
    "\n",
    "    print(\"\\n\", 100*\"-\", \"\\n\")\n",
    "    print(\"Chi^2: %.3f \\nP-value: %.3g\\n\" %(chi2, pvalue))\n",
    "\n",
    "    if pvalue <= 0.5:\n",
    "        print(\"Null Hypothesis rejected: The test results detect a significant relationship between the variables.\")\n",
    "    \n",
    "    else:\n",
    "        print(\"Null Hypothesis accepted: The test results don't detect a significant relationship between the variables.\")\n",
    "    print(\"\\n\", 100*\"-\", \"\\n\")\n",
    "\n",
    "    return expected"
   ]
  },
  {
   "cell_type": "code",
   "execution_count": 4,
   "metadata": {},
   "outputs": [],
   "source": [
    "def Normal_test(x):\n",
    "    k2, p = scipy.stats.normaltest(x)\n",
    "\n",
    "    print(\"\\n\", 100*\"-\", \"\\n\")\n",
    "    print(\"\\nH0: The results follow a normal distribution.\\n\")\n",
    "\n",
    "    print(\"\\n\", 100*\"-\", \"\\n\")\n",
    "    print(\"k^2: %.3f \\nP-value: %.3g\\n\" %(k2, p))\n",
    "\n",
    "    if p <= 0.5:\n",
    "        print(\"Null Hypothesis rejected: The test results don't detect a significant relationship with the normal distribution.\")\n",
    "    \n",
    "    else:\n",
    "        print(\"Null Hypothesis accepted: The test results detect a significant relationship with the normal distribution.\")\n",
    "    print(\"\\n\", 100*\"-\", \"\\n\")"
   ]
  },
  {
   "cell_type": "code",
   "execution_count": 10,
   "metadata": {},
   "outputs": [
    {
     "data": {
      "text/html": [
       "<div>\n",
       "<style scoped>\n",
       "    .dataframe tbody tr th:only-of-type {\n",
       "        vertical-align: middle;\n",
       "    }\n",
       "\n",
       "    .dataframe tbody tr th {\n",
       "        vertical-align: top;\n",
       "    }\n",
       "\n",
       "    .dataframe thead th {\n",
       "        text-align: right;\n",
       "    }\n",
       "</style>\n",
       "<table border=\"1\" class=\"dataframe\">\n",
       "  <thead>\n",
       "    <tr style=\"text-align: right;\">\n",
       "      <th></th>\n",
       "      <th>Handbage</th>\n",
       "      <th>Bodyscan</th>\n",
       "      <th>Douane</th>\n",
       "    </tr>\n",
       "  </thead>\n",
       "  <tbody>\n",
       "    <tr>\n",
       "      <th>0</th>\n",
       "      <td>200</td>\n",
       "      <td>215</td>\n",
       "      <td>218</td>\n",
       "    </tr>\n",
       "    <tr>\n",
       "      <th>1</th>\n",
       "      <td>207</td>\n",
       "      <td>174</td>\n",
       "      <td>183</td>\n",
       "    </tr>\n",
       "    <tr>\n",
       "      <th>2</th>\n",
       "      <td>191</td>\n",
       "      <td>210</td>\n",
       "      <td>210</td>\n",
       "    </tr>\n",
       "    <tr>\n",
       "      <th>3</th>\n",
       "      <td>215</td>\n",
       "      <td>178</td>\n",
       "      <td>225</td>\n",
       "    </tr>\n",
       "    <tr>\n",
       "      <th>4</th>\n",
       "      <td>220</td>\n",
       "      <td>162</td>\n",
       "      <td>235</td>\n",
       "    </tr>\n",
       "    <tr>\n",
       "      <th>5</th>\n",
       "      <td>205</td>\n",
       "      <td>188</td>\n",
       "      <td>179</td>\n",
       "    </tr>\n",
       "    <tr>\n",
       "      <th>6</th>\n",
       "      <td>225</td>\n",
       "      <td>205</td>\n",
       "      <td>230</td>\n",
       "    </tr>\n",
       "    <tr>\n",
       "      <th>7</th>\n",
       "      <td>157</td>\n",
       "      <td>220</td>\n",
       "      <td>267</td>\n",
       "    </tr>\n",
       "    <tr>\n",
       "      <th>8</th>\n",
       "      <td>220</td>\n",
       "      <td>167</td>\n",
       "      <td>201</td>\n",
       "    </tr>\n",
       "    <tr>\n",
       "      <th>9</th>\n",
       "      <td>225</td>\n",
       "      <td>184</td>\n",
       "      <td>196</td>\n",
       "    </tr>\n",
       "  </tbody>\n",
       "</table>\n",
       "</div>"
      ],
      "text/plain": [
       "   Handbage  Bodyscan  Douane\n",
       "0       200       215     218\n",
       "1       207       174     183\n",
       "2       191       210     210\n",
       "3       215       178     225\n",
       "4       220       162     235\n",
       "5       205       188     179\n",
       "6       225       205     230\n",
       "7       157       220     267\n",
       "8       220       167     201\n",
       "9       225       184     196"
      ]
     },
     "execution_count": 10,
     "metadata": {},
     "output_type": "execute_result"
    }
   ],
   "source": [
    "df = pd.read_excel(\"Data.xlsx\", header=1)\n",
    "df = df.loc[:, ~df.columns.str.contains(\"^metingnr\")]\n",
    "df = df.loc[:, ~df.columns.str.contains(\"^Unnamed\")]\n",
    "df = df.rename(columns={\"doorlooptijd [s]\":\"Handbage\", \"doorlooptijd [s].1\":\"Bodyscan\", \"doorlooptijd [s].2\":\"Douane\"})\n",
    "df\n"
   ]
  },
  {
   "cell_type": "code",
   "execution_count": null,
   "metadata": {},
   "outputs": [
    {
     "name": "stdout",
     "output_type": "stream",
     "text": [
      "\n",
      " ---------------------------------------------------------------------------------------------------- \n",
      "\n",
      "\n",
      "H0: There is no relationship between the variables.\n",
      "\n",
      "\n",
      " ---------------------------------------------------------------------------------------------------- \n",
      "\n",
      "Chi^2: 50.423 \n",
      "P-value: 1.96e-05\n",
      "\n",
      "Null Hypothesis rejected: The test results detect a significant relationship between the variables.\n",
      "\n",
      " ---------------------------------------------------------------------------------------------------- \n",
      "\n"
     ]
    }
   ],
   "source": [
    "observed = df.iloc[0:9, 0:3]\n",
    "expected = Print_values(observed)\n"
   ]
  },
  {
   "cell_type": "code",
   "execution_count": null,
   "metadata": {},
   "outputs": [
    {
     "data": {
      "text/html": [
       "<div>\n",
       "<style scoped>\n",
       "    .dataframe tbody tr th:only-of-type {\n",
       "        vertical-align: middle;\n",
       "    }\n",
       "\n",
       "    .dataframe tbody tr th {\n",
       "        vertical-align: top;\n",
       "    }\n",
       "\n",
       "    .dataframe thead th {\n",
       "        text-align: right;\n",
       "    }\n",
       "</style>\n",
       "<table border=\"1\" class=\"dataframe\">\n",
       "  <thead>\n",
       "    <tr style=\"text-align: right;\">\n",
       "      <th></th>\n",
       "      <th>Handbagage</th>\n",
       "      <th>Bodyscan</th>\n",
       "      <th>Douane</th>\n",
       "    </tr>\n",
       "  </thead>\n",
       "  <tbody>\n",
       "    <tr>\n",
       "      <th>0</th>\n",
       "      <td>211.498093</td>\n",
       "      <td>197.589795</td>\n",
       "      <td>223.912112</td>\n",
       "    </tr>\n",
       "    <tr>\n",
       "      <th>1</th>\n",
       "      <td>188.443799</td>\n",
       "      <td>176.051571</td>\n",
       "      <td>199.504630</td>\n",
       "    </tr>\n",
       "    <tr>\n",
       "      <th>2</th>\n",
       "      <td>204.147449</td>\n",
       "      <td>190.722535</td>\n",
       "      <td>216.130016</td>\n",
       "    </tr>\n",
       "    <tr>\n",
       "      <th>3</th>\n",
       "      <td>206.486290</td>\n",
       "      <td>192.907572</td>\n",
       "      <td>218.606138</td>\n",
       "    </tr>\n",
       "    <tr>\n",
       "      <th>4</th>\n",
       "      <td>206.152170</td>\n",
       "      <td>192.595424</td>\n",
       "      <td>218.252406</td>\n",
       "    </tr>\n",
       "    <tr>\n",
       "      <th>5</th>\n",
       "      <td>191.116760</td>\n",
       "      <td>178.548756</td>\n",
       "      <td>202.334483</td>\n",
       "    </tr>\n",
       "    <tr>\n",
       "      <th>6</th>\n",
       "      <td>220.519339</td>\n",
       "      <td>206.017796</td>\n",
       "      <td>233.462865</td>\n",
       "    </tr>\n",
       "    <tr>\n",
       "      <th>7</th>\n",
       "      <td>215.173416</td>\n",
       "      <td>201.023425</td>\n",
       "      <td>227.803160</td>\n",
       "    </tr>\n",
       "    <tr>\n",
       "      <th>8</th>\n",
       "      <td>196.462684</td>\n",
       "      <td>183.543127</td>\n",
       "      <td>207.994189</td>\n",
       "    </tr>\n",
       "  </tbody>\n",
       "</table>\n",
       "</div>"
      ],
      "text/plain": [
       "   Handbagage    Bodyscan      Douane\n",
       "0  211.498093  197.589795  223.912112\n",
       "1  188.443799  176.051571  199.504630\n",
       "2  204.147449  190.722535  216.130016\n",
       "3  206.486290  192.907572  218.606138\n",
       "4  206.152170  192.595424  218.252406\n",
       "5  191.116760  178.548756  202.334483\n",
       "6  220.519339  206.017796  233.462865\n",
       "7  215.173416  201.023425  227.803160\n",
       "8  196.462684  183.543127  207.994189"
      ]
     },
     "execution_count": 87,
     "metadata": {},
     "output_type": "execute_result"
    }
   ],
   "source": [
    "expected"
   ]
  },
  {
   "cell_type": "code",
   "execution_count": null,
   "metadata": {},
   "outputs": [
    {
     "name": "stdout",
     "output_type": "stream",
     "text": [
      "\n",
      " ---------------------------------------------------------------------------------------------------- \n",
      "\n",
      "\n",
      "H0: The results follow a normal distribution.\n",
      "\n",
      "\n",
      " ---------------------------------------------------------------------------------------------------- \n",
      "\n",
      "k^2: 9.393 \n",
      "P-value: 0.00913\n",
      "\n",
      "Null Hypothesis rejected: The test results don't detect a significant relationship with the normal distribution.\n",
      "\n",
      " ---------------------------------------------------------------------------------------------------- \n",
      "\n"
     ]
    },
    {
     "name": "stderr",
     "output_type": "stream",
     "text": [
      "c:\\Users\\lteeg\\Documents\\Github\\School\\python\\lib\\site-packages\\scipy\\stats\\_stats_py.py:1736: UserWarning: kurtosistest only valid for n>=20 ... continuing anyway, n=10\n",
      "  warnings.warn(\"kurtosistest only valid for n>=20 ... continuing \"\n",
      "C:\\Users\\lteeg\\AppData\\Local\\Temp\\ipykernel_49732\\1587176214.py:18: UserWarning: user\n",
      "  if warnings.warn(\"user\", UserWarning):\n"
     ]
    }
   ],
   "source": [
    "x = df['Handbage'].values\n",
    "\n",
    "Normal_test(x)"
   ]
  }
 ],
 "metadata": {
  "kernelspec": {
   "display_name": "Python 3",
   "language": "python",
   "name": "python3"
  },
  "language_info": {
   "codemirror_mode": {
    "name": "ipython",
    "version": 3
   },
   "file_extension": ".py",
   "mimetype": "text/x-python",
   "name": "python",
   "nbconvert_exporter": "python",
   "pygments_lexer": "ipython3",
   "version": "3.10.9 (main, Dec 19 2022, 17:35:49) [GCC 12.2.0]"
  },
  "orig_nbformat": 4,
  "vscode": {
   "interpreter": {
    "hash": "e7370f93d1d0cde622a1f8e1c04877d8463912d04d973331ad4851f04de6915a"
   }
  }
 },
 "nbformat": 4,
 "nbformat_minor": 2
}
