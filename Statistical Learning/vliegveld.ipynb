{
 "cells": [
  {
   "cell_type": "code",
   "execution_count": 105,
   "metadata": {},
   "outputs": [],
   "source": [
    "import numpy as np\n",
    "import matplotlib.pyplot as plt\n",
    "import scipy\n",
    "import pandas as pd"
   ]
  },
  {
   "cell_type": "code",
   "execution_count": 106,
   "metadata": {},
   "outputs": [],
   "source": [
    "def Print_values(chi2, pvalue):\n",
    "\n",
    "    print(\"\\n\", 100*\"-\", \"\\n\")\n",
    "    print(\"Chi^2: %.3f \\nP-value: %.3g\\n\" %(chi2, pvalue))\n",
    "\n",
    "    if pvalue <= 0.5:\n",
    "        print(\"Null Hypothesis rejected: The test results detect a significant relationship between the variables.\")\n",
    "    \n",
    "    else:\n",
    "        print(\"Null Hypothesis accepted: The test results don't detect a significant relationship between the variables.\")\n",
    "    print(\"\\n\", 100*\"-\", \"\\n\")"
   ]
  },
  {
   "cell_type": "code",
   "execution_count": 107,
   "metadata": {},
   "outputs": [
    {
     "data": {
      "text/html": [
       "<div>\n",
       "<style scoped>\n",
       "    .dataframe tbody tr th:only-of-type {\n",
       "        vertical-align: middle;\n",
       "    }\n",
       "\n",
       "    .dataframe tbody tr th {\n",
       "        vertical-align: top;\n",
       "    }\n",
       "\n",
       "    .dataframe thead th {\n",
       "        text-align: right;\n",
       "    }\n",
       "</style>\n",
       "<table border=\"1\" class=\"dataframe\">\n",
       "  <thead>\n",
       "    <tr style=\"text-align: right;\">\n",
       "      <th></th>\n",
       "      <th>Handbage</th>\n",
       "      <th>Bodyscan</th>\n",
       "      <th>Douane</th>\n",
       "    </tr>\n",
       "  </thead>\n",
       "  <tbody>\n",
       "    <tr>\n",
       "      <th>0</th>\n",
       "      <td>200</td>\n",
       "      <td>215</td>\n",
       "      <td>218</td>\n",
       "    </tr>\n",
       "    <tr>\n",
       "      <th>1</th>\n",
       "      <td>207</td>\n",
       "      <td>174</td>\n",
       "      <td>183</td>\n",
       "    </tr>\n",
       "    <tr>\n",
       "      <th>2</th>\n",
       "      <td>191</td>\n",
       "      <td>210</td>\n",
       "      <td>210</td>\n",
       "    </tr>\n",
       "    <tr>\n",
       "      <th>3</th>\n",
       "      <td>215</td>\n",
       "      <td>178</td>\n",
       "      <td>225</td>\n",
       "    </tr>\n",
       "    <tr>\n",
       "      <th>4</th>\n",
       "      <td>220</td>\n",
       "      <td>162</td>\n",
       "      <td>235</td>\n",
       "    </tr>\n",
       "    <tr>\n",
       "      <th>5</th>\n",
       "      <td>205</td>\n",
       "      <td>188</td>\n",
       "      <td>179</td>\n",
       "    </tr>\n",
       "    <tr>\n",
       "      <th>6</th>\n",
       "      <td>225</td>\n",
       "      <td>205</td>\n",
       "      <td>230</td>\n",
       "    </tr>\n",
       "    <tr>\n",
       "      <th>7</th>\n",
       "      <td>157</td>\n",
       "      <td>220</td>\n",
       "      <td>267</td>\n",
       "    </tr>\n",
       "    <tr>\n",
       "      <th>8</th>\n",
       "      <td>220</td>\n",
       "      <td>167</td>\n",
       "      <td>201</td>\n",
       "    </tr>\n",
       "    <tr>\n",
       "      <th>9</th>\n",
       "      <td>225</td>\n",
       "      <td>184</td>\n",
       "      <td>196</td>\n",
       "    </tr>\n",
       "  </tbody>\n",
       "</table>\n",
       "</div>"
      ],
      "text/plain": [
       "   Handbage  Bodyscan  Douane\n",
       "0       200       215     218\n",
       "1       207       174     183\n",
       "2       191       210     210\n",
       "3       215       178     225\n",
       "4       220       162     235\n",
       "5       205       188     179\n",
       "6       225       205     230\n",
       "7       157       220     267\n",
       "8       220       167     201\n",
       "9       225       184     196"
      ]
     },
     "execution_count": 107,
     "metadata": {},
     "output_type": "execute_result"
    }
   ],
   "source": [
    "df = pd.read_excel('vliegveld.xlsx', header=1)\n",
    "df = df.loc[:, ~df.columns.str.contains(\"^metingnr\")]\n",
    "df = df.loc[:, ~df.columns.str.contains(\"^Unnamed\")]\n",
    "df = df.rename(columns={\"doorlooptijd [s]\":\"Handbage\", \"doorlooptijd [s].1\":\"Bodyscan\", \"doorlooptijd [s].2\":\"Douane\"})\n",
    "df\n"
   ]
  },
  {
   "cell_type": "code",
   "execution_count": 108,
   "metadata": {},
   "outputs": [],
   "source": [
    "observed = df.iloc[0:9, 0:3]\n",
    "\n",
    "res = scipy.stats.chi2_contingency(observed=observed)\n",
    "expected = pd.DataFrame(res.expected_freq, columns=['Handbage', 'Bodyscan', 'Doane'])\n",
    "chi2 = res.statistic\n",
    "pvalue = res.pvalue"
   ]
  },
  {
   "cell_type": "code",
   "execution_count": 115,
   "metadata": {},
   "outputs": [
    {
     "name": "stdout",
     "output_type": "stream",
     "text": [
      "\n",
      " ---------------------------------------------------------------------------------------------------- \n",
      "\n",
      "Chi^2: 50.423 \n",
      "P-value: 1.96e-05\n",
      "\n",
      "Null Hypothesis rejected: The test results detect a significant relationship between the variables.\n",
      "\n",
      " ---------------------------------------------------------------------------------------------------- \n",
      "\n"
     ]
    }
   ],
   "source": [
    "Print_values(chi2, pvalue)"
   ]
  },
  {
   "cell_type": "code",
   "execution_count": 130,
   "metadata": {},
   "outputs": [
    {
     "name": "stderr",
     "output_type": "stream",
     "text": [
      "c:\\Users\\lteeg\\Documents\\Github\\School\\python\\lib\\site-packages\\scipy\\stats\\_stats_py.py:1736: UserWarning: kurtosistest only valid for n>=20 ... continuing anyway, n=10\n",
      "  warnings.warn(\"kurtosistest only valid for n>=20 ... continuing \"\n"
     ]
    },
    {
     "data": {
      "text/plain": [
       "0.009125338358406515"
      ]
     },
     "execution_count": 130,
     "metadata": {},
     "output_type": "execute_result"
    }
   ],
   "source": [
    "x = df['Handbage'].values\n",
    "\n",
    "k2, p = scipy.stats.normaltest(x)\n",
    "p"
   ]
  }
 ],
 "metadata": {
  "kernelspec": {
   "display_name": "python",
   "language": "python",
   "name": "python3"
  },
  "language_info": {
   "codemirror_mode": {
    "name": "ipython",
    "version": 3
   },
   "file_extension": ".py",
   "mimetype": "text/x-python",
   "name": "python",
   "nbconvert_exporter": "python",
   "pygments_lexer": "ipython3",
   "version": "3.10.8"
  },
  "orig_nbformat": 4,
  "vscode": {
   "interpreter": {
    "hash": "2a59c52a014b2baf96a645a5e1b5479701ce084bc5b6436a8f253b184a60e5ca"
   }
  }
 },
 "nbformat": 4,
 "nbformat_minor": 2
}
