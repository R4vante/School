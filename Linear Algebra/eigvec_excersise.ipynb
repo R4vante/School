{
 "cells": [
  {
   "cell_type": "code",
   "execution_count": 1,
   "metadata": {},
   "outputs": [],
   "source": [
    "import sympy as smp"
   ]
  },
  {
   "cell_type": "markdown",
   "metadata": {},
   "source": [
    "# Eigenvalue and eigenvector problems\n",
    "\n",
    "## problem 1\n",
    "Find the eigenvector and value of the matrix\n",
    "\n",
    "$$ A\\ =\\ \\begin{pmatrix}3 & 0\\\\ 8 & -1\\end{pmatrix}$$"
   ]
  },
  {
   "cell_type": "code",
   "execution_count": 4,
   "metadata": {},
   "outputs": [],
   "source": [
    "A = smp.Matrix([[3,0], [8,-1]])\n",
    "\n",
    "values = [i[0] for i in A.eigenvects()]\n",
    "vectors = [i[2][0] for i in A.eigenvects()]\n"
   ]
  },
  {
   "cell_type": "code",
   "execution_count": 5,
   "metadata": {},
   "outputs": [
    {
     "data": {
      "text/plain": [
       "[-1, 3]"
      ]
     },
     "execution_count": 5,
     "metadata": {},
     "output_type": "execute_result"
    }
   ],
   "source": [
    "values"
   ]
  },
  {
   "cell_type": "code",
   "execution_count": 6,
   "metadata": {},
   "outputs": [
    {
     "data": {
      "text/plain": [
       "[Matrix([\n",
       " [0],\n",
       " [1]]),\n",
       " Matrix([\n",
       " [1/2],\n",
       " [  1]])]"
      ]
     },
     "execution_count": 6,
     "metadata": {},
     "output_type": "execute_result"
    }
   ],
   "source": [
    "vectors"
   ]
  },
  {
   "cell_type": "markdown",
   "metadata": {},
   "source": [
    "So eigenvalues are:\n",
    "\n",
    "$$\\lambda_1\\ =\\ -1$$\n",
    "\n",
    "and,\n",
    "\n",
    "$$\\lambda_2\\ =\\ 3$$\n",
    "\n",
    "and eigenvectors are:\n",
    "\n",
    "$$\\overrightarrow{x_1}\\ =\\ \\begin{pmatrix}0 \\\\ 1\\end{pmatrix}$$\n",
    "\n",
    "and,\n",
    "\n",
    "$$\\overrightarrow{x_2}\\ =\\ \\begin{pmatrix}\\frac{1}{2}\\\\ 1\\end{pmatrix}$$"
   ]
  },
  {
   "cell_type": "markdown",
   "metadata": {},
   "source": [
    "## problem 2\n",
    "Find the eigenvector and value of the matrix\n",
    "\n",
    "$$ A\\ =\\ \\begin{pmatrix}10 & -9\\\\ 4 & -2\\end{pmatrix}$$"
   ]
  },
  {
   "cell_type": "code",
   "execution_count": 11,
   "metadata": {},
   "outputs": [],
   "source": [
    "A = smp.Matrix([[10,-9], [4,-2]])\n",
    "\n",
    "values = [i[0] for i in A.eigenvects()]\n",
    "vectors = [i[2][0] for i in A.eigenvects()]"
   ]
  },
  {
   "cell_type": "code",
   "execution_count": 12,
   "metadata": {},
   "outputs": [
    {
     "data": {
      "text/plain": [
       "[4]"
      ]
     },
     "execution_count": 12,
     "metadata": {},
     "output_type": "execute_result"
    }
   ],
   "source": [
    "values"
   ]
  },
  {
   "cell_type": "code",
   "execution_count": 13,
   "metadata": {},
   "outputs": [
    {
     "data": {
      "text/plain": [
       "[Matrix([\n",
       " [3/2],\n",
       " [  1]])]"
      ]
     },
     "execution_count": 13,
     "metadata": {},
     "output_type": "execute_result"
    }
   ],
   "source": [
    "vectors"
   ]
  },
  {
   "cell_type": "markdown",
   "metadata": {},
   "source": [
    "So eigenvalues are:\n",
    "\n",
    "$$\\lambda\\ =\\ 4$$\n",
    "\n",
    "and eigenvectors are:\n",
    "\n",
    "$$\\overrightarrow{x_1}\\ =\\ \\begin{pmatrix}\\frac{3}{2} \\\\ 1 \\end{pmatrix}$$"
   ]
  },
  {
   "cell_type": "markdown",
   "metadata": {},
   "source": [
    "## problem 3\n",
    "Find the eigenvector and value of the matrix\n",
    "\n",
    "$$ A\\ =\\ \\begin{pmatrix}0 & 3\\\\ 4 & 0\\end{pmatrix}$$"
   ]
  },
  {
   "cell_type": "code",
   "execution_count": 18,
   "metadata": {},
   "outputs": [],
   "source": [
    "A = smp.Matrix([[0, 3], [4,0]])\n",
    "\n",
    "values = [i[0] for i in A.eigenvects()]\n",
    "vectors = [i[2][0] for i in A.eigenvects()]"
   ]
  },
  {
   "cell_type": "code",
   "execution_count": 19,
   "metadata": {},
   "outputs": [
    {
     "data": {
      "text/plain": [
       "[-2*sqrt(3), 2*sqrt(3)]"
      ]
     },
     "execution_count": 19,
     "metadata": {},
     "output_type": "execute_result"
    }
   ],
   "source": [
    "values"
   ]
  },
  {
   "cell_type": "code",
   "execution_count": 20,
   "metadata": {},
   "outputs": [
    {
     "data": {
      "text/plain": [
       "[Matrix([\n",
       " [-sqrt(3)/2],\n",
       " [         1]]),\n",
       " Matrix([\n",
       " [sqrt(3)/2],\n",
       " [        1]])]"
      ]
     },
     "execution_count": 20,
     "metadata": {},
     "output_type": "execute_result"
    }
   ],
   "source": [
    "vectors"
   ]
  },
  {
   "cell_type": "markdown",
   "metadata": {},
   "source": [
    "So eigenvalues are:\n",
    "\n",
    "$$\\lambda_1\\ =\\ \\sqrt{12}$$\n",
    "\n",
    "and,\n",
    "\n",
    "$$\\lambda_2\\ =\\ -\\sqrt{12}$$\n",
    "\n",
    "and eigenvectors are:\n",
    "\n",
    "$$\\overrightarrow{x_1}\\ =\\ \\begin{pmatrix}\\frac{3}{\\sqrt{12}} \\\\ 1\\end{pmatrix}$$\n",
    "\n",
    "and,\n",
    "\n",
    "$$\\overrightarrow{x_2}\\ =\\ \\begin{pmatrix}\\frac{-3}{\\sqrt{12}} \\\\ 1 \\end{pmatrix}$$"
   ]
  },
  {
   "cell_type": "markdown",
   "metadata": {},
   "source": [
    "# "
   ]
  },
  {
   "cell_type": "markdown",
   "metadata": {},
   "source": [
    "## problem 4\n",
    "Find the eigenvector and value of the matrix\n",
    "\n",
    "$$ A\\ =\\ \\begin{pmatrix}-2 & -7\\\\ 1 & 2\\end{pmatrix}$$"
   ]
  },
  {
   "cell_type": "code",
   "execution_count": 24,
   "metadata": {},
   "outputs": [],
   "source": [
    "A = smp.Matrix([[-2, -7], [1, 2]])\n",
    "\n",
    "values = [i[0] for i in A.eigenvects()]\n",
    "vectors = [i[2][0] for i in A.eigenvects()]"
   ]
  },
  {
   "cell_type": "code",
   "execution_count": 25,
   "metadata": {},
   "outputs": [
    {
     "data": {
      "text/plain": [
       "[-sqrt(3)*I, sqrt(3)*I]"
      ]
     },
     "execution_count": 25,
     "metadata": {},
     "output_type": "execute_result"
    }
   ],
   "source": [
    "values"
   ]
  },
  {
   "cell_type": "code",
   "execution_count": 26,
   "metadata": {},
   "outputs": [
    {
     "data": {
      "text/plain": [
       "[Matrix([\n",
       " [-2 - sqrt(3)*I],\n",
       " [             1]]),\n",
       " Matrix([\n",
       " [-2 + sqrt(3)*I],\n",
       " [             1]])]"
      ]
     },
     "execution_count": 26,
     "metadata": {},
     "output_type": "execute_result"
    }
   ],
   "source": [
    "vectors"
   ]
  },
  {
   "cell_type": "markdown",
   "metadata": {},
   "source": [
    "This system doesn't have real eigenvalues/eigenvectors"
   ]
  },
  {
   "cell_type": "markdown",
   "metadata": {},
   "source": [
    "## problem 5\n",
    "Find the eigenvector and value of the matrix\n",
    "\n",
    "$$ A\\ =\\ \\begin{pmatrix}0 & 0\\\\ 0 & 0\\end{pmatrix}$$"
   ]
  },
  {
   "cell_type": "code",
   "execution_count": 27,
   "metadata": {},
   "outputs": [],
   "source": [
    "A = smp.Matrix([[0, 0], [0, 0]])\n",
    "\n",
    "values = [i[0] for i in A.eigenvects()]\n",
    "vectors = [i[2][0] for i in A.eigenvects()]"
   ]
  },
  {
   "cell_type": "code",
   "execution_count": 28,
   "metadata": {},
   "outputs": [
    {
     "data": {
      "text/plain": [
       "[0]"
      ]
     },
     "execution_count": 28,
     "metadata": {},
     "output_type": "execute_result"
    }
   ],
   "source": [
    "values"
   ]
  },
  {
   "cell_type": "code",
   "execution_count": 29,
   "metadata": {},
   "outputs": [
    {
     "data": {
      "text/plain": [
       "[Matrix([\n",
       " [1],\n",
       " [0]])]"
      ]
     },
     "execution_count": 29,
     "metadata": {},
     "output_type": "execute_result"
    }
   ],
   "source": [
    "vectors"
   ]
  },
  {
   "cell_type": "markdown",
   "metadata": {},
   "source": [
    "So eigenvalues are:\n",
    "\n",
    "$$\\lambda\\ =\\ 0$$\n",
    "\n",
    "and eigenvectors are:\n",
    "\n",
    "$$\\overrightarrow{x_1}\\ =\\ \\begin{pmatrix}1 \\\\ 0 \\end{pmatrix}$$"
   ]
  },
  {
   "cell_type": "markdown",
   "metadata": {},
   "source": [
    "## problem 5\n",
    "Find the eigenvector and value of the matrix\n",
    "\n",
    "$$ A\\ =\\ \\begin{pmatrix}0 & 0\\\\ 0 & 0\\end{pmatrix}$$"
   ]
  },
  {
   "cell_type": "code",
   "execution_count": 30,
   "metadata": {},
   "outputs": [],
   "source": [
    "A = smp.Matrix([[1, 0], [0, 1]])\n",
    "\n",
    "values = [i[0] for i in A.eigenvects()]\n",
    "vectors = [i[2][0] for i in A.eigenvects()]"
   ]
  },
  {
   "cell_type": "code",
   "execution_count": 31,
   "metadata": {},
   "outputs": [
    {
     "data": {
      "text/plain": [
       "[1]"
      ]
     },
     "execution_count": 31,
     "metadata": {},
     "output_type": "execute_result"
    }
   ],
   "source": [
    "values"
   ]
  },
  {
   "cell_type": "code",
   "execution_count": 32,
   "metadata": {},
   "outputs": [
    {
     "data": {
      "text/plain": [
       "[Matrix([\n",
       " [1],\n",
       " [0]])]"
      ]
     },
     "execution_count": 32,
     "metadata": {},
     "output_type": "execute_result"
    }
   ],
   "source": [
    "vectors"
   ]
  },
  {
   "cell_type": "markdown",
   "metadata": {},
   "source": [
    "So eigenvalues are:\n",
    "\n",
    "$$\\lambda\\ =\\ 1$$\n",
    "\n",
    "and eigenvectors are:\n",
    "\n",
    "$$\\overrightarrow{x_1}\\ =\\ \\begin{pmatrix}0 \\\\ 1 \\end{pmatrix}$$"
   ]
  }
 ],
 "metadata": {
  "kernelspec": {
   "display_name": "Python 3.10.6 64-bit",
   "language": "python",
   "name": "python3"
  },
  "language_info": {
   "codemirror_mode": {
    "name": "ipython",
    "version": 3
   },
   "file_extension": ".py",
   "mimetype": "text/x-python",
   "name": "python",
   "nbconvert_exporter": "python",
   "pygments_lexer": "ipython3",
   "version": "3.10.6"
  },
  "orig_nbformat": 4,
  "vscode": {
   "interpreter": {
    "hash": "e7370f93d1d0cde622a1f8e1c04877d8463912d04d973331ad4851f04de6915a"
   }
  }
 },
 "nbformat": 4,
 "nbformat_minor": 2
}
