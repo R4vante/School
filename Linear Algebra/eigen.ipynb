{
 "cells": [
  {
   "cell_type": "code",
   "execution_count": 2,
   "metadata": {},
   "outputs": [],
   "source": [
    "import numpy as np\n",
    "import sympy as smp`"
   ]
  },
  {
   "cell_type": "markdown",
   "metadata": {},
   "source": [
    "# Eigenvalue Problem with Sympy\n",
    "\n",
    "Find the eigenvalues and eigenvectors of the following matrix\n",
    "\n",
    "$$A\\ =\\ \\begin{pmatrix}1 & 6\\\\ 5 & 2\\end{pmatrix}$$"
   ]
  },
  {
   "cell_type": "markdown",
   "metadata": {},
   "source": [
    "## Solution\n",
    "\n",
    "The eigenvalues and eigenvectors of a matrix can be found with\n",
    "\n",
    "$$ A\\ \\overrightarrow{x}\\ =\\ \\lambda\\ \\overrightarrow{x}$$\n",
    "\n",
    "Where $\\lambda$ are the eigenvalues and $\\overrightarrow{x}$ are the eigenvectors.\n",
    "\n",
    "To solve this eigenvalue problem, the eigenvalues have to be found first. So bringing $\\lambda$ to the left side we get\n",
    "\n",
    "$$\\left(A\\ -\\ \\lambda\\ I\\right)\\ \\overrightarrow{x}\\ =\\ \\overrightarrow{x}$$\n",
    "\n",
    "To extract the eigenvalues, the determinant of the matrix $A\\ -\\ \\lambda I$ is set to 0\n",
    "\n",
    "$$det\\left(A\\ -\\ \\lambda\\ I\\right)\\ =\\ \\begin{pmatrix}a_{11} - \\lambda & a_{12}\\ & \\cdots & a_{1n}\\\\ &  & & \\\\ a_{21} & a_{22} - \\lambda & \\ddots & \\\\ &  & & \\\\ & \\ddots & \\ddots & a_{n-1, n} \\\\ a_{n1}& a_{n2} & \\dots & a_{nn} - \\lambda \\\\\\end{pmatrix}\\ =\\ 0$$\n",
    "\n",
    "This gives a characteristic polynomial, which can be solved for $\\lambda$.\n",
    "\n",
    "\n",
    "After finding the eigenvalues, the eigenvalues are put back in to the original formula\n",
    "$$ A\\ \\overrightarrow{x}\\ =\\ \\lambda\\ \\overrightarrow{x}$$\n",
    "\n",
    "to find the eigenvectors $\\overrightarrow{x}$"
   ]
  },
  {
   "cell_type": "markdown",
   "metadata": {},
   "source": [
    "## With Sympy\n",
    "\n",
    "In Sympy create a the matrix \n",
    "$$ A\\ =\\ \\begin{pmatrix}1 & 6 \\\\ 5 & 2\\end{pmatrix}$$\n",
    "with the `Matrix` function."
   ]
  },
  {
   "cell_type": "code",
   "execution_count": 71,
   "metadata": {},
   "outputs": [
    {
     "data": {
      "text/latex": [
       "$\\displaystyle \\left[\\begin{matrix}1 & 6\\\\5 & 2\\end{matrix}\\right]$"
      ],
      "text/plain": [
       "Matrix([\n",
       "[1, 6],\n",
       "[5, 2]])"
      ]
     },
     "execution_count": 71,
     "metadata": {},
     "output_type": "execute_result"
    }
   ],
   "source": [
    "A = smp.Matrix([[1,6], [5,2]])\n",
    "A"
   ]
  },
  {
   "cell_type": "markdown",
   "metadata": {},
   "source": [
    "To find the eigenvalues of the Matrix $A$, the `.eigenvals()` function of the matrix A"
   ]
  },
  {
   "cell_type": "code",
   "execution_count": 56,
   "metadata": {},
   "outputs": [
    {
     "data": {
      "text/plain": [
       "{7: 1, -4: 1}"
      ]
     },
     "execution_count": 56,
     "metadata": {},
     "output_type": "execute_result"
    }
   ],
   "source": [
    "values = A.eigenvals()\n",
    "values"
   ]
  },
  {
   "cell_type": "markdown",
   "metadata": {},
   "source": [
    "This function returns a dictionary, were the keys are the eigenvalues and the values are the algebraic multiplication (how many eigenvectors a associated with the eigenvalue). In this case both algebraic multiplications are $1$, which means we have $2$ eigenvectors ($1$ for both eigenvalue).\n",
    "\n",
    "To only extract the eigenvalues, extract the keys of the dictionary and list them."
   ]
  },
  {
   "cell_type": "code",
   "execution_count": null,
   "metadata": {},
   "outputs": [
    {
     "data": {
      "text/plain": [
       "[7, -4]"
      ]
     },
     "execution_count": 61,
     "metadata": {},
     "output_type": "execute_result"
    }
   ],
   "source": [
    "list(values.keys())"
   ]
  },
  {
   "cell_type": "markdown",
   "metadata": {},
   "source": [
    "To calculate the eigenvectors, the `.eigenvects()` fucntions is called."
   ]
  },
  {
   "cell_type": "code",
   "execution_count": 63,
   "metadata": {},
   "outputs": [
    {
     "data": {
      "text/plain": [
       "[(-4,\n",
       "  1,\n",
       "  [Matrix([\n",
       "   [-6/5],\n",
       "   [   1]])]),\n",
       " (7,\n",
       "  1,\n",
       "  [Matrix([\n",
       "   [1],\n",
       "   [1]])])]"
      ]
     },
     "execution_count": 63,
     "metadata": {},
     "output_type": "execute_result"
    }
   ],
   "source": [
    "vectors = A.eigenvects()\n",
    "vectors"
   ]
  },
  {
   "cell_type": "markdown",
   "metadata": {},
   "source": [
    "In this example, the `eigenvects()` function returns a list of 2 tuples. Every tuple represents a eigenvector and contains:\n",
    "- The eigenvalue,\n",
    "- The algebraic multiplication,\n",
    "- The eigenvector.\n",
    "\n",
    "To extract the first eigenvector, We have to return:\n",
    "- The first element of the list (returns the tuple of value, multiplication, vector)\n",
    "- Then the second element of the tuple (returns the list of eigenvectors, which in this case is only 1 vector)\n",
    "- Then the first element of the list of vectors."
   ]
  },
  {
   "cell_type": "code",
   "execution_count": 68,
   "metadata": {},
   "outputs": [
    {
     "data": {
      "text/latex": [
       "$\\displaystyle \\left[\\begin{matrix}- \\frac{6}{5}\\\\1\\end{matrix}\\right]$"
      ],
      "text/plain": [
       "Matrix([\n",
       "[-6/5],\n",
       "[   1]])"
      ]
     },
     "execution_count": 68,
     "metadata": {},
     "output_type": "execute_result"
    }
   ],
   "source": [
    "vectors[0][2][0]"
   ]
  },
  {
   "cell_type": "markdown",
   "metadata": {},
   "source": [
    "To make a list of all eigenvectors, we can use list comprahansion as follows."
   ]
  },
  {
   "cell_type": "code",
   "execution_count": 69,
   "metadata": {},
   "outputs": [
    {
     "data": {
      "text/plain": [
       "[Matrix([\n",
       " [-6/5],\n",
       " [   1]]),\n",
       " Matrix([\n",
       " [1],\n",
       " [1]])]"
      ]
     },
     "execution_count": 69,
     "metadata": {},
     "output_type": "execute_result"
    }
   ],
   "source": [
    "eigenvecs = [i[2][0] for i in A.eigenvects()]\n",
    "\n",
    "eigenvecs"
   ]
  },
  {
   "cell_type": "markdown",
   "metadata": {},
   "source": [
    "Now the list contains all the eigenvectors of the matrix."
   ]
  },
  {
   "cell_type": "code",
   "execution_count": 70,
   "metadata": {},
   "outputs": [
    {
     "data": {
      "text/latex": [
       "$\\displaystyle \\left[\\begin{matrix}- \\frac{6}{5}\\\\1\\end{matrix}\\right]$"
      ],
      "text/plain": [
       "Matrix([\n",
       "[-6/5],\n",
       "[   1]])"
      ]
     },
     "execution_count": 70,
     "metadata": {},
     "output_type": "execute_result"
    }
   ],
   "source": [
    "eigenvecs[0]"
   ]
  },
  {
   "cell_type": "code",
   "execution_count": 72,
   "metadata": {},
   "outputs": [
    {
     "data": {
      "text/latex": [
       "$\\displaystyle \\left[\\begin{matrix}1\\\\1\\end{matrix}\\right]$"
      ],
      "text/plain": [
       "Matrix([\n",
       "[1],\n",
       "[1]])"
      ]
     },
     "execution_count": 72,
     "metadata": {},
     "output_type": "execute_result"
    }
   ],
   "source": [
    "eigenvecs[1]"
   ]
  }
 ],
 "metadata": {
  "kernelspec": {
   "display_name": "Python 3.10.6 64-bit",
   "language": "python",
   "name": "python3"
  },
  "language_info": {
   "codemirror_mode": {
    "name": "ipython",
    "version": 3
   },
   "file_extension": ".py",
   "mimetype": "text/x-python",
   "name": "python",
   "nbconvert_exporter": "python",
   "pygments_lexer": "ipython3",
   "version": "3.10.6"
  },
  "orig_nbformat": 4,
  "vscode": {
   "interpreter": {
    "hash": "e7370f93d1d0cde622a1f8e1c04877d8463912d04d973331ad4851f04de6915a"
   }
  }
 },
 "nbformat": 4,
 "nbformat_minor": 2
}
