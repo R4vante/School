{
 "cells": [
  {
   "cell_type": "code",
   "execution_count": 14,
   "metadata": {},
   "outputs": [],
   "source": [
    "import numpy as np\n",
    "import matplotlib.pyplot as plt"
   ]
  },
  {
   "cell_type": "code",
   "execution_count": 15,
   "metadata": {},
   "outputs": [],
   "source": [
    "V = np.array([[1, 1, 6], [2, -8, 1], [3, -7, -2], [-4, 6, -7]])"
   ]
  },
  {
   "cell_type": "code",
   "execution_count": 16,
   "metadata": {},
   "outputs": [],
   "source": [
    "def gram_schmidt(V):\n",
    "\n",
    "    n,k = V.shape\n",
    "    U = np.zeros((n,k))\n",
    "\n",
    "    U[:,0] = V[:,0]/np.linalg.norm(V[:,0])\n",
    "\n",
    "    for i in range(1,k):\n",
    "        U[:,i] = V[:,i]\n",
    "\n",
    "        for j in range(0,i):\n",
    "            U[:,i] = U[:,i] - (U[:,j]@U[:,i]) * U[:,j]\n",
    "\n",
    "        U[:,i] = U[:,i]/np.linalg.norm(U[:,i])\n",
    "\n",
    "    return U\n",
    "\n"
   ]
  },
  {
   "cell_type": "code",
   "execution_count": 17,
   "metadata": {},
   "outputs": [
    {
     "data": {
      "text/plain": [
       "array([[ 0.18257419,  0.54772256,  0.36514837],\n",
       "       [ 0.36514837, -0.73029674,  0.54772256],\n",
       "       [ 0.54772256, -0.18257419, -0.73029674],\n",
       "       [-0.73029674, -0.36514837, -0.18257419]])"
      ]
     },
     "execution_count": 17,
     "metadata": {},
     "output_type": "execute_result"
    }
   ],
   "source": [
    "gram_schmidt(V)"
   ]
  }
 ],
 "metadata": {
  "kernelspec": {
   "display_name": "Python 3.10.6 64-bit",
   "language": "python",
   "name": "python3"
  },
  "language_info": {
   "codemirror_mode": {
    "name": "ipython",
    "version": 3
   },
   "file_extension": ".py",
   "mimetype": "text/x-python",
   "name": "python",
   "nbconvert_exporter": "python",
   "pygments_lexer": "ipython3",
   "version": "3.10.6"
  },
  "orig_nbformat": 4,
  "vscode": {
   "interpreter": {
    "hash": "e7370f93d1d0cde622a1f8e1c04877d8463912d04d973331ad4851f04de6915a"
   }
  }
 },
 "nbformat": 4,
 "nbformat_minor": 2
}
