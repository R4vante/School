{
 "cells": [
  {
   "cell_type": "code",
   "execution_count": 1,
   "metadata": {},
   "outputs": [],
   "source": [
    "import numpy as np\n",
    "from scipy.linalg import eigh_tridiagonal\n",
    "import matplotlib.pyplot as plt\n",
    "import matplotlib.animation as PillowWriter\n",
    "from matplotlib import animation\n",
    "\n",
    "#plt.style.use(\"seaborn-v0_8-colorblind\") # Sorry ik ben kleurenblind dus ik moet speciale dingen hebben."
   ]
  },
  {
   "cell_type": "markdown",
   "metadata": {},
   "source": [
    "# Schroedinger met FDM\n",
    "\n",
    "Zoals document al aangaf kan de Schroedingervergelijken numeriek opgelost worden door alles in een big ass tri-diagonale matrix te zetten en er een lineaire algebra opdracht van te maken.\n",
    "\n",
    "$$\n",
    "\\begin{bmatrix}\n",
    "\\frac{1}{\\Delta x'^2}+V'_1 & -\\frac{1}{2 \\Delta x'^2} &   0 & 0...\\\\\n",
    "-\\frac{1}{2 \\Delta x'^2} & \\frac{1}{\\Delta x'^2}+V'_2 & -\\frac{1}{2 \\Delta y^2} & 0... \\\\\n",
    "...& ... & ... & -\\frac{1}{2 \\Delta x^2}\\\\\n",
    "...0 & 0 & -\\frac{1}{2 \\Delta x'^2} & \\frac{1}{\\Delta x'^2}+V'_{N-1}\\\\\n",
    "\\end{bmatrix} \\cdot \\begin{pmatrix}\n",
    "\\psi_1\\\\\n",
    "\\psi_2\\\\\n",
    "\\vdots\\\\\n",
    "\\psi_{N-1}\n",
    "\\end{pmatrix} = E' \\begin{pmatrix}\n",
    "\\psi_1\\\\\n",
    "\\psi_2\\\\\n",
    "\\vdots\\\\\n",
    "\\psi_{N-1}\n",
    "\\end{pmatrix}\n",
    "$$\n",
    "\n",
    "\n",
    "Hier bij zijn: \n",
    "\n",
    "- $E' = \\frac{m L^2}{\\hbar^2} E$\n",
    "- $V' = \\frac{m L^2}{\\hbar^2} V$\n",
    "- $x' = \\frac{x}{L}$\n",
    "\n",
    "dimensieloze grootheden. Dit maakt echter voor het oplossen van $\\psi$ niet uit, aangezien deze sowieso dimensieloos is.\n",
    "\n",
    "Dus volgende dingen zijn nodig in python:\n",
    "\n",
    "- een functie die het potentiaal definieerd.\n",
    "- een functie die onze big ass lineaire algebra probleem oplost."
   ]
  },
  {
   "cell_type": "markdown",
   "metadata": {},
   "source": [
    "# Functie voor potentiaal"
   ]
  },
  {
   "cell_type": "code",
   "execution_count": 2,
   "metadata": {},
   "outputs": [],
   "source": [
    "def V_p(x):\n",
    "\n",
    "    return np.zeros(len(x)) # Voor infinite square well\n",
    "\n",
    "    # return  100* ((x<=0.25) + (x>=0.75)).astype(float) # Voor finite square well"
   ]
  },
  {
   "cell_type": "markdown",
   "metadata": {},
   "source": [
    "# Functie voor het lineaire algebra probleem\n",
    "\n",
    "de tridiagonale matrix bestaat uit:\n",
    "- 1 hoofddiagonaal\n",
    "- 2 gelijke nevendiagonalen\n",
    "\n",
    "Gelukkig of `scipy` en functie om eigenwaarde problemen van tridiagonale matrices op te lossen, dus gebruik ik die lekker. Dus het stappenplan wordt:\n",
    "\n",
    "1. definieer de hoofdiagonaal\n",
    "2. definieer de nevendiagonaal (deze hoeft maar 1 keer gedefinieerd te worden want de de nevendiagonalen moeten altijd gelijk zijn bij een tridiagonale matrix)\n",
    "3. voer de diagonalen aan de eigenwaarden functie van `scipy` en let de magic happen\n",
    "    - de `eigenh_tridiagonal` functie van `scipy` geeft de eigenwaarden en eigenvectoren uit in volgorde: eigenwaarden, eigenvectoren"
   ]
  },
  {
   "cell_type": "code",
   "execution_count": 3,
   "metadata": {},
   "outputs": [],
   "source": [
    "def Schroedinger(x, dx):\n",
    "\n",
    "    main = 1/(dx**2) + V_p(x)[1:-1]\n",
    "    off = -1/(2*dx**2) * np.ones(len(main)-1) # lengte van de nevendiagonalen = lengte van hoofd - 1\n",
    "\n",
    "    E, psi = eigh_tridiagonal(main, off) # psi word uitgegeven als een matrix waarbij elke kolomn een eigenvector is.\n",
    "\n",
    "    return E, psi.T # psi wordt dmv psi.T getransponeerd, zodat elke vector 1 rij wordt.\n",
    "                    # dit hoef je niet te doen maar ik vind het makkelijker met de syntex voor het plotten"
   ]
  },
  {
   "cell_type": "markdown",
   "metadata": {},
   "source": [
    "# Berekening van eigenvectoren\n",
    "\n",
    "Nu de functies al geschreven zijn is het makkelijk om de eigenwaarden en eigenvectoren te berekenen. Het enige wat moet gebeuren is dat $x$ en $dx$ gedefinieerd worden (dimensieloos), en dan worden ze aan de functie `Schroedinger` gevoerd.\n",
    "\n",
    "Vergeet niet dat de randvoorwaarde voor $\\psi$\n",
    "\n",
    "$$\\psi(0) = \\psi(1) = 0$$"
   ]
  },
  {
   "cell_type": "code",
   "execution_count": 4,
   "metadata": {},
   "outputs": [],
   "source": [
    "# Variabelen\n",
    "N = 1000    # aantal gridpoints\n",
    "dx = 1/N    # spacing van gridpoints\n",
    "x = np.linspace(0, 1, N+1)"
   ]
  },
  {
   "cell_type": "code",
   "execution_count": 5,
   "metadata": {},
   "outputs": [],
   "source": [
    "E, psi = Schroedinger(x, dx)"
   ]
  },
  {
   "cell_type": "markdown",
   "metadata": {},
   "source": [
    "# Controle of $\\psi$ genormaliseerd is\n",
    "\n",
    "er kan getest worden op de normaliteit van $\\psi$ door het inproduct te nemen, hierbij geld\n",
    "\n",
    "$$\\psi_i \\cdot \\psi_j = \\delta_{ij}$$\n",
    "\n",
    "inproduct kan in python met @."
   ]
  },
  {
   "cell_type": "code",
   "execution_count": 6,
   "metadata": {},
   "outputs": [
    {
     "data": {
      "text/plain": [
       "1.0000000000000002"
      ]
     },
     "execution_count": 6,
     "metadata": {},
     "output_type": "execute_result"
    }
   ],
   "source": [
    "psi[0]@psi[0] # bijna 1"
   ]
  },
  {
   "cell_type": "code",
   "execution_count": 7,
   "metadata": {},
   "outputs": [
    {
     "data": {
      "text/plain": [
       "1.1322767979563431e-15"
      ]
     },
     "execution_count": 7,
     "metadata": {},
     "output_type": "execute_result"
    }
   ],
   "source": [
    "psi[0]@psi[1] # bijna 0"
   ]
  },
  {
   "cell_type": "markdown",
   "metadata": {},
   "source": [
    "Nu de functie gerund heeft kunnen we kijken naar de eerste 3 energieniveaus"
   ]
  },
  {
   "cell_type": "code",
   "execution_count": 8,
   "metadata": {},
   "outputs": [
    {
     "data": {
      "text/plain": [
       "array([  4.93479814,  19.73914386,  44.41289105,  78.95579618,\n",
       "       123.36751834])"
      ]
     },
     "execution_count": 8,
     "metadata": {},
     "output_type": "execute_result"
    }
   ],
   "source": [
    "E[0:5]"
   ]
  },
  {
   "cell_type": "markdown",
   "metadata": {},
   "source": [
    "Deze zijn dimensieloos, dus om de daadwerkelijke energie te krijgen:\n",
    "\n",
    "$$ E = \\frac{\\hbar^2 E'}{m L^2} $$\n",
    "\n",
    "maar dat doe ik niet want geeft weinig toegevoegde waarde. Je kan ook namelijk dimensieloos plotten."
   ]
  },
  {
   "cell_type": "markdown",
   "metadata": {},
   "source": [
    "# plotten van eerste 4 golffuncties"
   ]
  },
  {
   "cell_type": "markdown",
   "metadata": {},
   "source": [
    "De amplitude van de golffunctie is met 2000 vermenigvuldigd, om de visualisatie beter te maken. Daarom wordt aanbevolen om naar het naar uiteindes te kijken en deze waarde te vergelijken met de hoogte van de put. "
   ]
  },
  {
   "cell_type": "code",
   "execution_count": 9,
   "metadata": {},
   "outputs": [
    {
     "data": {
      "image/png": "[encoded data removed]",
      "text/plain": [
       "<Figure size 432x288 with 1 Axes>"
      ]
     },
     "metadata": {
      "needs_background": "light"
     },
     "output_type": "display_data"
    }
   ],
   "source": [
    "\n",
    "fig, ax = plt.subplots(1,1)\n",
    "ax.grid(True)\n",
    "\n",
    "for i in range(0,4):\n",
    "    ax.plot(x[1:-1], np.abs(psi[i])**2*2000+(E[i]), label=(\"$\\psi_{%i}$\" %i))\n",
    "\n",
    "ax.plot(x, V_p(x), 'k--')\n",
    "# ax.set_yim([0, 18])\n",
    "\n",
    "ax.legend()\n",
    "plt.show()"
   ]
  },
  {
   "cell_type": "code",
   "execution_count": 10,
   "metadata": {},
   "outputs": [
    {
     "data": {
      "text/plain": [
       "(0.0, 44.41289105043846)"
      ]
     },
     "execution_count": 10,
     "metadata": {},
     "output_type": "execute_result"
    }
   ],
   "source": [
    "np.max(V_p(x)), E[2]"
   ]
  },
  {
   "cell_type": "markdown",
   "metadata": {},
   "source": [
    "# Eerste vier waarschijnlijkheden"
   ]
  },
  {
   "cell_type": "code",
   "execution_count": 11,
   "metadata": {},
   "outputs": [],
   "source": [
    "# fig, ax = plt.subplots(1,1)\n",
    "# ax.grid(True)\n",
    "\n",
    "# for i in range(0,3):\n",
    "#     ax.plot(x[1:-1], np.abs(psi[i])**2 + , label=(r\"$\\left|\\psi_{%i}\\right|^2$\" %i))\n",
    "\n",
    "# ax.legend(loc='upper right')\n",
    "# plt.show()"
   ]
  },
  {
   "cell_type": "code",
   "execution_count": 12,
   "metadata": {},
   "outputs": [
    {
     "data": {
      "text/plain": [
       "44.413183277883064"
      ]
     },
     "execution_count": 12,
     "metadata": {},
     "output_type": "execute_result"
    }
   ],
   "source": [
    "E[0]*3**2"
   ]
  },
  {
   "cell_type": "code",
   "execution_count": 13,
   "metadata": {},
   "outputs": [
    {
     "data": {
      "text/plain": [
       "19.739143862960482"
      ]
     },
     "execution_count": 13,
     "metadata": {},
     "output_type": "execute_result"
    }
   ],
   "source": [
    "E[1]"
   ]
  },
  {
   "cell_type": "code",
   "execution_count": 14,
   "metadata": {},
   "outputs": [
    {
     "data": {
      "text/plain": [
       "44.41289105043846"
      ]
     },
     "execution_count": 14,
     "metadata": {},
     "output_type": "execute_result"
    }
   ],
   "source": [
    "E[2]"
   ]
  },
  {
   "cell_type": "markdown",
   "metadata": {},
   "source": [
    "# Energieniveaus plotten"
   ]
  },
  {
   "cell_type": "code",
   "execution_count": 15,
   "metadata": {},
   "outputs": [
    {
     "data": {
      "text/plain": [
       "Text(0.5, 0, '$n$')"
      ]
     },
     "execution_count": 15,
     "metadata": {},
     "output_type": "execute_result"
    },
    {
     "data": {
      "image/png": "[encoded data removed]",
      "text/plain": [
       "<Figure size 432x288 with 1 Axes>"
      ]
     },
     "metadata": {
      "needs_background": "light"
     },
     "output_type": "display_data"
    }
   ],
   "source": [
    "fig, ax = plt.subplots(1,1)\n",
    "\n",
    "ax.bar(np.arange(0, 3), E[:3])\n",
    "ax.set_ylabel(r\"$\\frac{m L^2 E}{\\hbar^2}$\", fontsize=15)\n",
    "ax.set_xlabel(r\"$n$\")"
   ]
  },
  {
   "cell_type": "code",
   "execution_count": 16,
   "metadata": {},
   "outputs": [
    {
     "name": "stderr",
     "output_type": "stream",
     "text": [
      "C:\\Users\\imera\\anaconda3\\lib\\site-packages\\matplotlib\\cbook\\__init__.py:1298: ComplexWarning: Casting complex values to real discards the imaginary part\n",
      "  return np.asarray(x, float)\n"
     ]
    },
    {
     "data": {
      "text/plain": [
       "[<matplotlib.lines.Line2D at 0x2668c691070>]"
      ]
     },
     "execution_count": 16,
     "metadata": {},
     "output_type": "execute_result"
    },
    {
     "data": {
      "image/png": "[encoded data removed]",
      "text/plain": [
       "<Figure size 432x288 with 1 Axes>"
      ]
     },
     "metadata": {
      "needs_background": "light"
     },
     "output_type": "display_data"
    }
   ],
   "source": [
    "t = np.linspace(0,2*np.pi/E[0], 120)\n",
    "index = np.linspace(0,119,120)\n",
    "time = np.exp(-1j*E[0]*t)\n",
    "psi_t= psi[0]*time[50]\n",
    "plt.plot(x[1:-1], psi_t)\n"
   ]
  },
  {
   "cell_type": "code",
   "execution_count": 17,
   "metadata": {},
   "outputs": [
    {
     "name": "stderr",
     "output_type": "stream",
     "text": [
      "MovieWriter ffmpeg unavailable; using Pillow instead.\n",
      "C:\\Users\\imera\\anaconda3\\lib\\site-packages\\matplotlib\\cbook\\__init__.py:1298: ComplexWarning: Casting complex values to real discards the imaginary part\n",
      "  return np.asarray(x, float)\n"
     ]
    },
    {
     "data": {
      "image/png": "[encoded data removed]",
      "text/plain": [
       "<Figure size 432x288 with 1 Axes>"
      ]
     },
     "metadata": {
      "needs_background": "light"
     },
     "output_type": "display_data"
    }
   ],
   "source": [
    "def animate(i):\n",
    "    k=0\n",
    "    time = np.exp(-1j*E[k]*t)\n",
    "    psi_t = psi[k]*time[i]\n",
    "    line.set_data(x[1:-1], psi_t)\n",
    "\n",
    "fig, ax = plt.subplots()\n",
    "line, = ax.plot([],[])\n",
    "ax.set_xlim([0, 1])\n",
    "ani = animation.FuncAnimation(fig, animate, frames=len(t), interval=50)\n",
    "ani.save('ani.gif', fps=30, dpi=100)"
   ]
  },
  {
   "cell_type": "code",
   "execution_count": 22,
   "metadata": {},
   "outputs": [
    {
     "name": "stderr",
     "output_type": "stream",
     "text": [
      "MovieWriter ffmpeg unavailable; using Pillow instead.\n",
      "C:\\Users\\imera\\anaconda3\\lib\\site-packages\\matplotlib\\cbook\\__init__.py:1298: ComplexWarning: Casting complex values to real discards the imaginary part\n",
      "  return np.asarray(x, float)\n"
     ]
    },
    {
     "data": {
      "image/png": "[encoded data removed]",
      "text/plain": [
       "<Figure size 432x288 with 1 Axes>"
      ]
     },
     "metadata": {
      "needs_background": "light"
     },
     "output_type": "display_data"
    }
   ],
   "source": [
    "fig = plt.figure()\n",
    "N = 4\n",
    "\n",
    "#defining how the plot will look\n",
    "plt.axes(xlim=(0, 1), ylim=(0-20, E[N-1]+20))\n",
    "plt.xlabel('Normalized x')\n",
    "plt.ylabel('Energy')\n",
    "\n",
    "#defining the mumber of wavefunctions shown\n",
    "lines = [plt.plot([], [])[0] for _ in range(N)] #lines to animate\n",
    "\n",
    "patches = lines#things to animate\n",
    "\n",
    "#plotting the defined potential in black dotted line\n",
    "pot=plt.plot(x, V_p(x), 'k--')\n",
    "\n",
    "#plotting the energy levels\n",
    "for j in np.linspace(0,N-1,N):\n",
    "    plt.plot(x,np.zeros(len(x))+E[int(j)],'--')\n",
    "    \n",
    "def init():\n",
    "    #init linesb\n",
    "    for line in lines:\n",
    "        line.set_data([], [])\n",
    "\n",
    "    return patches #return everything that must be updated\n",
    "\n",
    "def animate(i):\n",
    "    #animate lines\n",
    "    for k,line in enumerate(lines):\n",
    "        time = np.exp(-1j*E[k]*t)\n",
    "        psi_t = psi[k]*time[i]\n",
    "        line.set_data(x[1:-1], psi_t*100+E[k])\n",
    "        \n",
    "    return patches #return everything that must be updated\n",
    "\n",
    "anim = animation.FuncAnimation(fig, animate, init_func=init,\n",
    "                                frames=len(t), interval=50, blit=True)\n",
    "\n",
    "anim.save('ano.gif', fps=30, dpi=100)"
   ]
  },
  {
   "cell_type": "code",
   "execution_count": 29,
   "metadata": {},
   "outputs": [
    {
     "name": "stderr",
     "output_type": "stream",
     "text": [
      "MovieWriter ffmpeg unavailable; using Pillow instead.\n",
      "C:\\Users\\imera\\anaconda3\\lib\\site-packages\\matplotlib\\cbook\\__init__.py:1298: ComplexWarning: Casting complex values to real discards the imaginary part\n",
      "  return np.asarray(x, float)\n"
     ]
    },
    {
     "data": {
      "image/png": "[encoded data removed]",
      "text/plain": [
       "<Figure size 432x288 with 2 Axes>"
      ]
     },
     "metadata": {
      "needs_background": "light"
     },
     "output_type": "display_data"
    }
   ],
   "source": [
    "fig, (ax1, ax2) = plt.subplots(1,2)\n",
    "\n",
    "#defining how the animted plot will look\n",
    "ax1.set_xlabel('Normalized x')\n",
    "ax1.set_ylabel('Energy')\n",
    "\n",
    "#defining the mumber of wavefunctions shown\n",
    "N = 4\n",
    "lines = [ax1.plot([], [])[0] for _ in range(N)] #lines to animate\n",
    "patches = lines #things to animate\n",
    "\n",
    "\n",
    "\n",
    "#plotting the defined potential in black dotted line\n",
    "pot=ax1.plot(x, V_p(x), 'k--')\n",
    "\n",
    "#plotting the energy levels #AX1\n",
    "for j in np.linspace(0,N-1,N):\n",
    "    ax1.plot(x,np.zeros(len(x))+E[int(j)],'--')\n",
    "\n",
    "\n",
    "def init():\n",
    "    #init linesb\n",
    "    for line in lines:\n",
    "        line.set_data([], [])\n",
    "\n",
    "    return patches #return everything that must be updated\n",
    "\n",
    "def animate(i):\n",
    "    #animate lines\n",
    "    for k,line in enumerate(lines):\n",
    "        time = np.exp(-1j*E[k]*t)\n",
    "        psi_t = psi[k]*time[i]\n",
    "        line.set_data(x[1:-1], psi_t*100+E[k])\n",
    "        \n",
    "    return patches #return everything that must be updated\n",
    "\n",
    "\n",
    "#plotting the psi^2 next to the animation\n",
    "ax1.grid(True)\n",
    "ax2.grid(True)\n",
    "\n",
    "ax1.set(xlim=(0, 1), ylim=(0-20, E[N-1]+20))\n",
    "ax2.set(xlim=(0, 1), ylim=(0-20, E[N-1]+20))\n",
    "\n",
    "#AX2\n",
    "for i in range(0,N):\n",
    "    ax2.plot(x[1:-1], np.abs(psi[i])**2*2000+(E[i]), label=(\"$\\psi_{%i}$\" %i))\n",
    "\n",
    "\n",
    "for j in np.linspace(0,N-1,N):\n",
    "    ax2.plot(x,np.zeros(len(x))+E[int(j)],'--')\n",
    "ax2.plot(x, V_p(x), 'k--')\n",
    "\n",
    "ax2.legend(loc='upper right')\n",
    "anim = animation.FuncAnimation(fig, animate, init_func=init,\n",
    "                                frames=len(t), interval=50, blit=True)\n",
    "\n",
    "anim.save('ano.gif', fps=30, dpi=100)"
   ]
  }
 ],
 "metadata": {
  "kernelspec": {
   "display_name": "Python 3 (ipykernel)",
   "language": "python",
   "name": "python3"
  },
  "language_info": {
   "codemirror_mode": {
    "name": "ipython",
    "version": 3
   },
   "file_extension": ".py",
   "mimetype": "text/x-python",
   "name": "python",
   "nbconvert_exporter": "python",
   "pygments_lexer": "ipython3",
   "version": "3.9.12"
  },
  "vscode": {
   "interpreter": {
    "hash": "2a59c52a014b2baf96a645a5e1b5479701ce084bc5b6436a8f253b184a60e5ca"
   }
  }
 },
 "nbformat": 4,
 "nbformat_minor": 4
}
