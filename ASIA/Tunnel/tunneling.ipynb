{
 "cells": [
  {
   "cell_type": "code",
   "execution_count": 2,
   "metadata": {
    "tags": []
   },
   "outputs": [],
   "source": [
    "import matplotlib\n",
    "import numpy as np\n",
    "# matplotlib.use('Qt4Agg')\n",
    "import matplotlib.pyplot as plt \n",
    "import scipy as sp\n",
    "from scipy.sparse import linalg as ln\n",
    "from scipy import sparse as sparse\n",
    "import matplotlib.animation as animation\n",
    " \n"
   ]
  },
  {
   "attachments": {},
   "cell_type": "markdown",
   "metadata": {},
   "source": [
    "# Hoe werkt de code\n",
    "\n",
    "Het begin van de code lijkt erg op het oplossen van de eindig/oneindig diepe put. Echter wordt nu geen eigenwaarde probleem opgelost, maar een initial wavefunction gegeven.\n",
    "\n",
    "De initial wavefunction voor een Gauss-pakket:\n",
    "\n",
    "$$\\psi(x,0) = \\left(2 \\pi \\sigma^2 \\right)^{-1/4}\\ e^{-(\\frac{x - x_{0}}{2 \\sigma})^2}\\ e^{ikx}$$\n",
    "\n",
    "Dan wordt met de finite infinite method de hamiltonian bepaald. Hieruit volgt dezelfde matrix als bij de putten.\n",
    "\n",
    "$$\n",
    "\\hat{H} = \\begin{bmatrix}\n",
    "\\frac{1}{\\Delta x'^2}+V'_1 & -\\frac{1}{2 \\Delta x'^2} &   0 & 0...\\\\\n",
    "-\\frac{1}{2 \\Delta x'^2} & \\frac{1}{\\Delta x'^2}+V'_2 & -\\frac{1}{2 \\Delta y^2} & 0... \\\\\n",
    "...& ... & ... & -\\frac{1}{2 \\Delta x^2}\\\\\n",
    "...0 & 0 & -\\frac{1}{2 \\Delta x'^2} & \\frac{1}{\\Delta x'^2}+V'_{N-1}\\\\\n",
    "\\end{bmatrix}$$\n",
    "\n",
    "\n",
    "Dan gaan we naar de time dependent Schrödinger vergelijking. \n",
    "\n",
    "$$i \\frac{d \\psi(x,t)}{dt} = H\\psi(x,t)$$\n",
    "\n",
    "\n",
    "Nu wordt er een voorwaartse en een achterwaartse (?) euler methode toepast\n",
    "\n",
    "voorwaatste eulermethode: zelfde principe als FDM, maar dan voor 1e orde diff. vergelijking.\n",
    "\n",
    "$$\\frac{d\\psi(x,t)}{dt} \\approx \\frac{\\psi(x, t + dt) - \\psi(x,t)}{dt}$$\n",
    "\n",
    "Achterwaartse:\n",
    "\n",
    "$$\\frac{d\\psi(x,t)}{dt} \\approx \\frac{\\psi(x,t) - \\psi(x, t-dt)}{dt}$$\n",
    "\n",
    "Bij achterwaartste alles verschuiven met $dt$\n",
    "\n",
    "Achterwaartse verschoven:\n",
    "\n",
    "$$\\frac{d\\psi(x,t+dt)}{dt} \\approx \\frac{\\psi(x,t+dt) - \\psi(x, t)}{dt}$$\n",
    "\n",
    "Beide invullen in de Schrödinger vergelijking geeft een voorwaartse en achterwaartse vergelijking\n",
    "\n",
    "$$\\begin{align*}\n",
    "\\frac{\\psi(x,t+dt) - \\psi(x,t)}{dt} &= -i H \\psi(x,t)\\\\\n",
    "\\frac{\\psi(x,t+dt) - \\psi(x,t)}{dt} &= -i H \\psi(x,t + dt)\n",
    "\\end{align*}$$\n",
    "\n",
    "Formules bij elkaar optellen geeft de **Crank-Nicolson formule**\n",
    "\n",
    "$$\\frac{\\psi(x,t+dt) - \\psi(x,t)}{dt} = \\frac{1}{2i} H \\psi(x,t) + \\frac{1}{2i} H \\psi(x,t + dt)$$\n",
    "\n",
    "Formule oplossen voor $\\psi(x,t+dt)$:\n",
    "\n",
    "$$\\psi(x,t+dt) = \\left(1-\\frac{dt}{2i}H \\right)^{-1}\\left(1+\\frac{dt}{2i}H \\right) \\psi(x,t)$$\n",
    "\n",
    "Dit is weer een lineaire algebra probleem dat snel opgelost kan worden.\n",
    "\n",
    "\n",
    "\n",
    "## Extra note\n",
    "\n",
    "De matrices hebben veel 0-waardes\n",
    "- Gebruik van sparse matrices zeer aangeraden (aangezien de matrices symmetries zijn kunnen de diagonalen als rijen in de sparse matrix opgeslagen worden en hoeven alle 0-waardes niet meegenomen te worden)\n",
    "\n",
    "- implicite en explicite atrices opslaan in csc-format (compressed sparse column)\n",
    "    - De rij-index van alle waardes wordt opgeslagen en de kolomn wordt een pointer (geheugenadres) toegewezen.\n",
    "- Crank-Nicolson matrix in csr-format (compressed sparse row) opslaan\n",
    "    - De kolomn-index van alle waardes wordt opgeslagen en de rij wordt een pointer toegewezen.\n",
    "    - maakt matrix-vector vermenigvuldigen efficiënter.\n",
    "\n",
    "\n",
    "## Extra extra note\n",
    "\n",
    "Het is makkelijker om deze hele uitleg te coderen in een class zodat de golffunctie als class wordt opgeslagen. Daarna kan over de verschillende functies in de class geïttereerd worden de golffunctie over de x-as te verschuiven door de tijdseenheid aan te passen\n",
    "\n",
    "\n",
    "\n"
   ]
  },
  {
   "cell_type": "code",
   "execution_count": 3,
   "metadata": {},
   "outputs": [],
   "source": [
    "class Wave_packet:\n",
    "    def __init__(self, N, dt, sigma0=5.0, k0=1.0, x0=-150.0, x_begin=-200.0,\n",
    "                x_end=200.0, barrier_height=1.0, barrier_width=3.0):\n",
    "        \n",
    "        self.N = N\n",
    "        self.dt = dt\n",
    "        self.sigma0 = sigma0\n",
    "        self.k0 = k0\n",
    "        self.x0 = x0\n",
    "        self.x_begin = x_begin\n",
    "        self.x_end = x_end\n",
    "        self.barrier_height = barrier_height\n",
    "        self.barrier_width = barrier_width\n",
    "\n",
    "        self.x, self.dx = np.linspace(self.x_begin, self.x_end, self.N, retstep=True)\n",
    "\n",
    "        norm = (2.0 * np.pi * self.sigma0**2)**(-0.25)\n",
    "\n",
    "        self.psi = norm * np.exp(-(self.x - self.x0)**2 / (4.0 * self.sigma0**2))*np.exp(1.0j * self.k0 * self.x)\n",
    "        self.potential = self.barrier_height * ((self.x >= 0) * (self.x < self.barrier_width )).astype(float)\n",
    "        main = 1/(self.dx**2) * np.ones(self.N) + self.potential\n",
    "        off = -1/(2*self.dx**2) * np.ones(len(main)-1)\n",
    "        H = sparse.diags([main, off, off], [0, 1, -1])\n",
    "\n",
    "        implicit = (sparse.eye(self.N) - self.dt / 2.0j * H).tocsc()\n",
    "        explicit = (sparse.eye(self.N) + self.dt / 2.0j * H).tocsc()\n",
    "\n",
    "        self.evolution_matrix = ln.inv(implicit).dot(explicit).tocsr()\n",
    "\n",
    "    def evolve(self):\n",
    "        self.psi = self.evolution_matrix.dot(self.psi)\n",
    "        self.prob = abs(self.psi)**2\n",
    "\n",
    "        norm = np.sum(self.prob)\n",
    "\n",
    "        self.prob /= norm\n",
    "        self.psi /= norm**(0.5)\n",
    "\n",
    "        return self.prob"
   ]
  },
  {
   "cell_type": "code",
   "execution_count": 17,
   "metadata": {},
   "outputs": [],
   "source": [
    "class Animator:\n",
    "    \n",
    "    def __init__(self, wavepacket):\n",
    "        self.time = 0.0\n",
    "        self.wavepacket = wavepacket\n",
    "        self.fig, self.ax = plt.subplots()\n",
    "        plt.plot(self.wavepacket.x, self.wavepacket.potential*0.1, color='r')\n",
    "\n",
    "        self.line, = self.ax.plot(self.wavepacket.x, self.wavepacket.evolve())\n",
    "\n",
    "    def time_step(self):\n",
    "\n",
    "        self.prob_b = []\n",
    "        self.prob_a = []\n",
    "\n",
    "        while True:\n",
    "            self.time += self.wavepacket.dt\n",
    "            if wavepacket.x <= 0 :\n",
    "                prob1 = np.sum(np.abs(wavepacket.psi)**2)\n",
    "                prob_b.append(prob1)\n",
    "\n",
    "            yield self.wavepacket.evolve()\n",
    "\n",
    "    def update(self, data):\n",
    "        self.line.set_ydata(data)\n",
    "        return self.line,\n",
    "\n",
    "    def animate(self):\n",
    "        self.ani = animation.FuncAnimation(\n",
    "            self.fig, self.update, frames = self.time_step, interval=5, blit=False, save_count=650\n",
    "        )\n",
    "        writer = animation.PillowWriter(fps=30)\n",
    "        self.ani.save('tunnel.gif', writer=writer)\n",
    "\n",
    "    "
   ]
  },
  {
   "cell_type": "code",
   "execution_count": 16,
   "metadata": {},
   "outputs": [
    {
     "data": {
      "image/png": "[encoded data removed]",
      "text/plain": [
       "<Figure size 640x480 with 1 Axes>"
      ]
     },
     "metadata": {},
     "output_type": "display_data"
    }
   ],
   "source": [
    "packet = Wave_packet(N=500, dt=30, barrier_width=10, barrier_height = 0.5)\n",
    "animator = Animator(packet)\n",
    "animator.animate()\n"
   ]
  },
  {
   "attachments": {},
   "cell_type": "markdown",
   "metadata": {},
   "source": [
    "<img src=\"tunnel.gif\" width=\"750\" align=\"center\">"
   ]
  }
 ],
 "metadata": {
  "kernelspec": {
   "display_name": "asia",
   "language": "python",
   "name": "python3"
  },
  "language_info": {
   "codemirror_mode": {
    "name": "ipython",
    "version": 3
   },
   "file_extension": ".py",
   "mimetype": "text/x-python",
   "name": "python",
   "nbconvert_exporter": "python",
   "pygments_lexer": "ipython3",
   "version": "3.10.9 (main, Dec 19 2022, 17:35:49) [GCC 12.2.0]"
  },
  "vscode": {
   "interpreter": {
    "hash": "a5e2f384641c28e67d700193832bd04b53647cbdcb8e93aa51ba198d160c02f7"
   }
  }
 },
 "nbformat": 4,
 "nbformat_minor": 4
}
