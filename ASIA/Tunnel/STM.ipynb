{
 "cells": [
  {
   "attachments": {},
   "cell_type": "markdown",
   "metadata": {},
   "source": [
    "Als pip geïnstalleerd is (dit kan bij het installeren van python aangegeven worden), kan de volgende cel geuncommend worden om automatisch alle pakketten die nodig zijn te installeren."
   ]
  },
  {
   "cell_type": "code",
   "execution_count": 87,
   "metadata": {},
   "outputs": [],
   "source": [
    "#!pip install numpy scipy matplotlib"
   ]
  },
  {
   "attachments": {},
   "cell_type": "markdown",
   "metadata": {},
   "source": [
    "De pakketten die nodig zijn worden in de python file geïmporteerd. Hierbij is:\n",
    "\n",
    "- `numpy` de numerieke wiskunde module voor het gebruik van bijvoorbeeld e-functies en goniometrische functies.\n",
    "- `scipy` de numerieke solver module voor in dit geval het oplossen van eigenwaarde problemen. `scipy` heeft echter nog meer functies voor bijvoorbeeld het oplossen van differentiaalvergelijkingen en regressiemodules.\n",
    "- `matplotlib` als plot-module.\n",
    "\n",
    "`scipy` en `matplotlib` zijn beide grote pakketten, en niet alles is nodig voor dit programma. Daarom worden alleen specifieke gedeeltes van deze modules geïmporteerd."
   ]
  },
  {
   "cell_type": "code",
   "execution_count": 88,
   "metadata": {},
   "outputs": [],
   "source": [
    "import numpy as np\n",
    "from scipy.linalg import eigh_tridiagonal\n",
    "import matplotlib.pyplot as plt\n",
    "import matplotlib.animation as PillowWriter\n",
    "from matplotlib import animation\n",
    "\n",
    "#plt.style.use(\"seaborn-v0_8-colorblind\") # Sorry ik ben kleurenblind dus ik moet speciale dingen hebben."
   ]
  },
  {
   "attachments": {},
   "cell_type": "markdown",
   "metadata": {},
   "source": [
    "# Schroedinger met FDM\n",
    "\n",
    "Zoals document al aangaf kan de Schroedingervergelijken numeriek opgelost worden door alles in een big ass tri-diagonale matrix te zetten en er een lineaire algebra opdracht van te maken.\n",
    "\n",
    "$$\n",
    "\\begin{bmatrix}\n",
    "\\frac{1}{\\Delta x'^2}+V'_1 & -\\frac{1}{2 \\Delta x'^2} &   0 & 0...\\\\\n",
    "-\\frac{1}{2 \\Delta x'^2} & \\frac{1}{\\Delta x'^2}+V'_2 & -\\frac{1}{2 \\Delta y^2} & 0... \\\\\n",
    "...& ... & ... & -\\frac{1}{2 \\Delta x^2}\\\\\n",
    "...0 & 0 & -\\frac{1}{2 \\Delta x'^2} & \\frac{1}{\\Delta x'^2}+V'_{N-1}\\\\\n",
    "\\end{bmatrix} \\cdot \\begin{pmatrix}\n",
    "\\psi_1\\\\\n",
    "\\psi_2\\\\\n",
    "\\vdots\\\\\n",
    "\\psi_{N-1}\n",
    "\\end{pmatrix} = E' \\begin{pmatrix}\n",
    "\\psi_1\\\\\n",
    "\\psi_2\\\\\n",
    "\\vdots\\\\\n",
    "\\psi_{N-1}\n",
    "\\end{pmatrix}\n",
    "$$\n",
    "\n",
    "\n",
    "Hier bij zijn: \n",
    "\n",
    "- $E' = \\frac{m L^2}{\\hbar^2} E$\n",
    "- $V' = \\frac{m L^2}{\\hbar^2} V$\n",
    "- $x' = \\frac{x}{L}$\n",
    "\n",
    "dimensieloze grootheden. Dit maakt echter voor het oplossen van $\\psi$ niet uit, aangezien deze sowieso dimensieloos is.\n",
    "\n",
    "Dus volgende dingen zijn nodig in python:\n",
    "\n",
    "- een functie die het potentiaal definieerd.\n",
    "- een functie die onze big ass lineaire algebra probleem oplost."
   ]
  },
  {
   "attachments": {},
   "cell_type": "markdown",
   "metadata": {},
   "source": [
    "# Functie voor potentiaal\n",
    "\n",
    "Er wordt een functie gemaakt om het potentiaal te beschrijven. Om een functie te maken in python wordt als eerste het keyword `def` gebruikt om aan te geven dat het om een functie gaat. Vervolgens wordt er een naam aan deze functie gegeven, in dit geval `V_p`. Als laatste wordt tussen haakjes de input variabelen gegeven. Het potentiaal is afhankelijk van de x-as, dus wordt deze variabele `x` genoemd, maar de naam van deze variabele is vrij te kiezen. Vervolgens wordt de regel afgesloten met een dubbele punt.\n",
    "\n",
    "Dan wordt de `return` gedefinieerd. Dit is wat de functie moet teruggeven wanneer deze gebruikt wordt. Hier wordt alleen een vector teruggegeven die de lengte van `x` heeft met alles een waarde nul. Aangezien voor de FDM-methode er randvoorwaarden gesteld worden voor het oplossen, kan er gewoon een potentiaal van $$V(x) = 0 $$ gedefinieerd worden, en zorgen de randvoorwaarden ervoor dat er een oneindig diepe put ontstaat.\n",
    "\n",
    "**Let op** dat alles na de dubbele punt met een tab verschoven is. Dit is om aan het programma aan te geven dat dit allemaal binnen de functie valt. Dit is noodzakelijk om te doen, anders werkt het programma niet.\n"
   ]
  },
  {
   "cell_type": "code",
   "execution_count": 89,
   "metadata": {},
   "outputs": [],
   "source": [
    "def V_p(x):\n",
    "\n",
    "    # return np.zeros(len(x)) # Voor infinite square well\n",
    "\n",
    "    return  100* ((x>=0.25) * (x<=0.75)).astype(float) # Voor finite square well"
   ]
  },
  {
   "attachments": {},
   "cell_type": "markdown",
   "metadata": {},
   "source": [
    "# Functie voor het lineaire algebra probleem\n",
    "\n",
    "de tridiagonale matrix bestaat uit:\n",
    "- 1 hoofddiagonaal\n",
    "- 2 gelijke nevendiagonalen\n",
    "\n",
    "`scipy` heeft een functie om eigenwaarde problemen van tridiagonale matrices op te lossen. Dus het stappenplan wordt:\n",
    "\n",
    "1. definieer de hoofdiagonaal\n",
    "2. definieer de nevendiagonaal (deze hoeft maar 1 keer gedefinieerd te worden want de de nevendiagonalen moeten altijd gelijk zijn bij een tridiagonale matrix)\n",
    "3. voer de diagonalen aan de eigenwaarden functie van `scipy` en let de magic happen\n",
    "    - de `eigenh_tridiagonal` functie van `scipy` geeft de eigenwaarden en eigenvectoren uit in volgorde: eigenwaarden, eigenvectoren\n",
    "    - het gebruik van deze functie is als volgt :\n",
    "    \n",
    " ```python\n",
    " eigenwaarden, eigenvectoren = eigh_tridiagonal(hoofdiagonaal, nevendiagonaal)\n",
    " ```\n",
    " \n",
    "\n",
    "**Let op** dat bij het definiëren van de matrix de eerste en laatste entry van de matrix niet meegenomen worden aangezien deze 0 zijn. Daarom is het noodzakelijk om bij het opstellen van de matrix ook deze entries weg te laten in het potentiaal. Vandaar dat er `V_p(x)[1:-1]` staat. De `[1:-1]` geeft aan dat alles waardes in de lijst meegenomen worden, behalve de eerste en laatste."
   ]
  },
  {
   "cell_type": "code",
   "execution_count": 90,
   "metadata": {},
   "outputs": [],
   "source": [
    "def Schroedinger(x, dx):\n",
    "\n",
    "    main = 1/(dx**2) + V_p(x)[1:-1]\n",
    "    off = -1/(2*dx**2) * np.ones(len(main)-1) # lengte van de nevendiagonalen = lengte van hoofd - 1\n",
    "\n",
    "    E, psi = eigh_tridiagonal(main, off) # psi word uitgegeven als een matrix waarbij elke kolomn een eigenvector is.\n",
    "\n",
    "    return E, psi.T # psi wordt dmv psi.T getransponeerd, zodat elke vector 1 rij wordt.\n",
    "                    # dit hoef je niet te doen maar ik vind het makkelijker met de syntex voor het plotten"
   ]
  },
  {
   "attachments": {},
   "cell_type": "markdown",
   "metadata": {},
   "source": [
    "# Berekening van eigenvectoren\n",
    "\n",
    "Nu de functies al geschreven zijn is het makkelijk om de eigenwaarden en eigenvectoren te berekenen. Het enige wat moet gebeuren is dat $x$ en $dx$ gedefinieerd worden (dimensieloos), en dan worden ze aan de functie `Schroedinger` gegegeven.\n",
    "\n",
    "Vergeet niet dat de randvoorwaarde voor $\\psi$\n",
    "\n",
    "$$\\psi(0) = \\psi(1) = 0$$"
   ]
  },
  {
   "cell_type": "code",
   "execution_count": 91,
   "metadata": {},
   "outputs": [],
   "source": [
    "# Variabelen\n",
    "N = 1000    # aantal gridpoints\n",
    "dx = 1/N    # spacing van gridpoints\n",
    "x = np.linspace(0, 1, N+1)"
   ]
  },
  {
   "cell_type": "code",
   "execution_count": 92,
   "metadata": {},
   "outputs": [
    {
     "data": {
      "image/png": "[encoded data removed]",
      "text/plain": [
       "<Figure size 640x480 with 1 Axes>"
      ]
     },
     "metadata": {},
     "output_type": "display_data"
    }
   ],
   "source": [
    "V = V_p(x)\n",
    "\n",
    "plt.plot(x, V)\n",
    "\n",
    "plt.show()"
   ]
  },
  {
   "cell_type": "code",
   "execution_count": 93,
   "metadata": {},
   "outputs": [],
   "source": [
    "E, psi = Schroedinger(x, dx)"
   ]
  },
  {
   "attachments": {},
   "cell_type": "markdown",
   "metadata": {},
   "source": [
    "# Controle of $\\psi$ genormaliseerd is\n",
    "\n",
    "er kan getest worden op de normaliteit van $\\psi$ door het inproduct te nemen, hierbij geldt\n",
    "\n",
    "$$\\psi_i \\cdot \\psi_j = \\delta_{ij}$$\n",
    "\n",
    "Het inproduct kan in python berekend worden met de `@` operator."
   ]
  },
  {
   "cell_type": "code",
   "execution_count": 94,
   "metadata": {},
   "outputs": [
    {
     "data": {
      "text/plain": [
       "0.9999999999999998"
      ]
     },
     "execution_count": 94,
     "metadata": {},
     "output_type": "execute_result"
    }
   ],
   "source": [
    "psi[0]@psi[0] # bijna 1"
   ]
  },
  {
   "cell_type": "code",
   "execution_count": 95,
   "metadata": {},
   "outputs": [
    {
     "data": {
      "text/plain": [
       "1.7339026481113585e-15"
      ]
     },
     "execution_count": 95,
     "metadata": {},
     "output_type": "execute_result"
    }
   ],
   "source": [
    "psi[0]@psi[1] # bijna 0"
   ]
  },
  {
   "attachments": {},
   "cell_type": "markdown",
   "metadata": {},
   "source": [
    "Nu de functie gerund heeft kunnen we kijken naar de eerste 3 energieniveaus. Pas op dat deze dimensieloos zijn, dus wat er uitgegeven wordt is\n",
    "\n",
    "$$E'= \\frac{mL^2E}{\\hbar^2}$$"
   ]
  },
  {
   "cell_type": "code",
   "execution_count": 96,
   "metadata": {},
   "outputs": [
    {
     "data": {
      "text/plain": [
       "array([ 45.9347632 ,  46.23944218, 113.95606803, 143.4681843 ,\n",
       "       178.50085613])"
      ]
     },
     "execution_count": 96,
     "metadata": {},
     "output_type": "execute_result"
    }
   ],
   "source": [
    "E[0:5]"
   ]
  },
  {
   "attachments": {},
   "cell_type": "markdown",
   "metadata": {},
   "source": [
    "Deze zijn dimensieloos, dus om de daadwerkelijke energie te krijgen:\n",
    "\n",
    "$$ E = \\frac{\\hbar^2 E'}{m L^2} $$\n",
    "\n",
    "maar dat doe ik niet want geeft weinig toegevoegde waarde. Je kan ook namelijk dimensieloos plotten."
   ]
  },
  {
   "attachments": {},
   "cell_type": "markdown",
   "metadata": {},
   "source": [
    "# plotten van eerste 4 golffuncties"
   ]
  },
  {
   "attachments": {},
   "cell_type": "markdown",
   "metadata": {},
   "source": [
    "De volgende cellen geef een algoritme voor het plotten van de golffuncties en hun waarschijnlijkheden. Dit kan eenvoudig gedaan worden met een for-loop. In de for-loop zijn volgende dingen aangegeven.\n",
    "\n",
    "De for-loop begin met het keyword `for` dat aangeeft dat het een for-loop is. Vervolgens wordt de variabele aangegeven waarover geïtereerd dient te worden (hier `i` of `j`. Vervolgens wordt aangegeven over welk bereik geïtereerd wordt. Dit kan een lijst van waardes zijn.\n",
    "\n",
    "De amplitude van de golffunctie is met 2000 vermenigvuldigd, om de visualisatie beter te maken. Daarom wordt aanbevolen om naar het naar uiteindes te kijken en deze waarde te vergelijken met de hoogte van de put. "
   ]
  },
  {
   "cell_type": "code",
   "execution_count": 97,
   "metadata": {},
   "outputs": [
    {
     "data": {
      "image/png": "[encoded data removed]",
      "text/plain": [
       "<Figure size 640x480 with 1 Axes>"
      ]
     },
     "metadata": {},
     "output_type": "display_data"
    }
   ],
   "source": [
    "fig, ax = plt.subplots(1,1)\n",
    "plt.yticks([0, E[0]*2, E[1]*2, E[2]*2] , [r\"0\", r\"$E_1$\", r\"$E_2$\", r\"$E_3$\"])\n",
    "ax.grid(True)\n",
    "\n",
    "plt.gca().set_prop_cycle(None)\n",
    "\n",
    "#plotting the energy levels\n",
    "for j in np.linspace(0,2,3):\n",
    "    plt.plot(x,np.zeros(len(x))+E[int(j)]*2,'--')\n",
    "\n",
    "plt.gca().set_prop_cycle(None)\n",
    "\n",
    "for i in range(0,3):\n",
    "    ax.plot(x[1:-1], psi[i]*200+(E[i]*2), label=(\"$\\psi_{%i}$\" %(i+1)))\n",
    "\n",
    "ax.plot(x, V_p(x)*2, 'k--', label='Potentiaal')\n",
    "\n",
    "ax.set_xlabel(r\"$x'$\", fontsize=12)\n",
    "ax.set_ylabel(r\"$\\psi$\", fontsize=12)\n",
    "\n",
    "handles, labels = plt.gca().get_legend_handles_labels()\n",
    "order = [2, 1, 0, 3]\n",
    "\n",
    "plt.legend([handles[idx] for idx in order],[labels[idx] for idx in order], loc='upper right')\n",
    "\n",
    "plt.show()"
   ]
  }
 ],
 "metadata": {
  "kernelspec": {
   "display_name": "Python 3 (ipykernel)",
   "language": "python",
   "name": "python3"
  },
  "language_info": {
   "codemirror_mode": {
    "name": "ipython",
    "version": 3
   },
   "file_extension": ".py",
   "mimetype": "text/x-python",
   "name": "python",
   "nbconvert_exporter": "python",
   "pygments_lexer": "ipython3",
   "version": "3.10.8"
  },
  "vscode": {
   "interpreter": {
    "hash": "dbd4ca40bb640209166449a79933ef108afea3b1851835b07358926fadb2ba4b"
   }
  }
 },
 "nbformat": 4,
 "nbformat_minor": 4
}
