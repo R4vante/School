{
 "cells": [
  {
   "cell_type": "code",
   "execution_count": 1,
   "metadata": {
    "tags": []
   },
   "outputs": [],
   "source": [
    "import matplotlib\n",
    "import numpy as np\n",
    "# matplotlib.use('Qt4Agg')\n",
    "import matplotlib.pyplot as plt \n",
    "import scipy as sp\n",
    "from scipy.sparse import linalg as ln\n",
    "from scipy import sparse as sparse\n",
    "import matplotlib.animation as animation\n",
    " \n"
   ]
  },
  {
   "attachments": {},
   "cell_type": "markdown",
   "metadata": {},
   "source": [
    "# Initialiseren van de golffunctie"
   ]
  },
  {
   "cell_type": "code",
   "execution_count": 33,
   "metadata": {},
   "outputs": [],
   "source": [
    "class Wave_packet:\n",
    "    def __init__(self, n_points, dt, sigma0=5.0, k0=1.0, x0=-150.0, x_begin=-200.0,\n",
    "                x_end=200.0, barrier_height=1.0, barrier_width=3.0):\n",
    "        \n",
    "        self.n_points = n_points\n",
    "        self.dt = dt\n",
    "        self.sigma0 = sigma0\n",
    "        self.k0 = k0\n",
    "        self.x0 = x0\n",
    "        self.x_begin = x_begin\n",
    "        self.x_end = x_end\n",
    "        self.barrier_height = barrier_height\n",
    "        self.barrier_width = barrier_width\n",
    "\n",
    "        self.x, self.dx = np.linspace(self.x_begin, self.x_end, self.n_points, retstep=True)\n",
    "    \n",
    "    def Potential(self):\n",
    "        self.potential = self.barrier_height * ((self.x >= 0) * (self.x < self.barrier_width )).astype(float)\n",
    "        return self.potential\n",
    "\n",
    "    \n",
    "    def Psi(self):\n",
    "\n",
    "        norm = (2.0 * np.pi * self.sigma0**2)**(-0.25)\n",
    "\n",
    "        self.psi = norm * np.exp(-(self.x - self.x0)**2 / (4.0 * self.sigma0**2))*np.exp(1.0j * self.k0 * self.x)\n",
    "\n",
    "        main = 1/(self.dx**2) + Potential()\n",
    "        off = -1/(2*self.dx**2) * np.ones(len(main)-1)\n",
    "        H = sparse.diags([main, off, off], [0, 1, -1])\n",
    "        return self.psi\n",
    "\n",
    "\n",
    "    "
   ]
  },
  {
   "cell_type": "code",
   "execution_count": 34,
   "metadata": {},
   "outputs": [
    {
     "ename": "NameError",
     "evalue": "name 'Potential' is not defined",
     "output_type": "error",
     "traceback": [
      "\u001b[1;31m---------------------------------------------------------------------------\u001b[0m",
      "\u001b[1;31mNameError\u001b[0m                                 Traceback (most recent call last)",
      "Cell \u001b[1;32mIn[34], line 2\u001b[0m\n\u001b[0;32m      1\u001b[0m packet \u001b[39m=\u001b[39m Wave_packet(n_points\u001b[39m=\u001b[39m\u001b[39m500\u001b[39m, dt\u001b[39m=\u001b[39m\u001b[39m0.5\u001b[39m, sigma0\u001b[39m=\u001b[39m\u001b[39m5\u001b[39m, barrier_width\u001b[39m=\u001b[39m\u001b[39m10\u001b[39m, barrier_height\u001b[39m=\u001b[39m\u001b[39m0.5\u001b[39m)\n\u001b[1;32m----> 2\u001b[0m packet\u001b[39m.\u001b[39;49mPsi()\n",
      "Cell \u001b[1;32mIn[33], line 28\u001b[0m, in \u001b[0;36mWave_packet.Psi\u001b[1;34m(self)\u001b[0m\n\u001b[0;32m     24\u001b[0m norm \u001b[39m=\u001b[39m (\u001b[39m2.0\u001b[39m \u001b[39m*\u001b[39m np\u001b[39m.\u001b[39mpi \u001b[39m*\u001b[39m \u001b[39mself\u001b[39m\u001b[39m.\u001b[39msigma0\u001b[39m*\u001b[39m\u001b[39m*\u001b[39m\u001b[39m2\u001b[39m)\u001b[39m*\u001b[39m\u001b[39m*\u001b[39m(\u001b[39m-\u001b[39m\u001b[39m0.25\u001b[39m)\n\u001b[0;32m     26\u001b[0m \u001b[39mself\u001b[39m\u001b[39m.\u001b[39mpsi \u001b[39m=\u001b[39m norm \u001b[39m*\u001b[39m np\u001b[39m.\u001b[39mexp(\u001b[39m-\u001b[39m(\u001b[39mself\u001b[39m\u001b[39m.\u001b[39mx \u001b[39m-\u001b[39m \u001b[39mself\u001b[39m\u001b[39m.\u001b[39mx0)\u001b[39m*\u001b[39m\u001b[39m*\u001b[39m\u001b[39m2\u001b[39m \u001b[39m/\u001b[39m (\u001b[39m4.0\u001b[39m \u001b[39m*\u001b[39m \u001b[39mself\u001b[39m\u001b[39m.\u001b[39msigma0\u001b[39m*\u001b[39m\u001b[39m*\u001b[39m\u001b[39m2\u001b[39m))\u001b[39m*\u001b[39mnp\u001b[39m.\u001b[39mexp(\u001b[39m1.0\u001b[39mj \u001b[39m*\u001b[39m \u001b[39mself\u001b[39m\u001b[39m.\u001b[39mk0 \u001b[39m*\u001b[39m \u001b[39mself\u001b[39m\u001b[39m.\u001b[39mx)\n\u001b[1;32m---> 28\u001b[0m main \u001b[39m=\u001b[39m \u001b[39m1\u001b[39m\u001b[39m/\u001b[39m(\u001b[39mself\u001b[39m\u001b[39m.\u001b[39mdx\u001b[39m*\u001b[39m\u001b[39m*\u001b[39m\u001b[39m2\u001b[39m) \u001b[39m+\u001b[39m Potential()\n\u001b[0;32m     29\u001b[0m off \u001b[39m=\u001b[39m \u001b[39m-\u001b[39m\u001b[39m1\u001b[39m\u001b[39m/\u001b[39m(\u001b[39m2\u001b[39m\u001b[39m*\u001b[39m\u001b[39mself\u001b[39m\u001b[39m.\u001b[39mdx\u001b[39m*\u001b[39m\u001b[39m*\u001b[39m\u001b[39m2\u001b[39m) \u001b[39m*\u001b[39m np\u001b[39m.\u001b[39mones(\u001b[39mlen\u001b[39m(main)\u001b[39m-\u001b[39m\u001b[39m1\u001b[39m)\n\u001b[0;32m     30\u001b[0m H \u001b[39m=\u001b[39m sparse\u001b[39m.\u001b[39mdiags([main, off, off], [\u001b[39m0\u001b[39m, \u001b[39m1\u001b[39m, \u001b[39m-\u001b[39m\u001b[39m1\u001b[39m])\n",
      "\u001b[1;31mNameError\u001b[0m: name 'Potential' is not defined"
     ]
    }
   ],
   "source": [
    "packet = Wave_packet(n_points=500, dt=0.5, sigma0=5, barrier_width=10, barrier_height=0.5)\n",
    "packet.Psi()"
   ]
  },
  {
   "attachments": {},
   "cell_type": "markdown",
   "metadata": {},
   "source": [
    "# Crank-Nicolson time evolution matrix"
   ]
  }
 ],
 "metadata": {
  "kernelspec": {
   "display_name": "Python 3 (ipykernel)",
   "language": "python",
   "name": "python3"
  },
  "language_info": {
   "codemirror_mode": {
    "name": "ipython",
    "version": 3
   },
   "file_extension": ".py",
   "mimetype": "text/x-python",
   "name": "python",
   "nbconvert_exporter": "python",
   "pygments_lexer": "ipython3",
   "version": "3.10.8"
  }
 },
 "nbformat": 4,
 "nbformat_minor": 4
}
