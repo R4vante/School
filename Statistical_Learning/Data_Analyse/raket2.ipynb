{
 "cells": [
  {
   "cell_type": "code",
   "execution_count": 126,
   "metadata": {},
   "outputs": [],
   "source": [
    "import numpy as np\n",
    "import matplotlib.pyplot as plt\n",
    "import statsmodels.api as sm\n",
    "from statsmodels.formula.api import logit, probit, glm\n",
    "import pandas as pd\n",
    "import seaborn as sns"
   ]
  },
  {
   "cell_type": "code",
   "execution_count": 127,
   "metadata": {},
   "outputs": [
    {
     "data": {
      "text/html": [
       "<div>\n",
       "<style scoped>\n",
       "    .dataframe tbody tr th:only-of-type {\n",
       "        vertical-align: middle;\n",
       "    }\n",
       "\n",
       "    .dataframe tbody tr th {\n",
       "        vertical-align: top;\n",
       "    }\n",
       "\n",
       "    .dataframe thead th {\n",
       "        text-align: right;\n",
       "    }\n",
       "</style>\n",
       "<table border=\"1\" class=\"dataframe\">\n",
       "  <thead>\n",
       "    <tr style=\"text-align: right;\">\n",
       "      <th></th>\n",
       "      <th>test</th>\n",
       "      <th>doel</th>\n",
       "      <th>resultaat</th>\n",
       "      <th>laag</th>\n",
       "      <th>hoog</th>\n",
       "    </tr>\n",
       "  </thead>\n",
       "  <tbody>\n",
       "    <tr>\n",
       "      <th>0</th>\n",
       "      <td>1</td>\n",
       "      <td>400</td>\n",
       "      <td>0</td>\n",
       "      <td>0.087783</td>\n",
       "      <td>0.584570</td>\n",
       "    </tr>\n",
       "    <tr>\n",
       "      <th>1</th>\n",
       "      <td>2</td>\n",
       "      <td>210</td>\n",
       "      <td>1</td>\n",
       "      <td>0.621714</td>\n",
       "      <td>0.985459</td>\n",
       "    </tr>\n",
       "    <tr>\n",
       "      <th>2</th>\n",
       "      <td>3</td>\n",
       "      <td>490</td>\n",
       "      <td>0</td>\n",
       "      <td>0.008746</td>\n",
       "      <td>0.389691</td>\n",
       "    </tr>\n",
       "    <tr>\n",
       "      <th>3</th>\n",
       "      <td>4</td>\n",
       "      <td>220</td>\n",
       "      <td>1</td>\n",
       "      <td>0.602198</td>\n",
       "      <td>0.981017</td>\n",
       "    </tr>\n",
       "    <tr>\n",
       "      <th>4</th>\n",
       "      <td>5</td>\n",
       "      <td>500</td>\n",
       "      <td>0</td>\n",
       "      <td>0.006627</td>\n",
       "      <td>0.372296</td>\n",
       "    </tr>\n",
       "  </tbody>\n",
       "</table>\n",
       "</div>"
      ],
      "text/plain": [
       "   test  doel  resultaat      laag      hoog\n",
       "0     1   400          0  0.087783  0.584570\n",
       "1     2   210          1  0.621714  0.985459\n",
       "2     3   490          0  0.008746  0.389691\n",
       "3     4   220          1  0.602198  0.981017\n",
       "4     5   500          0  0.006627  0.372296"
      ]
     },
     "execution_count": 127,
     "metadata": {},
     "output_type": "execute_result"
    }
   ],
   "source": [
    "df = pd.read_excel(\"data_raket.xlsx\")\n",
    "df = df.rename(columns={'test':'test', 'doel snelheid (in knopen)':'doel', 'resultaat (0=mis 1=raak)':'resultaat'}).copy()\n",
    "df.head()"
   ]
  },
  {
   "cell_type": "code",
   "execution_count": 128,
   "metadata": {},
   "outputs": [],
   "source": [
    "df = df.sort_values(by='doel')"
   ]
  },
  {
   "cell_type": "code",
   "execution_count": 129,
   "metadata": {},
   "outputs": [
    {
     "name": "stdout",
     "output_type": "stream",
     "text": [
      "Optimization terminated successfully.\n",
      "         Current function value: 0.410194\n",
      "         Iterations 6\n"
     ]
    },
    {
     "data": {
      "text/html": [
       "<table class=\"simpletable\">\n",
       "<caption>Logit Regression Results</caption>\n",
       "<tr>\n",
       "  <th>Dep. Variable:</th>       <td>resultaat</td>    <th>  No. Observations:  </th>  <td>    25</td>  \n",
       "</tr>\n",
       "<tr>\n",
       "  <th>Model:</th>                 <td>Logit</td>      <th>  Df Residuals:      </th>  <td>    23</td>  \n",
       "</tr>\n",
       "<tr>\n",
       "  <th>Method:</th>                 <td>MLE</td>       <th>  Df Model:          </th>  <td>     1</td>  \n",
       "</tr>\n",
       "<tr>\n",
       "  <th>Date:</th>            <td>Sat, 15 Apr 2023</td> <th>  Pseudo R-squ.:     </th>  <td>0.4075</td>  \n",
       "</tr>\n",
       "<tr>\n",
       "  <th>Time:</th>                <td>17:29:25</td>     <th>  Log-Likelihood:    </th> <td> -10.255</td> \n",
       "</tr>\n",
       "<tr>\n",
       "  <th>converged:</th>             <td>True</td>       <th>  LL-Null:           </th> <td> -17.309</td> \n",
       "</tr>\n",
       "<tr>\n",
       "  <th>Covariance Type:</th>     <td>nonrobust</td>    <th>  LLR p-value:       </th> <td>0.0001726</td>\n",
       "</tr>\n",
       "</table>\n",
       "<table class=\"simpletable\">\n",
       "<tr>\n",
       "      <td></td>         <th>coef</th>     <th>std err</th>      <th>z</th>      <th>P>|z|</th>  <th>[0.025</th>    <th>0.975]</th>  \n",
       "</tr>\n",
       "<tr>\n",
       "  <th>Intercept</th> <td>    6.0660</td> <td>    2.116</td> <td>    2.867</td> <td> 0.004</td> <td>    1.919</td> <td>   10.213</td>\n",
       "</tr>\n",
       "<tr>\n",
       "  <th>doel</th>      <td>   -0.0177</td> <td>    0.006</td> <td>   -2.908</td> <td> 0.004</td> <td>   -0.030</td> <td>   -0.006</td>\n",
       "</tr>\n",
       "</table>"
      ],
      "text/plain": [
       "<class 'statsmodels.iolib.summary.Summary'>\n",
       "\"\"\"\n",
       "                           Logit Regression Results                           \n",
       "==============================================================================\n",
       "Dep. Variable:              resultaat   No. Observations:                   25\n",
       "Model:                          Logit   Df Residuals:                       23\n",
       "Method:                           MLE   Df Model:                            1\n",
       "Date:                Sat, 15 Apr 2023   Pseudo R-squ.:                  0.4075\n",
       "Time:                        17:29:25   Log-Likelihood:                -10.255\n",
       "converged:                       True   LL-Null:                       -17.309\n",
       "Covariance Type:            nonrobust   LLR p-value:                 0.0001726\n",
       "==============================================================================\n",
       "                 coef    std err          z      P>|z|      [0.025      0.975]\n",
       "------------------------------------------------------------------------------\n",
       "Intercept      6.0660      2.116      2.867      0.004       1.919      10.213\n",
       "doel          -0.0177      0.006     -2.908      0.004      -0.030      -0.006\n",
       "==============================================================================\n",
       "\"\"\""
      ]
     },
     "execution_count": 129,
     "metadata": {},
     "output_type": "execute_result"
    }
   ],
   "source": [
    "model = logit(\"resultaat ~ doel\", data=df).fit()\n",
    "model.summary()"
   ]
  },
  {
   "cell_type": "code",
   "execution_count": 130,
   "metadata": {},
   "outputs": [],
   "source": [
    "linmodel_f = lambda x: model.params.values[0] + x*model.params.values[1]"
   ]
  },
  {
   "cell_type": "code",
   "execution_count": 131,
   "metadata": {},
   "outputs": [
    {
     "data": {
      "text/plain": [
       "10.213342829330536"
      ]
     },
     "execution_count": 131,
     "metadata": {},
     "output_type": "execute_result"
    }
   ],
   "source": [
    "b = model.params.values[0]\n",
    "b + 1.96*2.116"
   ]
  },
  {
   "cell_type": "code",
   "execution_count": 132,
   "metadata": {},
   "outputs": [],
   "source": [
    "b_min = 1.919\n",
    "b_max = 10.213\n",
    "\n",
    "a_min = -0.030\n",
    "a_max = -0.006"
   ]
  },
  {
   "cell_type": "code",
   "execution_count": 139,
   "metadata": {},
   "outputs": [],
   "source": [
    "lower_f = lambda x: b_min + x*a_min\n",
    "upper_f = lambda x: b_max + x*a_max"
   ]
  },
  {
   "cell_type": "code",
   "execution_count": 135,
   "metadata": {},
   "outputs": [],
   "source": [
    "snelheid = np.linspace(min(df.doel), max(df.doel), 100)"
   ]
  },
  {
   "cell_type": "code",
   "execution_count": 136,
   "metadata": {},
   "outputs": [],
   "source": [
    "linmodel = linmodel_f(snelheid)\n",
    "lower = lower_f(snelheid)\n",
    "upper = upper_f(snelheid)"
   ]
  },
  {
   "cell_type": "code",
   "execution_count": 142,
   "metadata": {},
   "outputs": [
    {
     "data": {
      "text/plain": [
       "(array([ 1.81412901,  1.77878274,  1.74343647,  1.7080902 ,  1.67274393,\n",
       "         1.63739766,  1.60205139,  1.56670512,  1.53135885,  1.49601258,\n",
       "         1.46066631,  1.42532004,  1.38997377,  1.3546275 ,  1.31928123,\n",
       "         1.28393496,  1.24858869,  1.21324242,  1.17789615,  1.14254988,\n",
       "         1.10720361,  1.07185734,  1.03651107,  1.0011648 ,  0.96581853,\n",
       "         0.93047226,  0.89512599,  0.85977972,  0.82443345,  0.78908718,\n",
       "         0.75374091,  0.71839464,  0.68304837,  0.6477021 ,  0.61235583,\n",
       "         0.57700956,  0.54166329,  0.50631702,  0.47097075,  0.43562448,\n",
       "         0.40027821,  0.36493194,  0.32958567,  0.2942394 ,  0.25889313,\n",
       "         0.22354686,  0.18820059,  0.15285432,  0.11750805,  0.08216178,\n",
       "         0.04681551,  0.01146924, -0.02387703, -0.0592233 , -0.09456957,\n",
       "        -0.12991584, -0.16526211, -0.20060838, -0.23595465, -0.27130092,\n",
       "        -0.30664719, -0.34199346, -0.37733973, -0.412686  , -0.44803227,\n",
       "        -0.48337854, -0.51872481, -0.55407108, -0.58941735, -0.62476362,\n",
       "        -0.66010989, -0.69545616, -0.73080243, -0.7661487 , -0.80149497,\n",
       "        -0.83684124, -0.87218751, -0.90753378, -0.94288005, -0.97822632,\n",
       "        -1.01357259, -1.04891886, -1.08426513, -1.1196114 , -1.15495767,\n",
       "        -1.19030394, -1.22565021, -1.26099648, -1.29634275, -1.33168902,\n",
       "        -1.36703529, -1.40238156, -1.43772783, -1.4730741 , -1.50842037,\n",
       "        -1.54376664, -1.57911291, -1.61445918, -1.64980545, -1.68515172]),\n",
       " array([-6.47987099, -6.51521726, -6.55056353, -6.5859098 , -6.62125607,\n",
       "        -6.65660234, -6.69194861, -6.72729488, -6.76264115, -6.79798742,\n",
       "        -6.83333369, -6.86867996, -6.90402623, -6.9393725 , -6.97471877,\n",
       "        -7.01006504, -7.04541131, -7.08075758, -7.11610385, -7.15145012,\n",
       "        -7.18679639, -7.22214266, -7.25748893, -7.2928352 , -7.32818147,\n",
       "        -7.36352774, -7.39887401, -7.43422028, -7.46956655, -7.50491282,\n",
       "        -7.54025909, -7.57560536, -7.61095163, -7.6462979 , -7.68164417,\n",
       "        -7.71699044, -7.75233671, -7.78768298, -7.82302925, -7.85837552,\n",
       "        -7.89372179, -7.92906806, -7.96441433, -7.9997606 , -8.03510687,\n",
       "        -8.07045314, -8.10579941, -8.14114568, -8.17649195, -8.21183822,\n",
       "        -8.24718449, -8.28253076, -8.31787703, -8.3532233 , -8.38856957,\n",
       "        -8.42391584, -8.45926211, -8.49460838, -8.52995465, -8.56530092,\n",
       "        -8.60064719, -8.63599346, -8.67133973, -8.706686  , -8.74203227,\n",
       "        -8.77737854, -8.81272481, -8.84807108, -8.88341735, -8.91876362,\n",
       "        -8.95410989, -8.98945616, -9.02480243, -9.0601487 , -9.09549497,\n",
       "        -9.13084124, -9.16618751, -9.20153378, -9.23688005, -9.27222632,\n",
       "        -9.30757259, -9.34291886, -9.37826513, -9.4136114 , -9.44895767,\n",
       "        -9.48430394, -9.51965021, -9.55499648, -9.59034275, -9.62568902,\n",
       "        -9.66103529, -9.69638156, -9.73172783, -9.7670741 , -9.80242037,\n",
       "        -9.83776664, -9.87311291, -9.90845918, -9.94380545, -9.97915172]))"
      ]
     },
     "execution_count": 142,
     "metadata": {},
     "output_type": "execute_result"
    }
   ],
   "source": [
    "std_low = linmodel-lower\n",
    "std_up = linmodel-upper\n",
    "\n",
    "std_low, std_up"
   ]
  },
  {
   "cell_type": "code",
   "execution_count": 137,
   "metadata": {},
   "outputs": [
    {
     "data": {
      "text/plain": [
       "[<matplotlib.lines.Line2D at 0x7f3aee769c60>]"
      ]
     },
     "execution_count": 137,
     "metadata": {},
     "output_type": "execute_result"
    },
    {
     "data": {
      "image/png": "[encoded data removed]",
      "text/plain": [
       "<Figure size 640x480 with 1 Axes>"
      ]
     },
     "metadata": {},
     "output_type": "display_data"
    }
   ],
   "source": [
    "plt.plot(snelheid, 1/(1+np.exp(-lower)))\n",
    "plt.plot(snelheid, 1/(1+np.exp(-lower)), 'g--')\n",
    "plt.plot(snelheid, 1/(1+np.exp(-upper)), 'g--')"
   ]
  },
  {
   "cell_type": "code",
   "execution_count": 138,
   "metadata": {},
   "outputs": [
    {
     "data": {
      "text/plain": [
       "array([ 0.719     ,  0.70081818,  0.68263636,  0.66445455,  0.64627273,\n",
       "        0.62809091,  0.60990909,  0.59172727,  0.57354545,  0.55536364,\n",
       "        0.53718182,  0.519     ,  0.50081818,  0.48263636,  0.46445455,\n",
       "        0.44627273,  0.42809091,  0.40990909,  0.39172727,  0.37354545,\n",
       "        0.35536364,  0.33718182,  0.319     ,  0.30081818,  0.28263636,\n",
       "        0.26445455,  0.24627273,  0.22809091,  0.20990909,  0.19172727,\n",
       "        0.17354545,  0.15536364,  0.13718182,  0.119     ,  0.10081818,\n",
       "        0.08263636,  0.06445455,  0.04627273,  0.02809091,  0.00990909,\n",
       "       -0.00827273, -0.02645455, -0.04463636, -0.06281818, -0.081     ,\n",
       "       -0.09918182, -0.11736364, -0.13554545, -0.15372727, -0.17190909,\n",
       "       -0.19009091, -0.20827273, -0.22645455, -0.24463636, -0.26281818,\n",
       "       -0.281     , -0.29918182, -0.31736364, -0.33554545, -0.35372727,\n",
       "       -0.37190909, -0.39009091, -0.40827273, -0.42645455, -0.44463636,\n",
       "       -0.46281818, -0.481     , -0.49918182, -0.51736364, -0.53554545,\n",
       "       -0.55372727, -0.57190909, -0.59009091, -0.60827273, -0.62645455,\n",
       "       -0.64463636, -0.66281818, -0.681     , -0.69918182, -0.71736364,\n",
       "       -0.73554545, -0.75372727, -0.77190909, -0.79009091, -0.80827273,\n",
       "       -0.82645455, -0.84463636, -0.86281818, -0.881     , -0.89918182,\n",
       "       -0.91736364, -0.93554545, -0.95372727, -0.97190909, -0.99009091,\n",
       "       -1.00827273, -1.02645455, -1.04463636, -1.06281818, -1.081     ])"
      ]
     },
     "execution_count": 138,
     "metadata": {},
     "output_type": "execute_result"
    }
   ],
   "source": [
    "lower"
   ]
  }
 ],
 "metadata": {
  "kernelspec": {
   "display_name": "data",
   "language": "python",
   "name": "python3"
  },
  "language_info": {
   "codemirror_mode": {
    "name": "ipython",
    "version": 3
   },
   "file_extension": ".py",
   "mimetype": "text/x-python",
   "name": "python",
   "nbconvert_exporter": "python",
   "pygments_lexer": "ipython3",
   "version": "3.10.9"
  },
  "orig_nbformat": 4,
  "vscode": {
   "interpreter": {
    "hash": "2cb6172286dbe2efcf0470d3349aae178e130ad4a9599f6510d82d367a241894"
   }
  }
 },
 "nbformat": 4,
 "nbformat_minor": 2
}
