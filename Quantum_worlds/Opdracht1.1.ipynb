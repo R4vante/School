{
 "cells": [
  {
   "cell_type": "code",
   "execution_count": 58,
   "metadata": {},
   "outputs": [],
   "source": [
    "import numpy as np\n",
    "import sympy as smp"
   ]
  },
  {
   "cell_type": "markdown",
   "metadata": {},
   "source": [
    "# Opdracht 1\n",
    "\n",
    "Gegeven zijn de vectoren\n",
    "\n",
    "$$\\ket{A} = \\begin{pmatrix} 2 \\\\ -7i \\\\ 1 \\end{pmatrix}, \\quad \\ket{B} = \\begin{pmatrix}1 + 3i\\\\ 4\\\\ 8 \\end{pmatrix}$$\n",
    "\n",
    "Laat $a = 6 + 5i$.\n",
    "\n",
    "Bereken $a\\ket{A}$, $a\\ket{B}$, $a\\left(\\ket{A} + \\ket{B}\\right)$ en laat zien dat $a\\left(\\ket{A} + \\ket{B}\\right) = a\\ket{A} + a\\ket{B}$\n"
   ]
  },
  {
   "cell_type": "markdown",
   "metadata": {},
   "source": [
    "Als eerste declareren we de variabelen."
   ]
  },
  {
   "cell_type": "code",
   "execution_count": 59,
   "metadata": {},
   "outputs": [],
   "source": [
    "a = 6 + 5*smp.I\n",
    "A = smp.Matrix([[2],[-7*smp.I], [1]])\n",
    "B = smp.Matrix([[1 + 3*smp.I], [4], [8]])"
   ]
  },
  {
   "cell_type": "markdown",
   "metadata": {},
   "source": [
    "Vervolgens wordt $a\\ket{A}$ berekend. "
   ]
  },
  {
   "cell_type": "code",
   "execution_count": 60,
   "metadata": {},
   "outputs": [
    {
     "data": {
      "text/latex": [
       "$\\displaystyle \\left[\\begin{matrix}12 + 10 i\\\\35 - 42 i\\\\6 + 5 i\\end{matrix}\\right]$"
      ],
      "text/plain": [
       "Matrix([\n",
       "[12 + 10*I],\n",
       "[35 - 42*I],\n",
       "[  6 + 5*I]])"
      ]
     },
     "execution_count": 60,
     "metadata": {},
     "output_type": "execute_result"
    }
   ],
   "source": [
    "ans1 = a*A\n",
    "ans1.simplify()\n",
    "ans1"
   ]
  },
  {
   "cell_type": "markdown",
   "metadata": {},
   "source": [
    "Vervolgens wordt $a\\ket{B}$ berekend."
   ]
  },
  {
   "cell_type": "code",
   "execution_count": 61,
   "metadata": {},
   "outputs": [
    {
     "data": {
      "text/latex": [
       "$\\displaystyle \\left[\\begin{matrix}-9 + 23 i\\\\24 + 20 i\\\\48 + 40 i\\end{matrix}\\right]$"
      ],
      "text/plain": [
       "Matrix([\n",
       "[-9 + 23*I],\n",
       "[24 + 20*I],\n",
       "[48 + 40*I]])"
      ]
     },
     "execution_count": 61,
     "metadata": {},
     "output_type": "execute_result"
    }
   ],
   "source": [
    "ans2 = a*B\n",
    "ans2.simplify()\n",
    "ans2"
   ]
  },
  {
   "cell_type": "markdown",
   "metadata": {},
   "source": [
    "Om na te gaan of $a\\left(\\ket{A} + \\ket{B}\\right) = a\\ket{A} + a\\ket{B}$, wordt de linker kant en rechter kant van de vergelijking berekend, om vervolgens te kijken of deze gelijk zijn."
   ]
  },
  {
   "cell_type": "code",
   "execution_count": 62,
   "metadata": {},
   "outputs": [
    {
     "data": {
      "text/latex": [
       "$\\displaystyle \\left[\\begin{matrix}3 + 33 i\\\\59 - 22 i\\\\54 + 45 i\\end{matrix}\\right]$"
      ],
      "text/plain": [
       "Matrix([\n",
       "[ 3 + 33*I],\n",
       "[59 - 22*I],\n",
       "[54 + 45*I]])"
      ]
     },
     "execution_count": 62,
     "metadata": {},
     "output_type": "execute_result"
    }
   ],
   "source": [
    "left = a*(A + B)\n",
    "left.simplify()\n",
    "left"
   ]
  },
  {
   "cell_type": "code",
   "execution_count": 63,
   "metadata": {},
   "outputs": [
    {
     "data": {
      "text/latex": [
       "$\\displaystyle \\left[\\begin{matrix}3 + 33 i\\\\59 - 22 i\\\\54 + 45 i\\end{matrix}\\right]$"
      ],
      "text/plain": [
       "Matrix([\n",
       "[ 3 + 33*I],\n",
       "[59 - 22*I],\n",
       "[54 + 45*I]])"
      ]
     },
     "execution_count": 63,
     "metadata": {},
     "output_type": "execute_result"
    }
   ],
   "source": [
    "right = ans1 + ans2\n",
    "right"
   ]
  },
  {
   "cell_type": "markdown",
   "metadata": {},
   "source": [
    "## Deel b\n",
    "\n",
    "vind het inproduct van $\\langle A \\ket{B}$ en $\\langle B \\ket{A}$."
   ]
  },
  {
   "cell_type": "markdown",
   "metadata": {},
   "source": [
    "Om $\\langle A \\ket{B}$ te berekenen wordt de bra van $A$ in inproduct genomen met de ket van $B$. De ket van $B$ blijft $\\ket{B}$ dus aan deze vector verandert niks, maar de bra van $A$ is de complex-geconjugeerde rij-vector van $\\ket{A}$. Dus $\\ket{A}$ ziet als volgt uit.\n",
    "\n",
    "$$ \\ket{A} = \\begin{pmatrix}2, & -7i, & 1 \\end{pmatrix}$$\n",
    "\n",
    "Vervolgens wordt van deze vector het inproduct genomen met $\\ket{B}$\n",
    "\n",
    "$$\\langle A \\ket{B} = \\begin{pmatrix}2, & -7i, & 1 \\end{pmatrix} \\cdot \\begin{pmatrix}1 + 3i\\\\ 4\\\\ 8 \\end{pmatrix}$$\n",
    "\n",
    "Aangezien er een complex getal als uitkomst is (en niet $0$) betekend het ook dat de vectoren niet orthogonaal zijn."
   ]
  },
  {
   "cell_type": "code",
   "execution_count": 64,
   "metadata": {},
   "outputs": [
    {
     "data": {
      "text/latex": [
       "$\\displaystyle \\left[\\begin{matrix}10 + 34 i\\end{matrix}\\right]$"
      ],
      "text/plain": [
       "Matrix([[10 + 34*I]])"
      ]
     },
     "execution_count": 64,
     "metadata": {},
     "output_type": "execute_result"
    }
   ],
   "source": [
    "A.conjugate().T @ B # A wordt eerst geconjugeerd en dan getransponeerd"
   ]
  },
  {
   "cell_type": "markdown",
   "metadata": {},
   "source": [
    "Voor $\\langle B \\ket{A}$ wordt de complex geconjugeerde rij-vector genomen van $B$. Hieruit volgt\n",
    "\n",
    "$$ \\langle B \\ket{A} = \\begin{pmatrix}1+3i, & 4, & 8 \\end{pmatrix} \\cdot \\begin{pmatrix}2 \\\\ -7i \\\\ 1 \\end{pmatrix}"
   ]
  },
  {
   "cell_type": "code",
   "execution_count": 65,
   "metadata": {},
   "outputs": [
    {
     "data": {
      "text/latex": [
       "$\\displaystyle \\left[\\begin{matrix}10 - 34 i\\end{matrix}\\right]$"
      ],
      "text/plain": [
       "Matrix([[10 - 34*I]])"
      ]
     },
     "execution_count": 65,
     "metadata": {},
     "output_type": "execute_result"
    }
   ],
   "source": [
    "B.conjugate().T @ A # B wordt eerst geconjugeerd en dan getransponeerd"
   ]
  },
  {
   "cell_type": "markdown",
   "metadata": {},
   "source": [
    "Uit de resultaten is te zien, dat de uitkomsten elkaars complex geconjugeerden zijn. De volgende relatie is dan te leggen.\n",
    "\n",
    "$$ \\langle A \\ket{B} = \\langle B \\ket{A}^{*}"
   ]
  },
  {
   "cell_type": "markdown",
   "metadata": {},
   "source": [
    "## Deel c\n",
    "\n",
    "Bereken de norm van beide vectoren."
   ]
  },
  {
   "cell_type": "markdown",
   "metadata": {},
   "source": [
    "De norm is de lengte van een vector en kan berekend worden door de wortel te nemen van het inproduct met zichzelf.\n",
    "\n",
    "$$\\left|\\left|A\\right|\\right| = \\sqrt{\\langle A \\ket{A}}$$\n",
    "\n",
    "hetzelfde geldt voor $B$.\n",
    "\n",
    "$$\\left|\\left|B\\right|\\right| = \\sqrt{\\langle B \\ket{B}}$$"
   ]
  },
  {
   "cell_type": "code",
   "execution_count": 66,
   "metadata": {},
   "outputs": [
    {
     "data": {
      "text/latex": [
       "$\\displaystyle \\sqrt{54}$"
      ],
      "text/plain": [
       "sqrt(54)"
      ]
     },
     "execution_count": 66,
     "metadata": {},
     "output_type": "execute_result"
    }
   ],
   "source": [
    "normA = A.conjugate().T @ A # A wordt eerst complex geconjugeerd en dan getransponeerd voor het inproduct gedaan wordt.\n",
    "normA = normA[0]\n",
    "normA = smp.sqrt(normA, evaluate=False)\n",
    "normA"
   ]
  },
  {
   "cell_type": "code",
   "execution_count": 67,
   "metadata": {},
   "outputs": [
    {
     "data": {
      "text/latex": [
       "$\\displaystyle 3 \\sqrt{10}$"
      ],
      "text/plain": [
       "3*sqrt(10)"
      ]
     },
     "execution_count": 67,
     "metadata": {},
     "output_type": "execute_result"
    }
   ],
   "source": [
    "normB = B.conjugate().T @ B # B wordt eerst geconjugeerd en dan getransponeerd voor het inproduct gedaan wordt.\n",
    "normB = smp.sqrt(normB[0])\n",
    "normB.simplify()"
   ]
  }
 ],
 "metadata": {
  "kernelspec": {
   "display_name": "Python 3.10.5 64-bit",
   "language": "python",
   "name": "python3"
  },
  "language_info": {
   "codemirror_mode": {
    "name": "ipython",
    "version": 3
   },
   "file_extension": ".py",
   "mimetype": "text/x-python",
   "name": "python",
   "nbconvert_exporter": "python",
   "pygments_lexer": "ipython3",
   "version": "3.10.8 (tags/v3.10.8:aaaf517, Oct 11 2022, 16:50:30) [MSC v.1933 64 bit (AMD64)]"
  },
  "orig_nbformat": 4,
  "vscode": {
   "interpreter": {
    "hash": "86921dacddcfdf6e94978ce8f6b8db82f33377b73366ba4a51548eff967f1e24"
   }
  }
 },
 "nbformat": 4,
 "nbformat_minor": 2
}
